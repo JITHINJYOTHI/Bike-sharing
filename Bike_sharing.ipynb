{
  "nbformat": 4,
  "nbformat_minor": 0,
  "metadata": {
    "colab": {
      "name": "Bike sharing.ipynb",
      "provenance": [],
      "collapsed_sections": []
    },
    "kernelspec": {
      "name": "python3",
      "display_name": "Python 3"
    },
    "language_info": {
      "name": "python"
    }
  },
  "cells": [
    {
      "cell_type": "markdown",
      "source": [
        "# **Problem**\n",
        "\n",
        "\n",
        "Goal:\n",
        "Develop a model to find the variables that are significant in the demand for shared bikes with the available independent variables and report appropriate metrics of your model evaluation.\n",
        "\n",
        "Outcome:\n",
        "The variables that are significant in predicting the demand for shared bikes (at least 3).\n",
        "\n",
        "\n",
        "Note:  cnt is the dependent variable"
      ],
      "metadata": {
        "id": "i1k74tyvwR-T"
      }
    },
    {
      "cell_type": "markdown",
      "source": [
        "# **Reading and interpreting data**"
      ],
      "metadata": {
        "id": "f4xwa8nYwMM1"
      }
    },
    {
      "cell_type": "markdown",
      "source": [
        "**Importing the library and  dataset**"
      ],
      "metadata": {
        "id": "ixzTyRzgveHC"
      }
    },
    {
      "cell_type": "code",
      "execution_count": 1684,
      "metadata": {
        "id": "Jy2WvucF7eCX"
      },
      "outputs": [],
      "source": [
        "import pandas as pd\n",
        "import numpy as np\n",
        "import matplotlib.pyplot as plt\n",
        "url='https://raw.githubusercontent.com/JITHINJYOTHI/Bike-sharing/main/day%20-%20day.csv'"
      ]
    },
    {
      "cell_type": "code",
      "source": [
        "#orginal dataset\n",
        "df1= pd.read_csv(url)\n"
      ],
      "metadata": {
        "id": "TF8ebaCV-gXy"
      },
      "execution_count": 1685,
      "outputs": []
    },
    {
      "cell_type": "code",
      "source": [
        "# ignoring warnings\n",
        "\n",
        "import warnings\n",
        "warnings.filterwarnings('ignore')"
      ],
      "metadata": {
        "id": "-tuXfwBRE0D3"
      },
      "execution_count": 1686,
      "outputs": []
    },
    {
      "cell_type": "code",
      "source": [
        "#copy dataset for preserving the orginal dataset\n",
        "df=df1.copy()"
      ],
      "metadata": {
        "id": "-FXQuOTsXhx2"
      },
      "execution_count": 1687,
      "outputs": []
    },
    {
      "cell_type": "code",
      "source": [
        "df.head(8)"
      ],
      "metadata": {
        "colab": {
          "base_uri": "https://localhost:8080/",
          "height": 483
        },
        "id": "-sY9BOlS-n0v",
        "outputId": "35e1d0e4-5036-4943-8f7a-f5505f2b627c"
      },
      "execution_count": 1688,
      "outputs": [
        {
          "output_type": "execute_result",
          "data": {
            "text/plain": [
              "   instant      dteday  season  yr  mnth  holiday  weekday  workingday  \\\n",
              "0        1  01-01-2018       1   0     1        0        1           1   \n",
              "1        2  02-01-2018       1   0     1        0        2           1   \n",
              "2        3  03-01-2018       1   0     1        0        3           1   \n",
              "3        4  04-01-2018       1   0     1        0        4           1   \n",
              "4        5  05-01-2018       1   0     1        0        5           1   \n",
              "5        6  06-01-2018       1   0     1        0        6           0   \n",
              "6        7  07-01-2018       1   0     1        0        0           0   \n",
              "7        8  08-01-2018       1   0     1        0        1           1   \n",
              "\n",
              "   weathersit       temp     atemp      hum  windspeed  casual  registered  \\\n",
              "0           2  14.110847  18.18125  80.5833  10.749882     331         654   \n",
              "1           2  14.902598  17.68695  69.6087  16.652113     131         670   \n",
              "2           1   8.050924   9.47025  43.7273  16.636703     120        1229   \n",
              "3           1   8.200000  10.60610  59.0435  10.739832     108        1454   \n",
              "4           1   9.305237  11.46350  43.6957  12.522300      82        1518   \n",
              "5           1   8.378268  11.66045  51.8261   6.000868      88        1518   \n",
              "6           2   8.057402  10.44195  49.8696  11.304642     148        1362   \n",
              "7           2   6.765000   8.11270  53.5833  17.875868      68         891   \n",
              "\n",
              "    cnt  \n",
              "0   985  \n",
              "1   801  \n",
              "2  1349  \n",
              "3  1562  \n",
              "4  1600  \n",
              "5  1606  \n",
              "6  1510  \n",
              "7   959  "
            ],
            "text/html": [
              "\n",
              "  <div id=\"df-52556f18-6890-463c-9896-7ac9360c9abe\">\n",
              "    <div class=\"colab-df-container\">\n",
              "      <div>\n",
              "<style scoped>\n",
              "    .dataframe tbody tr th:only-of-type {\n",
              "        vertical-align: middle;\n",
              "    }\n",
              "\n",
              "    .dataframe tbody tr th {\n",
              "        vertical-align: top;\n",
              "    }\n",
              "\n",
              "    .dataframe thead th {\n",
              "        text-align: right;\n",
              "    }\n",
              "</style>\n",
              "<table border=\"1\" class=\"dataframe\">\n",
              "  <thead>\n",
              "    <tr style=\"text-align: right;\">\n",
              "      <th></th>\n",
              "      <th>instant</th>\n",
              "      <th>dteday</th>\n",
              "      <th>season</th>\n",
              "      <th>yr</th>\n",
              "      <th>mnth</th>\n",
              "      <th>holiday</th>\n",
              "      <th>weekday</th>\n",
              "      <th>workingday</th>\n",
              "      <th>weathersit</th>\n",
              "      <th>temp</th>\n",
              "      <th>atemp</th>\n",
              "      <th>hum</th>\n",
              "      <th>windspeed</th>\n",
              "      <th>casual</th>\n",
              "      <th>registered</th>\n",
              "      <th>cnt</th>\n",
              "    </tr>\n",
              "  </thead>\n",
              "  <tbody>\n",
              "    <tr>\n",
              "      <th>0</th>\n",
              "      <td>1</td>\n",
              "      <td>01-01-2018</td>\n",
              "      <td>1</td>\n",
              "      <td>0</td>\n",
              "      <td>1</td>\n",
              "      <td>0</td>\n",
              "      <td>1</td>\n",
              "      <td>1</td>\n",
              "      <td>2</td>\n",
              "      <td>14.110847</td>\n",
              "      <td>18.18125</td>\n",
              "      <td>80.5833</td>\n",
              "      <td>10.749882</td>\n",
              "      <td>331</td>\n",
              "      <td>654</td>\n",
              "      <td>985</td>\n",
              "    </tr>\n",
              "    <tr>\n",
              "      <th>1</th>\n",
              "      <td>2</td>\n",
              "      <td>02-01-2018</td>\n",
              "      <td>1</td>\n",
              "      <td>0</td>\n",
              "      <td>1</td>\n",
              "      <td>0</td>\n",
              "      <td>2</td>\n",
              "      <td>1</td>\n",
              "      <td>2</td>\n",
              "      <td>14.902598</td>\n",
              "      <td>17.68695</td>\n",
              "      <td>69.6087</td>\n",
              "      <td>16.652113</td>\n",
              "      <td>131</td>\n",
              "      <td>670</td>\n",
              "      <td>801</td>\n",
              "    </tr>\n",
              "    <tr>\n",
              "      <th>2</th>\n",
              "      <td>3</td>\n",
              "      <td>03-01-2018</td>\n",
              "      <td>1</td>\n",
              "      <td>0</td>\n",
              "      <td>1</td>\n",
              "      <td>0</td>\n",
              "      <td>3</td>\n",
              "      <td>1</td>\n",
              "      <td>1</td>\n",
              "      <td>8.050924</td>\n",
              "      <td>9.47025</td>\n",
              "      <td>43.7273</td>\n",
              "      <td>16.636703</td>\n",
              "      <td>120</td>\n",
              "      <td>1229</td>\n",
              "      <td>1349</td>\n",
              "    </tr>\n",
              "    <tr>\n",
              "      <th>3</th>\n",
              "      <td>4</td>\n",
              "      <td>04-01-2018</td>\n",
              "      <td>1</td>\n",
              "      <td>0</td>\n",
              "      <td>1</td>\n",
              "      <td>0</td>\n",
              "      <td>4</td>\n",
              "      <td>1</td>\n",
              "      <td>1</td>\n",
              "      <td>8.200000</td>\n",
              "      <td>10.60610</td>\n",
              "      <td>59.0435</td>\n",
              "      <td>10.739832</td>\n",
              "      <td>108</td>\n",
              "      <td>1454</td>\n",
              "      <td>1562</td>\n",
              "    </tr>\n",
              "    <tr>\n",
              "      <th>4</th>\n",
              "      <td>5</td>\n",
              "      <td>05-01-2018</td>\n",
              "      <td>1</td>\n",
              "      <td>0</td>\n",
              "      <td>1</td>\n",
              "      <td>0</td>\n",
              "      <td>5</td>\n",
              "      <td>1</td>\n",
              "      <td>1</td>\n",
              "      <td>9.305237</td>\n",
              "      <td>11.46350</td>\n",
              "      <td>43.6957</td>\n",
              "      <td>12.522300</td>\n",
              "      <td>82</td>\n",
              "      <td>1518</td>\n",
              "      <td>1600</td>\n",
              "    </tr>\n",
              "    <tr>\n",
              "      <th>5</th>\n",
              "      <td>6</td>\n",
              "      <td>06-01-2018</td>\n",
              "      <td>1</td>\n",
              "      <td>0</td>\n",
              "      <td>1</td>\n",
              "      <td>0</td>\n",
              "      <td>6</td>\n",
              "      <td>0</td>\n",
              "      <td>1</td>\n",
              "      <td>8.378268</td>\n",
              "      <td>11.66045</td>\n",
              "      <td>51.8261</td>\n",
              "      <td>6.000868</td>\n",
              "      <td>88</td>\n",
              "      <td>1518</td>\n",
              "      <td>1606</td>\n",
              "    </tr>\n",
              "    <tr>\n",
              "      <th>6</th>\n",
              "      <td>7</td>\n",
              "      <td>07-01-2018</td>\n",
              "      <td>1</td>\n",
              "      <td>0</td>\n",
              "      <td>1</td>\n",
              "      <td>0</td>\n",
              "      <td>0</td>\n",
              "      <td>0</td>\n",
              "      <td>2</td>\n",
              "      <td>8.057402</td>\n",
              "      <td>10.44195</td>\n",
              "      <td>49.8696</td>\n",
              "      <td>11.304642</td>\n",
              "      <td>148</td>\n",
              "      <td>1362</td>\n",
              "      <td>1510</td>\n",
              "    </tr>\n",
              "    <tr>\n",
              "      <th>7</th>\n",
              "      <td>8</td>\n",
              "      <td>08-01-2018</td>\n",
              "      <td>1</td>\n",
              "      <td>0</td>\n",
              "      <td>1</td>\n",
              "      <td>0</td>\n",
              "      <td>1</td>\n",
              "      <td>1</td>\n",
              "      <td>2</td>\n",
              "      <td>6.765000</td>\n",
              "      <td>8.11270</td>\n",
              "      <td>53.5833</td>\n",
              "      <td>17.875868</td>\n",
              "      <td>68</td>\n",
              "      <td>891</td>\n",
              "      <td>959</td>\n",
              "    </tr>\n",
              "  </tbody>\n",
              "</table>\n",
              "</div>\n",
              "      <button class=\"colab-df-convert\" onclick=\"convertToInteractive('df-52556f18-6890-463c-9896-7ac9360c9abe')\"\n",
              "              title=\"Convert this dataframe to an interactive table.\"\n",
              "              style=\"display:none;\">\n",
              "        \n",
              "  <svg xmlns=\"http://www.w3.org/2000/svg\" height=\"24px\"viewBox=\"0 0 24 24\"\n",
              "       width=\"24px\">\n",
              "    <path d=\"M0 0h24v24H0V0z\" fill=\"none\"/>\n",
              "    <path d=\"M18.56 5.44l.94 2.06.94-2.06 2.06-.94-2.06-.94-.94-2.06-.94 2.06-2.06.94zm-11 1L8.5 8.5l.94-2.06 2.06-.94-2.06-.94L8.5 2.5l-.94 2.06-2.06.94zm10 10l.94 2.06.94-2.06 2.06-.94-2.06-.94-.94-2.06-.94 2.06-2.06.94z\"/><path d=\"M17.41 7.96l-1.37-1.37c-.4-.4-.92-.59-1.43-.59-.52 0-1.04.2-1.43.59L10.3 9.45l-7.72 7.72c-.78.78-.78 2.05 0 2.83L4 21.41c.39.39.9.59 1.41.59.51 0 1.02-.2 1.41-.59l7.78-7.78 2.81-2.81c.8-.78.8-2.07 0-2.86zM5.41 20L4 18.59l7.72-7.72 1.47 1.35L5.41 20z\"/>\n",
              "  </svg>\n",
              "      </button>\n",
              "      \n",
              "  <style>\n",
              "    .colab-df-container {\n",
              "      display:flex;\n",
              "      flex-wrap:wrap;\n",
              "      gap: 12px;\n",
              "    }\n",
              "\n",
              "    .colab-df-convert {\n",
              "      background-color: #E8F0FE;\n",
              "      border: none;\n",
              "      border-radius: 50%;\n",
              "      cursor: pointer;\n",
              "      display: none;\n",
              "      fill: #1967D2;\n",
              "      height: 32px;\n",
              "      padding: 0 0 0 0;\n",
              "      width: 32px;\n",
              "    }\n",
              "\n",
              "    .colab-df-convert:hover {\n",
              "      background-color: #E2EBFA;\n",
              "      box-shadow: 0px 1px 2px rgba(60, 64, 67, 0.3), 0px 1px 3px 1px rgba(60, 64, 67, 0.15);\n",
              "      fill: #174EA6;\n",
              "    }\n",
              "\n",
              "    [theme=dark] .colab-df-convert {\n",
              "      background-color: #3B4455;\n",
              "      fill: #D2E3FC;\n",
              "    }\n",
              "\n",
              "    [theme=dark] .colab-df-convert:hover {\n",
              "      background-color: #434B5C;\n",
              "      box-shadow: 0px 1px 3px 1px rgba(0, 0, 0, 0.15);\n",
              "      filter: drop-shadow(0px 1px 2px rgba(0, 0, 0, 0.3));\n",
              "      fill: #FFFFFF;\n",
              "    }\n",
              "  </style>\n",
              "\n",
              "      <script>\n",
              "        const buttonEl =\n",
              "          document.querySelector('#df-52556f18-6890-463c-9896-7ac9360c9abe button.colab-df-convert');\n",
              "        buttonEl.style.display =\n",
              "          google.colab.kernel.accessAllowed ? 'block' : 'none';\n",
              "\n",
              "        async function convertToInteractive(key) {\n",
              "          const element = document.querySelector('#df-52556f18-6890-463c-9896-7ac9360c9abe');\n",
              "          const dataTable =\n",
              "            await google.colab.kernel.invokeFunction('convertToInteractive',\n",
              "                                                     [key], {});\n",
              "          if (!dataTable) return;\n",
              "\n",
              "          const docLinkHtml = 'Like what you see? Visit the ' +\n",
              "            '<a target=\"_blank\" href=https://colab.research.google.com/notebooks/data_table.ipynb>data table notebook</a>'\n",
              "            + ' to learn more about interactive tables.';\n",
              "          element.innerHTML = '';\n",
              "          dataTable['output_type'] = 'display_data';\n",
              "          await google.colab.output.renderOutput(dataTable, element);\n",
              "          const docLink = document.createElement('div');\n",
              "          docLink.innerHTML = docLinkHtml;\n",
              "          element.appendChild(docLink);\n",
              "        }\n",
              "      </script>\n",
              "    </div>\n",
              "  </div>\n",
              "  "
            ]
          },
          "metadata": {},
          "execution_count": 1688
        }
      ]
    },
    {
      "cell_type": "code",
      "source": [
        "df.tail()"
      ],
      "metadata": {
        "colab": {
          "base_uri": "https://localhost:8080/",
          "height": 337
        },
        "id": "SW_DwFqlEqW6",
        "outputId": "eb37c31b-1c8b-4f6d-a62b-cd254c742e10"
      },
      "execution_count": 1689,
      "outputs": [
        {
          "output_type": "execute_result",
          "data": {
            "text/plain": [
              "     instant      dteday  season  yr  mnth  holiday  weekday  workingday  \\\n",
              "725      726  27-12-2019       1   1    12        0        5           1   \n",
              "726      727  28-12-2019       1   1    12        0        6           0   \n",
              "727      728  29-12-2019       1   1    12        0        0           0   \n",
              "728      729  30-12-2019       1   1    12        0        1           1   \n",
              "729      730  31-12-2019       1   1    12        0        2           1   \n",
              "\n",
              "     weathersit       temp     atemp      hum  windspeed  casual  registered  \\\n",
              "725           2  10.420847  11.33210  65.2917  23.458911     247        1867   \n",
              "726           2  10.386653  12.75230  59.0000  10.416557     644        2451   \n",
              "727           2  10.386653  12.12000  75.2917   8.333661     159        1182   \n",
              "728           1  10.489153  11.58500  48.3333  23.500518     364        1432   \n",
              "729           2   8.849153  11.17435  57.7500  10.374682     439        2290   \n",
              "\n",
              "      cnt  \n",
              "725  2114  \n",
              "726  3095  \n",
              "727  1341  \n",
              "728  1796  \n",
              "729  2729  "
            ],
            "text/html": [
              "\n",
              "  <div id=\"df-67743250-fb70-41fa-a1c3-a0b8ea9f6ab7\">\n",
              "    <div class=\"colab-df-container\">\n",
              "      <div>\n",
              "<style scoped>\n",
              "    .dataframe tbody tr th:only-of-type {\n",
              "        vertical-align: middle;\n",
              "    }\n",
              "\n",
              "    .dataframe tbody tr th {\n",
              "        vertical-align: top;\n",
              "    }\n",
              "\n",
              "    .dataframe thead th {\n",
              "        text-align: right;\n",
              "    }\n",
              "</style>\n",
              "<table border=\"1\" class=\"dataframe\">\n",
              "  <thead>\n",
              "    <tr style=\"text-align: right;\">\n",
              "      <th></th>\n",
              "      <th>instant</th>\n",
              "      <th>dteday</th>\n",
              "      <th>season</th>\n",
              "      <th>yr</th>\n",
              "      <th>mnth</th>\n",
              "      <th>holiday</th>\n",
              "      <th>weekday</th>\n",
              "      <th>workingday</th>\n",
              "      <th>weathersit</th>\n",
              "      <th>temp</th>\n",
              "      <th>atemp</th>\n",
              "      <th>hum</th>\n",
              "      <th>windspeed</th>\n",
              "      <th>casual</th>\n",
              "      <th>registered</th>\n",
              "      <th>cnt</th>\n",
              "    </tr>\n",
              "  </thead>\n",
              "  <tbody>\n",
              "    <tr>\n",
              "      <th>725</th>\n",
              "      <td>726</td>\n",
              "      <td>27-12-2019</td>\n",
              "      <td>1</td>\n",
              "      <td>1</td>\n",
              "      <td>12</td>\n",
              "      <td>0</td>\n",
              "      <td>5</td>\n",
              "      <td>1</td>\n",
              "      <td>2</td>\n",
              "      <td>10.420847</td>\n",
              "      <td>11.33210</td>\n",
              "      <td>65.2917</td>\n",
              "      <td>23.458911</td>\n",
              "      <td>247</td>\n",
              "      <td>1867</td>\n",
              "      <td>2114</td>\n",
              "    </tr>\n",
              "    <tr>\n",
              "      <th>726</th>\n",
              "      <td>727</td>\n",
              "      <td>28-12-2019</td>\n",
              "      <td>1</td>\n",
              "      <td>1</td>\n",
              "      <td>12</td>\n",
              "      <td>0</td>\n",
              "      <td>6</td>\n",
              "      <td>0</td>\n",
              "      <td>2</td>\n",
              "      <td>10.386653</td>\n",
              "      <td>12.75230</td>\n",
              "      <td>59.0000</td>\n",
              "      <td>10.416557</td>\n",
              "      <td>644</td>\n",
              "      <td>2451</td>\n",
              "      <td>3095</td>\n",
              "    </tr>\n",
              "    <tr>\n",
              "      <th>727</th>\n",
              "      <td>728</td>\n",
              "      <td>29-12-2019</td>\n",
              "      <td>1</td>\n",
              "      <td>1</td>\n",
              "      <td>12</td>\n",
              "      <td>0</td>\n",
              "      <td>0</td>\n",
              "      <td>0</td>\n",
              "      <td>2</td>\n",
              "      <td>10.386653</td>\n",
              "      <td>12.12000</td>\n",
              "      <td>75.2917</td>\n",
              "      <td>8.333661</td>\n",
              "      <td>159</td>\n",
              "      <td>1182</td>\n",
              "      <td>1341</td>\n",
              "    </tr>\n",
              "    <tr>\n",
              "      <th>728</th>\n",
              "      <td>729</td>\n",
              "      <td>30-12-2019</td>\n",
              "      <td>1</td>\n",
              "      <td>1</td>\n",
              "      <td>12</td>\n",
              "      <td>0</td>\n",
              "      <td>1</td>\n",
              "      <td>1</td>\n",
              "      <td>1</td>\n",
              "      <td>10.489153</td>\n",
              "      <td>11.58500</td>\n",
              "      <td>48.3333</td>\n",
              "      <td>23.500518</td>\n",
              "      <td>364</td>\n",
              "      <td>1432</td>\n",
              "      <td>1796</td>\n",
              "    </tr>\n",
              "    <tr>\n",
              "      <th>729</th>\n",
              "      <td>730</td>\n",
              "      <td>31-12-2019</td>\n",
              "      <td>1</td>\n",
              "      <td>1</td>\n",
              "      <td>12</td>\n",
              "      <td>0</td>\n",
              "      <td>2</td>\n",
              "      <td>1</td>\n",
              "      <td>2</td>\n",
              "      <td>8.849153</td>\n",
              "      <td>11.17435</td>\n",
              "      <td>57.7500</td>\n",
              "      <td>10.374682</td>\n",
              "      <td>439</td>\n",
              "      <td>2290</td>\n",
              "      <td>2729</td>\n",
              "    </tr>\n",
              "  </tbody>\n",
              "</table>\n",
              "</div>\n",
              "      <button class=\"colab-df-convert\" onclick=\"convertToInteractive('df-67743250-fb70-41fa-a1c3-a0b8ea9f6ab7')\"\n",
              "              title=\"Convert this dataframe to an interactive table.\"\n",
              "              style=\"display:none;\">\n",
              "        \n",
              "  <svg xmlns=\"http://www.w3.org/2000/svg\" height=\"24px\"viewBox=\"0 0 24 24\"\n",
              "       width=\"24px\">\n",
              "    <path d=\"M0 0h24v24H0V0z\" fill=\"none\"/>\n",
              "    <path d=\"M18.56 5.44l.94 2.06.94-2.06 2.06-.94-2.06-.94-.94-2.06-.94 2.06-2.06.94zm-11 1L8.5 8.5l.94-2.06 2.06-.94-2.06-.94L8.5 2.5l-.94 2.06-2.06.94zm10 10l.94 2.06.94-2.06 2.06-.94-2.06-.94-.94-2.06-.94 2.06-2.06.94z\"/><path d=\"M17.41 7.96l-1.37-1.37c-.4-.4-.92-.59-1.43-.59-.52 0-1.04.2-1.43.59L10.3 9.45l-7.72 7.72c-.78.78-.78 2.05 0 2.83L4 21.41c.39.39.9.59 1.41.59.51 0 1.02-.2 1.41-.59l7.78-7.78 2.81-2.81c.8-.78.8-2.07 0-2.86zM5.41 20L4 18.59l7.72-7.72 1.47 1.35L5.41 20z\"/>\n",
              "  </svg>\n",
              "      </button>\n",
              "      \n",
              "  <style>\n",
              "    .colab-df-container {\n",
              "      display:flex;\n",
              "      flex-wrap:wrap;\n",
              "      gap: 12px;\n",
              "    }\n",
              "\n",
              "    .colab-df-convert {\n",
              "      background-color: #E8F0FE;\n",
              "      border: none;\n",
              "      border-radius: 50%;\n",
              "      cursor: pointer;\n",
              "      display: none;\n",
              "      fill: #1967D2;\n",
              "      height: 32px;\n",
              "      padding: 0 0 0 0;\n",
              "      width: 32px;\n",
              "    }\n",
              "\n",
              "    .colab-df-convert:hover {\n",
              "      background-color: #E2EBFA;\n",
              "      box-shadow: 0px 1px 2px rgba(60, 64, 67, 0.3), 0px 1px 3px 1px rgba(60, 64, 67, 0.15);\n",
              "      fill: #174EA6;\n",
              "    }\n",
              "\n",
              "    [theme=dark] .colab-df-convert {\n",
              "      background-color: #3B4455;\n",
              "      fill: #D2E3FC;\n",
              "    }\n",
              "\n",
              "    [theme=dark] .colab-df-convert:hover {\n",
              "      background-color: #434B5C;\n",
              "      box-shadow: 0px 1px 3px 1px rgba(0, 0, 0, 0.15);\n",
              "      filter: drop-shadow(0px 1px 2px rgba(0, 0, 0, 0.3));\n",
              "      fill: #FFFFFF;\n",
              "    }\n",
              "  </style>\n",
              "\n",
              "      <script>\n",
              "        const buttonEl =\n",
              "          document.querySelector('#df-67743250-fb70-41fa-a1c3-a0b8ea9f6ab7 button.colab-df-convert');\n",
              "        buttonEl.style.display =\n",
              "          google.colab.kernel.accessAllowed ? 'block' : 'none';\n",
              "\n",
              "        async function convertToInteractive(key) {\n",
              "          const element = document.querySelector('#df-67743250-fb70-41fa-a1c3-a0b8ea9f6ab7');\n",
              "          const dataTable =\n",
              "            await google.colab.kernel.invokeFunction('convertToInteractive',\n",
              "                                                     [key], {});\n",
              "          if (!dataTable) return;\n",
              "\n",
              "          const docLinkHtml = 'Like what you see? Visit the ' +\n",
              "            '<a target=\"_blank\" href=https://colab.research.google.com/notebooks/data_table.ipynb>data table notebook</a>'\n",
              "            + ' to learn more about interactive tables.';\n",
              "          element.innerHTML = '';\n",
              "          dataTable['output_type'] = 'display_data';\n",
              "          await google.colab.output.renderOutput(dataTable, element);\n",
              "          const docLink = document.createElement('div');\n",
              "          docLink.innerHTML = docLinkHtml;\n",
              "          element.appendChild(docLink);\n",
              "        }\n",
              "      </script>\n",
              "    </div>\n",
              "  </div>\n",
              "  "
            ]
          },
          "metadata": {},
          "execution_count": 1689
        }
      ]
    },
    {
      "cell_type": "markdown",
      "source": [
        "**Dataset details**"
      ],
      "metadata": {
        "id": "sLjlNO_Jyy-p"
      }
    },
    {
      "cell_type": "code",
      "source": [
        "df.info()"
      ],
      "metadata": {
        "colab": {
          "base_uri": "https://localhost:8080/"
        },
        "id": "eq2Emygn-pGk",
        "outputId": "6dcf10e3-172f-4414-98e4-cb3578e017c3"
      },
      "execution_count": 1690,
      "outputs": [
        {
          "output_type": "stream",
          "name": "stdout",
          "text": [
            "<class 'pandas.core.frame.DataFrame'>\n",
            "RangeIndex: 730 entries, 0 to 729\n",
            "Data columns (total 16 columns):\n",
            " #   Column      Non-Null Count  Dtype  \n",
            "---  ------      --------------  -----  \n",
            " 0   instant     730 non-null    int64  \n",
            " 1   dteday      730 non-null    object \n",
            " 2   season      730 non-null    int64  \n",
            " 3   yr          730 non-null    int64  \n",
            " 4   mnth        730 non-null    int64  \n",
            " 5   holiday     730 non-null    int64  \n",
            " 6   weekday     730 non-null    int64  \n",
            " 7   workingday  730 non-null    int64  \n",
            " 8   weathersit  730 non-null    int64  \n",
            " 9   temp        730 non-null    float64\n",
            " 10  atemp       730 non-null    float64\n",
            " 11  hum         730 non-null    float64\n",
            " 12  windspeed   730 non-null    float64\n",
            " 13  casual      730 non-null    int64  \n",
            " 14  registered  730 non-null    int64  \n",
            " 15  cnt         730 non-null    int64  \n",
            "dtypes: float64(4), int64(11), object(1)\n",
            "memory usage: 91.4+ KB\n"
          ]
        }
      ]
    },
    {
      "cell_type": "markdown",
      "source": [
        "**Insight**:The datatypes are float64, int64,object and also have no null values"
      ],
      "metadata": {
        "id": "-L3bh3b_xaKb"
      }
    },
    {
      "cell_type": "code",
      "source": [
        "df.describe()"
      ],
      "metadata": {
        "colab": {
          "base_uri": "https://localhost:8080/",
          "height": 364
        },
        "id": "3FR_dVJV_5yg",
        "outputId": "15b6bf5e-682d-4ccf-9588-68ab20b42d2c"
      },
      "execution_count": 1691,
      "outputs": [
        {
          "output_type": "execute_result",
          "data": {
            "text/plain": [
              "          instant      season          yr        mnth     holiday     weekday  \\\n",
              "count  730.000000  730.000000  730.000000  730.000000  730.000000  730.000000   \n",
              "mean   365.500000    2.498630    0.500000    6.526027    0.028767    2.995890   \n",
              "std    210.877136    1.110184    0.500343    3.450215    0.167266    2.000339   \n",
              "min      1.000000    1.000000    0.000000    1.000000    0.000000    0.000000   \n",
              "25%    183.250000    2.000000    0.000000    4.000000    0.000000    1.000000   \n",
              "50%    365.500000    3.000000    0.500000    7.000000    0.000000    3.000000   \n",
              "75%    547.750000    3.000000    1.000000   10.000000    0.000000    5.000000   \n",
              "max    730.000000    4.000000    1.000000   12.000000    1.000000    6.000000   \n",
              "\n",
              "       workingday  weathersit        temp       atemp         hum   windspeed  \\\n",
              "count  730.000000  730.000000  730.000000  730.000000  730.000000  730.000000   \n",
              "mean     0.690411    1.394521   20.319259   23.726322   62.765175   12.763620   \n",
              "std      0.462641    0.544807    7.506729    8.150308   14.237589    5.195841   \n",
              "min      0.000000    1.000000    2.424346    3.953480    0.000000    1.500244   \n",
              "25%      0.000000    1.000000   13.811885   16.889713   52.000000    9.041650   \n",
              "50%      1.000000    1.000000   20.465826   24.368225   62.625000   12.125325   \n",
              "75%      1.000000    2.000000   26.880615   30.445775   72.989575   15.625589   \n",
              "max      1.000000    3.000000   35.328347   42.044800   97.250000   34.000021   \n",
              "\n",
              "            casual   registered          cnt  \n",
              "count   730.000000   730.000000   730.000000  \n",
              "mean    849.249315  3658.757534  4508.006849  \n",
              "std     686.479875  1559.758728  1936.011647  \n",
              "min       2.000000    20.000000    22.000000  \n",
              "25%     316.250000  2502.250000  3169.750000  \n",
              "50%     717.000000  3664.500000  4548.500000  \n",
              "75%    1096.500000  4783.250000  5966.000000  \n",
              "max    3410.000000  6946.000000  8714.000000  "
            ],
            "text/html": [
              "\n",
              "  <div id=\"df-10e4c940-3e08-44d4-bb96-6b94d764546f\">\n",
              "    <div class=\"colab-df-container\">\n",
              "      <div>\n",
              "<style scoped>\n",
              "    .dataframe tbody tr th:only-of-type {\n",
              "        vertical-align: middle;\n",
              "    }\n",
              "\n",
              "    .dataframe tbody tr th {\n",
              "        vertical-align: top;\n",
              "    }\n",
              "\n",
              "    .dataframe thead th {\n",
              "        text-align: right;\n",
              "    }\n",
              "</style>\n",
              "<table border=\"1\" class=\"dataframe\">\n",
              "  <thead>\n",
              "    <tr style=\"text-align: right;\">\n",
              "      <th></th>\n",
              "      <th>instant</th>\n",
              "      <th>season</th>\n",
              "      <th>yr</th>\n",
              "      <th>mnth</th>\n",
              "      <th>holiday</th>\n",
              "      <th>weekday</th>\n",
              "      <th>workingday</th>\n",
              "      <th>weathersit</th>\n",
              "      <th>temp</th>\n",
              "      <th>atemp</th>\n",
              "      <th>hum</th>\n",
              "      <th>windspeed</th>\n",
              "      <th>casual</th>\n",
              "      <th>registered</th>\n",
              "      <th>cnt</th>\n",
              "    </tr>\n",
              "  </thead>\n",
              "  <tbody>\n",
              "    <tr>\n",
              "      <th>count</th>\n",
              "      <td>730.000000</td>\n",
              "      <td>730.000000</td>\n",
              "      <td>730.000000</td>\n",
              "      <td>730.000000</td>\n",
              "      <td>730.000000</td>\n",
              "      <td>730.000000</td>\n",
              "      <td>730.000000</td>\n",
              "      <td>730.000000</td>\n",
              "      <td>730.000000</td>\n",
              "      <td>730.000000</td>\n",
              "      <td>730.000000</td>\n",
              "      <td>730.000000</td>\n",
              "      <td>730.000000</td>\n",
              "      <td>730.000000</td>\n",
              "      <td>730.000000</td>\n",
              "    </tr>\n",
              "    <tr>\n",
              "      <th>mean</th>\n",
              "      <td>365.500000</td>\n",
              "      <td>2.498630</td>\n",
              "      <td>0.500000</td>\n",
              "      <td>6.526027</td>\n",
              "      <td>0.028767</td>\n",
              "      <td>2.995890</td>\n",
              "      <td>0.690411</td>\n",
              "      <td>1.394521</td>\n",
              "      <td>20.319259</td>\n",
              "      <td>23.726322</td>\n",
              "      <td>62.765175</td>\n",
              "      <td>12.763620</td>\n",
              "      <td>849.249315</td>\n",
              "      <td>3658.757534</td>\n",
              "      <td>4508.006849</td>\n",
              "    </tr>\n",
              "    <tr>\n",
              "      <th>std</th>\n",
              "      <td>210.877136</td>\n",
              "      <td>1.110184</td>\n",
              "      <td>0.500343</td>\n",
              "      <td>3.450215</td>\n",
              "      <td>0.167266</td>\n",
              "      <td>2.000339</td>\n",
              "      <td>0.462641</td>\n",
              "      <td>0.544807</td>\n",
              "      <td>7.506729</td>\n",
              "      <td>8.150308</td>\n",
              "      <td>14.237589</td>\n",
              "      <td>5.195841</td>\n",
              "      <td>686.479875</td>\n",
              "      <td>1559.758728</td>\n",
              "      <td>1936.011647</td>\n",
              "    </tr>\n",
              "    <tr>\n",
              "      <th>min</th>\n",
              "      <td>1.000000</td>\n",
              "      <td>1.000000</td>\n",
              "      <td>0.000000</td>\n",
              "      <td>1.000000</td>\n",
              "      <td>0.000000</td>\n",
              "      <td>0.000000</td>\n",
              "      <td>0.000000</td>\n",
              "      <td>1.000000</td>\n",
              "      <td>2.424346</td>\n",
              "      <td>3.953480</td>\n",
              "      <td>0.000000</td>\n",
              "      <td>1.500244</td>\n",
              "      <td>2.000000</td>\n",
              "      <td>20.000000</td>\n",
              "      <td>22.000000</td>\n",
              "    </tr>\n",
              "    <tr>\n",
              "      <th>25%</th>\n",
              "      <td>183.250000</td>\n",
              "      <td>2.000000</td>\n",
              "      <td>0.000000</td>\n",
              "      <td>4.000000</td>\n",
              "      <td>0.000000</td>\n",
              "      <td>1.000000</td>\n",
              "      <td>0.000000</td>\n",
              "      <td>1.000000</td>\n",
              "      <td>13.811885</td>\n",
              "      <td>16.889713</td>\n",
              "      <td>52.000000</td>\n",
              "      <td>9.041650</td>\n",
              "      <td>316.250000</td>\n",
              "      <td>2502.250000</td>\n",
              "      <td>3169.750000</td>\n",
              "    </tr>\n",
              "    <tr>\n",
              "      <th>50%</th>\n",
              "      <td>365.500000</td>\n",
              "      <td>3.000000</td>\n",
              "      <td>0.500000</td>\n",
              "      <td>7.000000</td>\n",
              "      <td>0.000000</td>\n",
              "      <td>3.000000</td>\n",
              "      <td>1.000000</td>\n",
              "      <td>1.000000</td>\n",
              "      <td>20.465826</td>\n",
              "      <td>24.368225</td>\n",
              "      <td>62.625000</td>\n",
              "      <td>12.125325</td>\n",
              "      <td>717.000000</td>\n",
              "      <td>3664.500000</td>\n",
              "      <td>4548.500000</td>\n",
              "    </tr>\n",
              "    <tr>\n",
              "      <th>75%</th>\n",
              "      <td>547.750000</td>\n",
              "      <td>3.000000</td>\n",
              "      <td>1.000000</td>\n",
              "      <td>10.000000</td>\n",
              "      <td>0.000000</td>\n",
              "      <td>5.000000</td>\n",
              "      <td>1.000000</td>\n",
              "      <td>2.000000</td>\n",
              "      <td>26.880615</td>\n",
              "      <td>30.445775</td>\n",
              "      <td>72.989575</td>\n",
              "      <td>15.625589</td>\n",
              "      <td>1096.500000</td>\n",
              "      <td>4783.250000</td>\n",
              "      <td>5966.000000</td>\n",
              "    </tr>\n",
              "    <tr>\n",
              "      <th>max</th>\n",
              "      <td>730.000000</td>\n",
              "      <td>4.000000</td>\n",
              "      <td>1.000000</td>\n",
              "      <td>12.000000</td>\n",
              "      <td>1.000000</td>\n",
              "      <td>6.000000</td>\n",
              "      <td>1.000000</td>\n",
              "      <td>3.000000</td>\n",
              "      <td>35.328347</td>\n",
              "      <td>42.044800</td>\n",
              "      <td>97.250000</td>\n",
              "      <td>34.000021</td>\n",
              "      <td>3410.000000</td>\n",
              "      <td>6946.000000</td>\n",
              "      <td>8714.000000</td>\n",
              "    </tr>\n",
              "  </tbody>\n",
              "</table>\n",
              "</div>\n",
              "      <button class=\"colab-df-convert\" onclick=\"convertToInteractive('df-10e4c940-3e08-44d4-bb96-6b94d764546f')\"\n",
              "              title=\"Convert this dataframe to an interactive table.\"\n",
              "              style=\"display:none;\">\n",
              "        \n",
              "  <svg xmlns=\"http://www.w3.org/2000/svg\" height=\"24px\"viewBox=\"0 0 24 24\"\n",
              "       width=\"24px\">\n",
              "    <path d=\"M0 0h24v24H0V0z\" fill=\"none\"/>\n",
              "    <path d=\"M18.56 5.44l.94 2.06.94-2.06 2.06-.94-2.06-.94-.94-2.06-.94 2.06-2.06.94zm-11 1L8.5 8.5l.94-2.06 2.06-.94-2.06-.94L8.5 2.5l-.94 2.06-2.06.94zm10 10l.94 2.06.94-2.06 2.06-.94-2.06-.94-.94-2.06-.94 2.06-2.06.94z\"/><path d=\"M17.41 7.96l-1.37-1.37c-.4-.4-.92-.59-1.43-.59-.52 0-1.04.2-1.43.59L10.3 9.45l-7.72 7.72c-.78.78-.78 2.05 0 2.83L4 21.41c.39.39.9.59 1.41.59.51 0 1.02-.2 1.41-.59l7.78-7.78 2.81-2.81c.8-.78.8-2.07 0-2.86zM5.41 20L4 18.59l7.72-7.72 1.47 1.35L5.41 20z\"/>\n",
              "  </svg>\n",
              "      </button>\n",
              "      \n",
              "  <style>\n",
              "    .colab-df-container {\n",
              "      display:flex;\n",
              "      flex-wrap:wrap;\n",
              "      gap: 12px;\n",
              "    }\n",
              "\n",
              "    .colab-df-convert {\n",
              "      background-color: #E8F0FE;\n",
              "      border: none;\n",
              "      border-radius: 50%;\n",
              "      cursor: pointer;\n",
              "      display: none;\n",
              "      fill: #1967D2;\n",
              "      height: 32px;\n",
              "      padding: 0 0 0 0;\n",
              "      width: 32px;\n",
              "    }\n",
              "\n",
              "    .colab-df-convert:hover {\n",
              "      background-color: #E2EBFA;\n",
              "      box-shadow: 0px 1px 2px rgba(60, 64, 67, 0.3), 0px 1px 3px 1px rgba(60, 64, 67, 0.15);\n",
              "      fill: #174EA6;\n",
              "    }\n",
              "\n",
              "    [theme=dark] .colab-df-convert {\n",
              "      background-color: #3B4455;\n",
              "      fill: #D2E3FC;\n",
              "    }\n",
              "\n",
              "    [theme=dark] .colab-df-convert:hover {\n",
              "      background-color: #434B5C;\n",
              "      box-shadow: 0px 1px 3px 1px rgba(0, 0, 0, 0.15);\n",
              "      filter: drop-shadow(0px 1px 2px rgba(0, 0, 0, 0.3));\n",
              "      fill: #FFFFFF;\n",
              "    }\n",
              "  </style>\n",
              "\n",
              "      <script>\n",
              "        const buttonEl =\n",
              "          document.querySelector('#df-10e4c940-3e08-44d4-bb96-6b94d764546f button.colab-df-convert');\n",
              "        buttonEl.style.display =\n",
              "          google.colab.kernel.accessAllowed ? 'block' : 'none';\n",
              "\n",
              "        async function convertToInteractive(key) {\n",
              "          const element = document.querySelector('#df-10e4c940-3e08-44d4-bb96-6b94d764546f');\n",
              "          const dataTable =\n",
              "            await google.colab.kernel.invokeFunction('convertToInteractive',\n",
              "                                                     [key], {});\n",
              "          if (!dataTable) return;\n",
              "\n",
              "          const docLinkHtml = 'Like what you see? Visit the ' +\n",
              "            '<a target=\"_blank\" href=https://colab.research.google.com/notebooks/data_table.ipynb>data table notebook</a>'\n",
              "            + ' to learn more about interactive tables.';\n",
              "          element.innerHTML = '';\n",
              "          dataTable['output_type'] = 'display_data';\n",
              "          await google.colab.output.renderOutput(dataTable, element);\n",
              "          const docLink = document.createElement('div');\n",
              "          docLink.innerHTML = docLinkHtml;\n",
              "          element.appendChild(docLink);\n",
              "        }\n",
              "      </script>\n",
              "    </div>\n",
              "  </div>\n",
              "  "
            ]
          },
          "metadata": {},
          "execution_count": 1691
        }
      ]
    },
    {
      "cell_type": "markdown",
      "source": [
        "**Insight**:Description of dataset"
      ],
      "metadata": {
        "id": "V4yZjdBsy96p"
      }
    },
    {
      "cell_type": "code",
      "source": [
        "df.isnull().sum()"
      ],
      "metadata": {
        "colab": {
          "base_uri": "https://localhost:8080/"
        },
        "id": "SQqPg8OjB2oi",
        "outputId": "304c3e7a-4637-4b4b-9b40-114d0f71061c"
      },
      "execution_count": 1692,
      "outputs": [
        {
          "output_type": "execute_result",
          "data": {
            "text/plain": [
              "instant       0\n",
              "dteday        0\n",
              "season        0\n",
              "yr            0\n",
              "mnth          0\n",
              "holiday       0\n",
              "weekday       0\n",
              "workingday    0\n",
              "weathersit    0\n",
              "temp          0\n",
              "atemp         0\n",
              "hum           0\n",
              "windspeed     0\n",
              "casual        0\n",
              "registered    0\n",
              "cnt           0\n",
              "dtype: int64"
            ]
          },
          "metadata": {},
          "execution_count": 1692
        }
      ]
    },
    {
      "cell_type": "markdown",
      "source": [
        "**Insight**: Sum of null values of each colum is zero"
      ],
      "metadata": {
        "id": "lhZhP3djzJVg"
      }
    },
    {
      "cell_type": "markdown",
      "source": [
        "**Duplicate checking**"
      ],
      "metadata": {
        "id": "uObeayaI0s_g"
      }
    },
    {
      "cell_type": "code",
      "source": [
        "df_duplicate = df.copy()\n",
        "df_duplicate.drop_duplicates(subset=None, inplace=True)\n",
        "df_duplicate.shape"
      ],
      "metadata": {
        "colab": {
          "base_uri": "https://localhost:8080/"
        },
        "id": "M0278si3zlcq",
        "outputId": "8dad19b6-0924-4e51-9c9e-95031ccb72bf"
      },
      "execution_count": 1693,
      "outputs": [
        {
          "output_type": "execute_result",
          "data": {
            "text/plain": [
              "(730, 16)"
            ]
          },
          "metadata": {},
          "execution_count": 1693
        }
      ]
    },
    {
      "cell_type": "code",
      "source": [
        "df.shape"
      ],
      "metadata": {
        "colab": {
          "base_uri": "https://localhost:8080/"
        },
        "id": "S709qRNp0bXL",
        "outputId": "01030ae6-2553-46d0-bd19-4784cef596ec"
      },
      "execution_count": 1694,
      "outputs": [
        {
          "output_type": "execute_result",
          "data": {
            "text/plain": [
              "(730, 16)"
            ]
          },
          "metadata": {},
          "execution_count": 1694
        }
      ]
    },
    {
      "cell_type": "markdown",
      "source": [
        "**Insight**: no duplicates in the dataset"
      ],
      "metadata": {
        "id": "99OIsz_a1C6M"
      }
    },
    {
      "cell_type": "markdown",
      "source": [
        "**Details about the columns**"
      ],
      "metadata": {
        "id": "rYLd_GKX1d3M"
      }
    },
    {
      "cell_type": "code",
      "source": [
        "df.columns\n",
        "#colums in th e dataset"
      ],
      "metadata": {
        "colab": {
          "base_uri": "https://localhost:8080/"
        },
        "id": "W54-6DNhRqqN",
        "outputId": "b904c05f-1b7d-4a12-e0b0-7eca87883d81"
      },
      "execution_count": 1695,
      "outputs": [
        {
          "output_type": "execute_result",
          "data": {
            "text/plain": [
              "Index(['instant', 'dteday', 'season', 'yr', 'mnth', 'holiday', 'weekday',\n",
              "       'workingday', 'weathersit', 'temp', 'atemp', 'hum', 'windspeed',\n",
              "       'casual', 'registered', 'cnt'],\n",
              "      dtype='object')"
            ]
          },
          "metadata": {},
          "execution_count": 1695
        }
      ]
    },
    {
      "cell_type": "code",
      "source": [
        "df['yr'].unique()"
      ],
      "metadata": {
        "colab": {
          "base_uri": "https://localhost:8080/"
        },
        "id": "890UpcYlUAxN",
        "outputId": "6f06f31b-f13b-492f-f762-e545fdd6cf63"
      },
      "execution_count": 1696,
      "outputs": [
        {
          "output_type": "execute_result",
          "data": {
            "text/plain": [
              "array([0, 1])"
            ]
          },
          "metadata": {},
          "execution_count": 1696
        }
      ]
    },
    {
      "cell_type": "markdown",
      "source": [
        "**Insight**:Year columns are categorical 0 is for 2018 and 1 is for 2019"
      ],
      "metadata": {
        "id": "TvmbAEC-2UUw"
      }
    },
    {
      "cell_type": "code",
      "source": [
        "df['mnth'].unique()"
      ],
      "metadata": {
        "colab": {
          "base_uri": "https://localhost:8080/"
        },
        "id": "0Lfn6uMFUIHF",
        "outputId": "aa51446e-ebd6-44c4-c640-aeb3cbc92be2"
      },
      "execution_count": 1697,
      "outputs": [
        {
          "output_type": "execute_result",
          "data": {
            "text/plain": [
              "array([ 1,  2,  3,  4,  5,  6,  7,  8,  9, 10, 11, 12])"
            ]
          },
          "metadata": {},
          "execution_count": 1697
        }
      ]
    },
    {
      "cell_type": "markdown",
      "source": [
        "**Insight** : 12 months (mnth column is categotrical)"
      ],
      "metadata": {
        "id": "QiTRgo4J2p0B"
      }
    },
    {
      "cell_type": "code",
      "source": [
        "df[\"weekday\"].unique()"
      ],
      "metadata": {
        "colab": {
          "base_uri": "https://localhost:8080/"
        },
        "id": "OL5ny_Tr1is3",
        "outputId": "45f01257-117f-4e51-dc3d-094b7cef8436"
      },
      "execution_count": 1698,
      "outputs": [
        {
          "output_type": "execute_result",
          "data": {
            "text/plain": [
              "array([1, 2, 3, 4, 5, 6, 0])"
            ]
          },
          "metadata": {},
          "execution_count": 1698
        }
      ]
    },
    {
      "cell_type": "markdown",
      "source": [
        "**Insight**: Weekday consist of 7 categorical value"
      ],
      "metadata": {
        "id": "7nfM56B827hQ"
      }
    },
    {
      "cell_type": "markdown",
      "source": [
        "Finding weekday value"
      ],
      "metadata": {
        "id": "bS4bbnvp3IYu"
      }
    },
    {
      "cell_type": "code",
      "source": [
        "import datetime\n",
        "import calendar\n",
        "day=datetime.datetime.strptime('01 01 2018', '%d %m %Y').weekday()\n",
        "print(calendar.day_name[day])"
      ],
      "metadata": {
        "colab": {
          "base_uri": "https://localhost:8080/"
        },
        "id": "EteAOgvA2GMA",
        "outputId": "32d8256b-c57d-408a-d3b5-098bff116582"
      },
      "execution_count": 1699,
      "outputs": [
        {
          "output_type": "stream",
          "name": "stdout",
          "text": [
            "Monday\n"
          ]
        }
      ]
    },
    {
      "cell_type": "markdown",
      "source": [
        "**Insight**: 1 categorical value is for Monday"
      ],
      "metadata": {
        "id": "vblKoGOV3Shx"
      }
    },
    {
      "cell_type": "markdown",
      "source": [
        "# **EDA**"
      ],
      "metadata": {
        "id": "qwy_xG7YZ-xj"
      }
    },
    {
      "cell_type": "code",
      "source": [
        "df.info()"
      ],
      "metadata": {
        "colab": {
          "base_uri": "https://localhost:8080/"
        },
        "id": "3WOB80o7WrU-",
        "outputId": "9d1e4f77-2ffc-4c05-bb5b-2ebacf3fea1f"
      },
      "execution_count": 1700,
      "outputs": [
        {
          "output_type": "stream",
          "name": "stdout",
          "text": [
            "<class 'pandas.core.frame.DataFrame'>\n",
            "RangeIndex: 730 entries, 0 to 729\n",
            "Data columns (total 16 columns):\n",
            " #   Column      Non-Null Count  Dtype  \n",
            "---  ------      --------------  -----  \n",
            " 0   instant     730 non-null    int64  \n",
            " 1   dteday      730 non-null    object \n",
            " 2   season      730 non-null    int64  \n",
            " 3   yr          730 non-null    int64  \n",
            " 4   mnth        730 non-null    int64  \n",
            " 5   holiday     730 non-null    int64  \n",
            " 6   weekday     730 non-null    int64  \n",
            " 7   workingday  730 non-null    int64  \n",
            " 8   weathersit  730 non-null    int64  \n",
            " 9   temp        730 non-null    float64\n",
            " 10  atemp       730 non-null    float64\n",
            " 11  hum         730 non-null    float64\n",
            " 12  windspeed   730 non-null    float64\n",
            " 13  casual      730 non-null    int64  \n",
            " 14  registered  730 non-null    int64  \n",
            " 15  cnt         730 non-null    int64  \n",
            "dtypes: float64(4), int64(11), object(1)\n",
            "memory usage: 91.4+ KB\n"
          ]
        }
      ]
    },
    {
      "cell_type": "code",
      "source": [
        "import seaborn as sns # importing library for ploting"
      ],
      "metadata": {
        "id": "FG4pMr4LZzDE"
      },
      "execution_count": 1701,
      "outputs": []
    },
    {
      "cell_type": "markdown",
      "source": [
        "**Count v/s Month (w.r.t year)**"
      ],
      "metadata": {
        "id": "2eUMojlg5LFJ"
      }
    },
    {
      "cell_type": "code",
      "source": [
        "p=sns.barplot('mnth','cnt',hue='yr',data=df,palette='Paired')\n",
        "p.legend(title='Year',labels=['2018', '2019'])\n",
        "p.set(xticklabels=['Jan','Feb','Mar','Apr','May','Jun','Jul','Aug','Sep','Oct','Nov','Dec']);"
      ],
      "metadata": {
        "colab": {
          "base_uri": "https://localhost:8080/",
          "height": 279
        },
        "id": "p4jJ6YlBcq5o",
        "outputId": "ccb14311-6126-48ef-aab8-2d514605fea9"
      },
      "execution_count": 1702,
      "outputs": [
        {
          "output_type": "display_data",
          "data": {
            "text/plain": [
              "<Figure size 432x288 with 1 Axes>"
            ],
            "image/png": "[encoded data removed]"
          },
          "metadata": {
            "needs_background": "light"
          }
        }
      ]
    },
    {
      "cell_type": "markdown",
      "source": [
        "**Insight:** year 2018 count of demand bike is more in june month and lower at januaty month. Year 2019 count of demand bike increses all month with respect to month in 2018 year.The year 2019, demand bike is more in september and less in january."
      ],
      "metadata": {
        "id": "94vzs8XC4Nxp"
      }
    },
    {
      "cell_type": "markdown",
      "source": [
        "**Count v/s Season**"
      ],
      "metadata": {
        "id": "LciFw21w5k7B"
      }
    },
    {
      "cell_type": "code",
      "source": [
        "p=sns.barplot('season','cnt',data=df)\n",
        "p.set(xticklabels=[\"Season_1\", \"Season_2\", \"Season_3\",\"Season_4\"]);\n"
      ],
      "metadata": {
        "id": "D99PPevgYLuK",
        "colab": {
          "base_uri": "https://localhost:8080/",
          "height": 280
        },
        "outputId": "6273bae4-86b7-4f46-b776-d561cb4a1bc5"
      },
      "execution_count": 1703,
      "outputs": [
        {
          "output_type": "display_data",
          "data": {
            "text/plain": [
              "<Figure size 432x288 with 1 Axes>"
            ],
            "image/png": "[encoded data removed]"
          },
          "metadata": {
            "needs_background": "light"
          }
        }
      ]
    },
    {
      "cell_type": "code",
      "source": [
        "k=df[['cnt','season']]\n",
        "# sum of biked hired in total data on season3\n",
        "print(\"sum of biked hired in total data on season_3 is \",sum(k.loc[(k['season']==3)]['cnt']))\n",
        "# sum of biked hired in total data on season3"
      ],
      "metadata": {
        "colab": {
          "base_uri": "https://localhost:8080/"
        },
        "id": "wBCd9kzY7Lkp",
        "outputId": "cdba728b-5218-4a85-8603-13f98ec9eb97"
      },
      "execution_count": 1704,
      "outputs": [
        {
          "output_type": "stream",
          "name": "stdout",
          "text": [
            "sum of biked hired in total data on season_3 is  1061129\n"
          ]
        }
      ]
    },
    {
      "cell_type": "markdown",
      "source": [
        "**Insight:** Bike demand count is more in Season_3 .Season_3 is in range of June to August. While demand is less in season 1. the season_1 range is between january to march. Other three seasons the bike demand is 1061129"
      ],
      "metadata": {
        "id": "FJPOrdoz55fx"
      }
    },
    {
      "cell_type": "markdown",
      "source": [
        "**Count v/s Weather**"
      ],
      "metadata": {
        "id": "FDwGo-xS8udT"
      }
    },
    {
      "cell_type": "code",
      "source": [
        "df[\"weathersit\"].unique()"
      ],
      "metadata": {
        "colab": {
          "base_uri": "https://localhost:8080/"
        },
        "id": "LAoysUcKbFy-",
        "outputId": "efcb4afe-810a-444e-ae02-c49b32db8b61"
      },
      "execution_count": 1705,
      "outputs": [
        {
          "output_type": "execute_result",
          "data": {
            "text/plain": [
              "array([2, 1, 3])"
            ]
          },
          "metadata": {},
          "execution_count": 1705
        }
      ]
    },
    {
      "cell_type": "code",
      "source": [
        "p=sns.barplot('weathersit','cnt',data=df)\n",
        "p.set(xticklabels=[\"weathersit_1\", \"weathersit_2\", \"weathersit_3\"]);"
      ],
      "metadata": {
        "colab": {
          "base_uri": "https://localhost:8080/",
          "height": 280
        },
        "id": "Lk_ZQzKnawd0",
        "outputId": "167de6d4-1cda-4d43-f3d4-20f6004d846a"
      },
      "execution_count": 1706,
      "outputs": [
        {
          "output_type": "display_data",
          "data": {
            "text/plain": [
              "<Figure size 432x288 with 1 Axes>"
            ],
            "image/png": "[encoded data removed]"
          },
          "metadata": {
            "needs_background": "light"
          }
        }
      ]
    },
    {
      "cell_type": "code",
      "source": [
        "k=df[['cnt','weathersit']]\n",
        "w1=(sum(k.loc[(k['weathersit']==1)]['cnt'])/sum(df[\"cnt\"]))*100 #68.61% for weathersit_1\n",
        "w2=(sum(k.loc[(k['weathersit']==2)]['cnt'])/sum(df[\"cnt\"]))*100 #30.23% for weathersit_2\n",
        "w3=(sum(k.loc[(k['weathersit']==3)]['cnt'])/sum(df[\"cnt\"]))*100 #1.15% for weathersit_3\n",
        "print(\"percentage of amount of bike hired in  weathersit_1, weathersit_2,weathersit_3 in w.r.t total data are\",\"{:.2f}\".format(w1),\",\",\"{:.2f}\".format(w2),\",\",\"{:.2f}\".format(w3))"
      ],
      "metadata": {
        "colab": {
          "base_uri": "https://localhost:8080/"
        },
        "id": "zp5lSTb41ydz",
        "outputId": "1b06061a-f4c7-4b03-e77d-cc872c37419d"
      },
      "execution_count": 1707,
      "outputs": [
        {
          "output_type": "stream",
          "name": "stdout",
          "text": [
            "percentage of amount of bike hired in  weathersit_1, weathersit_2,weathersit_3 in w.r.t total data are 68.61 , 30.24 , 1.15\n"
          ]
        }
      ]
    },
    {
      "cell_type": "markdown",
      "source": [
        "**Insight:** first type weather situation or condition is more suitable for increase in the demand of bike. The percentage of amount of bike hired in weathersit_1 w.r.t total data is 68.61%.\n",
        "The percentage of amount of bike hired in weathersit_2 w.r.t total data is 30.23%.The percentage of amount of bike hired in weathersit_3 w.r.t total data is 1.15%.\n"
      ],
      "metadata": {
        "id": "OsqA5vTP83E9"
      }
    },
    {
      "cell_type": "markdown",
      "source": [
        "**Count v/s Year**"
      ],
      "metadata": {
        "id": "00WNmsBAB6UQ"
      }
    },
    {
      "cell_type": "code",
      "source": [
        "p=sns.barplot('yr','cnt',data=df)\n",
        "p.set(xticklabels=[\"2018\", \"2019\"]);"
      ],
      "metadata": {
        "colab": {
          "base_uri": "https://localhost:8080/",
          "height": 281
        },
        "id": "KcRAqfnzcjyH",
        "outputId": "d8ac1b16-0526-4041-80ae-b37b70f46958"
      },
      "execution_count": 1708,
      "outputs": [
        {
          "output_type": "display_data",
          "data": {
            "text/plain": [
              "<Figure size 432x288 with 1 Axes>"
            ],
            "image/png": "[encoded data removed]"
          },
          "metadata": {
            "needs_background": "light"
          }
        }
      ]
    },
    {
      "cell_type": "code",
      "source": [
        "df.columns"
      ],
      "metadata": {
        "colab": {
          "base_uri": "https://localhost:8080/"
        },
        "id": "9YR3aFX7uKXN",
        "outputId": "df6cafed-18b3-45a2-9243-1f24127008f6"
      },
      "execution_count": 1709,
      "outputs": [
        {
          "output_type": "execute_result",
          "data": {
            "text/plain": [
              "Index(['instant', 'dteday', 'season', 'yr', 'mnth', 'holiday', 'weekday',\n",
              "       'workingday', 'weathersit', 'temp', 'atemp', 'hum', 'windspeed',\n",
              "       'casual', 'registered', 'cnt'],\n",
              "      dtype='object')"
            ]
          },
          "metadata": {},
          "execution_count": 1709
        }
      ]
    },
    {
      "cell_type": "code",
      "source": [
        "#sum(df['yr']>1)\n",
        "k=df[['cnt','yr']]\n",
        "sum(k.loc[(k['yr']==0)]['cnt'])# sum of bike hired in 2018"
      ],
      "metadata": {
        "colab": {
          "base_uri": "https://localhost:8080/"
        },
        "id": "9gTL93FusHk-",
        "outputId": "8ab7e901-5364-4fae-eae7-a928a9eb534f"
      },
      "execution_count": 1710,
      "outputs": [
        {
          "output_type": "execute_result",
          "data": {
            "text/plain": [
              "1243103"
            ]
          },
          "metadata": {},
          "execution_count": 1710
        }
      ]
    },
    {
      "cell_type": "code",
      "source": [
        "sum(k.loc[(k['yr']==1)]['cnt']) #sum of bike hired in 2019"
      ],
      "metadata": {
        "colab": {
          "base_uri": "https://localhost:8080/"
        },
        "id": "sYNrHAXkzDuK",
        "outputId": "f3438169-7cd8-4bd8-e1c8-c533a412db6c"
      },
      "execution_count": 1711,
      "outputs": [
        {
          "output_type": "execute_result",
          "data": {
            "text/plain": [
              "2047742"
            ]
          },
          "metadata": {},
          "execution_count": 1711
        }
      ]
    },
    {
      "cell_type": "markdown",
      "source": [
        "rate of change (2018 to 2019)"
      ],
      "metadata": {
        "id": "0Vf6Un5w1Kuz"
      }
    },
    {
      "cell_type": "code",
      "source": [
        "100*((sum(k.loc[(k['yr']==1)]['cnt'])-sum(k.loc[(k['yr']==0)]['cnt']))/sum(k.loc[(k['yr']==0)]['cnt'])) #rate of change"
      ],
      "metadata": {
        "colab": {
          "base_uri": "https://localhost:8080/"
        },
        "id": "hSES5e6GyvUe",
        "outputId": "efef73d7-bbf6-4393-9c7c-ee3e9ce07cde"
      },
      "execution_count": 1712,
      "outputs": [
        {
          "output_type": "execute_result",
          "data": {
            "text/plain": [
              "64.72826467316062"
            ]
          },
          "metadata": {},
          "execution_count": 1712
        }
      ]
    },
    {
      "cell_type": "markdown",
      "source": [
        "**Insight:** demand of bike is more in 2019 than 2018. The number of bike hired in 2018 is 1243103 and The number of bike hired in 2019 is 2047742. The rate of change bike hiring from 2018 to 2019 is 64.72%"
      ],
      "metadata": {
        "id": "iONivKRa-Buo"
      }
    },
    {
      "cell_type": "markdown",
      "source": [
        "**Count v/s Days**"
      ],
      "metadata": {
        "id": "Hdv3_OuRBVXQ"
      }
    },
    {
      "cell_type": "code",
      "source": [
        "p=df.groupby('weekday')['cnt'].max().plot(kind='bar')\n",
        "p.set(xticklabels=['Sun','Mon','Tue','Wed','Thu','Fri','Sat']);"
      ],
      "metadata": {
        "colab": {
          "base_uri": "https://localhost:8080/",
          "height": 291
        },
        "id": "jk1u6XmZcx_9",
        "outputId": "98a20519-dc91-4a49-c9ac-815aa0c93132"
      },
      "execution_count": 1713,
      "outputs": [
        {
          "output_type": "display_data",
          "data": {
            "text/plain": [
              "<Figure size 432x288 with 1 Axes>"
            ],
            "image/png": "[encoded data removed]"
          },
          "metadata": {
            "needs_background": "light"
          }
        }
      ]
    },
    {
      "cell_type": "markdown",
      "source": [
        "**Insight:**Saturday and sunday is more demand in bikes. Weekend bike hiring count is more than weekdays count"
      ],
      "metadata": {
        "id": "r-rjMUj_CK84"
      }
    },
    {
      "cell_type": "markdown",
      "source": [
        "**Corelation**"
      ],
      "metadata": {
        "id": "VYG09bSWD1YY"
      }
    },
    {
      "cell_type": "code",
      "source": [
        "df_corr = df.corr()\n",
        "plt.figure(figsize=(25,10))\n",
        "ax = sns.heatmap( df_corr, \n",
        "    vmin=-1, vmax=1, center=0,\n",
        "    cmap=sns.diverging_palette(20, 220, n=200),\n",
        "    square=True, annot = True\n",
        ");\n",
        "ax.set_xticklabels(\n",
        "    ax.get_xticklabels(),\n",
        "    rotation=45,\n",
        "    horizontalalignment='right'\n",
        ");"
      ],
      "metadata": {
        "colab": {
          "base_uri": "https://localhost:8080/",
          "height": 634
        },
        "id": "Wwy5zQPYDOKV",
        "outputId": "16f492f6-a92c-4a0a-d29e-5be747820545"
      },
      "execution_count": 1714,
      "outputs": [
        {
          "output_type": "display_data",
          "data": {
            "text/plain": [
              "<Figure size 1800x720 with 2 Axes>"
            ],
            "image/png": "[encoded data removed]"
          },
          "metadata": {
            "needs_background": "light"
          }
        }
      ]
    },
    {
      "cell_type": "markdown",
      "source": [
        "Insight: The temp and atemp are strongly corelated(0.99). So there is Multicollinearity among them. So one of the column shold drop. Also the count corelated with temp,atemp\n"
      ],
      "metadata": {
        "id": "RUfrg5FVD9Y-"
      }
    },
    {
      "cell_type": "markdown",
      "source": [
        "**Count V/s Temperature**"
      ],
      "metadata": {
        "id": "tT5-mr82Cl4r"
      }
    },
    {
      "cell_type": "code",
      "source": [
        "#plt.scatter('temp','cnt',data=df)\n",
        "df.plot(x='temp', y='cnt', style='o')\n"
      ],
      "metadata": {
        "colab": {
          "base_uri": "https://localhost:8080/",
          "height": 296
        },
        "id": "lRtH0rBZc3v_",
        "outputId": "82ad29de-3815-4c41-a5d3-7a8b3ffdd09c"
      },
      "execution_count": 1715,
      "outputs": [
        {
          "output_type": "execute_result",
          "data": {
            "text/plain": [
              "<matplotlib.axes._subplots.AxesSubplot at 0x7fe230cc9290>"
            ]
          },
          "metadata": {},
          "execution_count": 1715
        },
        {
          "output_type": "display_data",
          "data": {
            "text/plain": [
              "<Figure size 432x288 with 1 Axes>"
            ],
            "image/png": "[encoded data removed]"
          },
          "metadata": {
            "needs_background": "light"
          }
        }
      ]
    },
    {
      "cell_type": "markdown",
      "source": [
        "**Insight:** a positive corealtion can be seen in temp and count. The temperature increases the demand of the bike also increases"
      ],
      "metadata": {
        "id": "_bUTlt12CwuQ"
      }
    },
    {
      "cell_type": "markdown",
      "source": [
        "**temp v/s atemp**"
      ],
      "metadata": {
        "id": "knldM6-sBTPt"
      }
    },
    {
      "cell_type": "code",
      "source": [
        "df.plot(x='atemp', y='temp', style='o')"
      ],
      "metadata": {
        "colab": {
          "base_uri": "https://localhost:8080/",
          "height": 296
        },
        "id": "knNeemX8dAtg",
        "outputId": "ce41fcff-7a9d-450e-b133-e72a7dc30b09"
      },
      "execution_count": 1716,
      "outputs": [
        {
          "output_type": "execute_result",
          "data": {
            "text/plain": [
              "<matplotlib.axes._subplots.AxesSubplot at 0x7fe2330793d0>"
            ]
          },
          "metadata": {},
          "execution_count": 1716
        },
        {
          "output_type": "display_data",
          "data": {
            "text/plain": [
              "<Figure size 432x288 with 1 Axes>"
            ],
            "image/png": "[encoded data removed]"
          },
          "metadata": {
            "needs_background": "light"
          }
        }
      ]
    },
    {
      "cell_type": "markdown",
      "source": [
        "**Insight**:Multicollinearity among temp and atemp.It decide which parameters to keep based on VIF and p-value w.r.t other variables"
      ],
      "metadata": {
        "id": "SSLmpQAcFfHP"
      }
    },
    {
      "cell_type": "markdown",
      "source": [
        "**Count v/s windspeed**"
      ],
      "metadata": {
        "id": "cGJG-WoDGG34"
      }
    },
    {
      "cell_type": "code",
      "source": [
        "df.plot(x='windspeed', y='cnt', style='o')"
      ],
      "metadata": {
        "colab": {
          "base_uri": "https://localhost:8080/",
          "height": 296
        },
        "id": "N-YQaPz6FeaE",
        "outputId": "5a777357-1860-4282-d1e9-be5776dbf9fc"
      },
      "execution_count": 1717,
      "outputs": [
        {
          "output_type": "execute_result",
          "data": {
            "text/plain": [
              "<matplotlib.axes._subplots.AxesSubplot at 0x7fe23432f050>"
            ]
          },
          "metadata": {},
          "execution_count": 1717
        },
        {
          "output_type": "display_data",
          "data": {
            "text/plain": [
              "<Figure size 432x288 with 1 Axes>"
            ],
            "image/png": "[encoded data removed]"
          },
          "metadata": {
            "needs_background": "light"
          }
        }
      ]
    },
    {
      "cell_type": "markdown",
      "source": [
        "**Insight**: It also show negative corelation among windspeed and count"
      ],
      "metadata": {
        "id": "62gkAX73FPhY"
      }
    },
    {
      "cell_type": "code",
      "source": [
        "sns.distplot(df['cnt'])# density with respect to the count"
      ],
      "metadata": {
        "colab": {
          "base_uri": "https://localhost:8080/",
          "height": 296
        },
        "id": "T2FEf1_-dPQa",
        "outputId": "58776e1f-09c7-41a5-974e-3b78756df970"
      },
      "execution_count": 1718,
      "outputs": [
        {
          "output_type": "execute_result",
          "data": {
            "text/plain": [
              "<matplotlib.axes._subplots.AxesSubplot at 0x7fe2340830d0>"
            ]
          },
          "metadata": {},
          "execution_count": 1718
        },
        {
          "output_type": "display_data",
          "data": {
            "text/plain": [
              "<Figure size 432x288 with 1 Axes>"
            ],
            "image/png": "[encoded data removed]"
          },
          "metadata": {
            "needs_background": "light"
          }
        }
      ]
    },
    {
      "cell_type": "markdown",
      "source": [
        "# **Dummy Variables**"
      ],
      "metadata": {
        "id": "L4BJ6nClHQ-w"
      }
    },
    {
      "cell_type": "markdown",
      "source": [
        "Dealing categorical varible using pandas get dummies"
      ],
      "metadata": {
        "id": "-eCRoxKMtwXH"
      }
    },
    {
      "cell_type": "code",
      "source": [
        "df1.columns"
      ],
      "metadata": {
        "colab": {
          "base_uri": "https://localhost:8080/"
        },
        "id": "pxQHE2kuHnef",
        "outputId": "bec8fd12-8874-4715-befe-ec7317c7d2c6"
      },
      "execution_count": 1719,
      "outputs": [
        {
          "output_type": "execute_result",
          "data": {
            "text/plain": [
              "Index(['instant', 'dteday', 'season', 'yr', 'mnth', 'holiday', 'weekday',\n",
              "       'workingday', 'weathersit', 'temp', 'atemp', 'hum', 'windspeed',\n",
              "       'casual', 'registered', 'cnt'],\n",
              "      dtype='object')"
            ]
          },
          "metadata": {},
          "execution_count": 1719
        }
      ]
    },
    {
      "cell_type": "code",
      "source": [
        "df_new=df1[['season', 'yr', 'mnth', 'holiday', 'weekday',\n",
        "       'workingday', 'weathersit', 'temp', 'atemp', 'hum', 'windspeed',\n",
        "       'cnt']]# creating new dataset from the orginal dataset"
      ],
      "metadata": {
        "id": "3Bt8mpxKyvaH"
      },
      "execution_count": 1720,
      "outputs": []
    },
    {
      "cell_type": "code",
      "source": [
        "df_new.info()"
      ],
      "metadata": {
        "colab": {
          "base_uri": "https://localhost:8080/"
        },
        "id": "O08f1bbaFEEu",
        "outputId": "82dd61ef-b9dc-4b82-a497-8ffe60b2f7e3"
      },
      "execution_count": 1721,
      "outputs": [
        {
          "output_type": "stream",
          "name": "stdout",
          "text": [
            "<class 'pandas.core.frame.DataFrame'>\n",
            "RangeIndex: 730 entries, 0 to 729\n",
            "Data columns (total 12 columns):\n",
            " #   Column      Non-Null Count  Dtype  \n",
            "---  ------      --------------  -----  \n",
            " 0   season      730 non-null    int64  \n",
            " 1   yr          730 non-null    int64  \n",
            " 2   mnth        730 non-null    int64  \n",
            " 3   holiday     730 non-null    int64  \n",
            " 4   weekday     730 non-null    int64  \n",
            " 5   workingday  730 non-null    int64  \n",
            " 6   weathersit  730 non-null    int64  \n",
            " 7   temp        730 non-null    float64\n",
            " 8   atemp       730 non-null    float64\n",
            " 9   hum         730 non-null    float64\n",
            " 10  windspeed   730 non-null    float64\n",
            " 11  cnt         730 non-null    int64  \n",
            "dtypes: float64(4), int64(8)\n",
            "memory usage: 68.6 KB\n"
          ]
        }
      ]
    },
    {
      "cell_type": "markdown",
      "source": [
        "Convert season, workingday, weathersit,month,weekday varible into category"
      ],
      "metadata": {
        "id": "ykunPIm7H63g"
      }
    },
    {
      "cell_type": "code",
      "source": [
        "df_new['season']=df_new['season'].astype('category')\n",
        "df_new['weathersit']=df_new['weathersit'].astype('category')\n",
        "df_new['mnth']=df_new['mnth'].astype('category')\n",
        "df_new['weekday']=df_new['weekday'].astype('category')"
      ],
      "metadata": {
        "id": "LFJbtmTaeLsj"
      },
      "execution_count": 1722,
      "outputs": []
    },
    {
      "cell_type": "code",
      "source": [
        "#Drop first colum of dummy variable each of the set.\n",
        "df_new = pd.get_dummies(df_new, drop_first=True)\n",
        "df_new.info()"
      ],
      "metadata": {
        "colab": {
          "base_uri": "https://localhost:8080/"
        },
        "id": "kWar_9PnzXAK",
        "outputId": "0e9f584a-7e8d-4eec-a0b9-273aeb064d72"
      },
      "execution_count": 1723,
      "outputs": [
        {
          "output_type": "stream",
          "name": "stdout",
          "text": [
            "<class 'pandas.core.frame.DataFrame'>\n",
            "RangeIndex: 730 entries, 0 to 729\n",
            "Data columns (total 30 columns):\n",
            " #   Column        Non-Null Count  Dtype  \n",
            "---  ------        --------------  -----  \n",
            " 0   yr            730 non-null    int64  \n",
            " 1   holiday       730 non-null    int64  \n",
            " 2   workingday    730 non-null    int64  \n",
            " 3   temp          730 non-null    float64\n",
            " 4   atemp         730 non-null    float64\n",
            " 5   hum           730 non-null    float64\n",
            " 6   windspeed     730 non-null    float64\n",
            " 7   cnt           730 non-null    int64  \n",
            " 8   season_2      730 non-null    uint8  \n",
            " 9   season_3      730 non-null    uint8  \n",
            " 10  season_4      730 non-null    uint8  \n",
            " 11  mnth_2        730 non-null    uint8  \n",
            " 12  mnth_3        730 non-null    uint8  \n",
            " 13  mnth_4        730 non-null    uint8  \n",
            " 14  mnth_5        730 non-null    uint8  \n",
            " 15  mnth_6        730 non-null    uint8  \n",
            " 16  mnth_7        730 non-null    uint8  \n",
            " 17  mnth_8        730 non-null    uint8  \n",
            " 18  mnth_9        730 non-null    uint8  \n",
            " 19  mnth_10       730 non-null    uint8  \n",
            " 20  mnth_11       730 non-null    uint8  \n",
            " 21  mnth_12       730 non-null    uint8  \n",
            " 22  weekday_1     730 non-null    uint8  \n",
            " 23  weekday_2     730 non-null    uint8  \n",
            " 24  weekday_3     730 non-null    uint8  \n",
            " 25  weekday_4     730 non-null    uint8  \n",
            " 26  weekday_5     730 non-null    uint8  \n",
            " 27  weekday_6     730 non-null    uint8  \n",
            " 28  weathersit_2  730 non-null    uint8  \n",
            " 29  weathersit_3  730 non-null    uint8  \n",
            "dtypes: float64(4), int64(4), uint8(22)\n",
            "memory usage: 61.4 KB\n"
          ]
        }
      ]
    },
    {
      "cell_type": "markdown",
      "source": [
        "**Insight:** Dummies varible created for each of the category varible"
      ],
      "metadata": {
        "id": "ii0UoJGSIQEQ"
      }
    },
    {
      "cell_type": "markdown",
      "source": [
        "# **Data split into test data and traniing dataset**"
      ],
      "metadata": {
        "id": "zDp_Pi85c-G-"
      }
    },
    {
      "cell_type": "code",
      "source": [
        "df_new.shape # shape of the dataframe"
      ],
      "metadata": {
        "colab": {
          "base_uri": "https://localhost:8080/"
        },
        "id": "xE0jLZVazy4W",
        "outputId": "6a15ed81-9e58-4adf-a0fc-f52985787ea1"
      },
      "execution_count": 1724,
      "outputs": [
        {
          "output_type": "execute_result",
          "data": {
            "text/plain": [
              "(730, 30)"
            ]
          },
          "metadata": {},
          "execution_count": 1724
        }
      ]
    },
    {
      "cell_type": "code",
      "source": [
        "from sklearn.model_selection import train_test_split\n",
        "# data set here divided it into 70:30 ratio\n",
        "np.random.seed(0)\n",
        "df_train, df_test = train_test_split(df_new, train_size = 0.70, test_size = 0.30, random_state = 333)"
      ],
      "metadata": {
        "id": "-C6MotavehXm"
      },
      "execution_count": 1725,
      "outputs": []
    },
    {
      "cell_type": "markdown",
      "source": [
        "**Insight**:The dataset created into 70:30 ratio"
      ],
      "metadata": {
        "id": "bgzjjGVdInv4"
      }
    },
    {
      "cell_type": "markdown",
      "source": [
        "**Traning dataset and test dataset info**"
      ],
      "metadata": {
        "id": "95KLs1q9I-BA"
      }
    },
    {
      "cell_type": "code",
      "source": [
        "df_train.info()"
      ],
      "metadata": {
        "colab": {
          "base_uri": "https://localhost:8080/"
        },
        "id": "d2izpVgeGO3X",
        "outputId": "7c5e1848-a07a-475f-8301-e783ce66a3e8"
      },
      "execution_count": 1726,
      "outputs": [
        {
          "output_type": "stream",
          "name": "stdout",
          "text": [
            "<class 'pandas.core.frame.DataFrame'>\n",
            "Int64Index: 510 entries, 483 to 366\n",
            "Data columns (total 30 columns):\n",
            " #   Column        Non-Null Count  Dtype  \n",
            "---  ------        --------------  -----  \n",
            " 0   yr            510 non-null    int64  \n",
            " 1   holiday       510 non-null    int64  \n",
            " 2   workingday    510 non-null    int64  \n",
            " 3   temp          510 non-null    float64\n",
            " 4   atemp         510 non-null    float64\n",
            " 5   hum           510 non-null    float64\n",
            " 6   windspeed     510 non-null    float64\n",
            " 7   cnt           510 non-null    int64  \n",
            " 8   season_2      510 non-null    uint8  \n",
            " 9   season_3      510 non-null    uint8  \n",
            " 10  season_4      510 non-null    uint8  \n",
            " 11  mnth_2        510 non-null    uint8  \n",
            " 12  mnth_3        510 non-null    uint8  \n",
            " 13  mnth_4        510 non-null    uint8  \n",
            " 14  mnth_5        510 non-null    uint8  \n",
            " 15  mnth_6        510 non-null    uint8  \n",
            " 16  mnth_7        510 non-null    uint8  \n",
            " 17  mnth_8        510 non-null    uint8  \n",
            " 18  mnth_9        510 non-null    uint8  \n",
            " 19  mnth_10       510 non-null    uint8  \n",
            " 20  mnth_11       510 non-null    uint8  \n",
            " 21  mnth_12       510 non-null    uint8  \n",
            " 22  weekday_1     510 non-null    uint8  \n",
            " 23  weekday_2     510 non-null    uint8  \n",
            " 24  weekday_3     510 non-null    uint8  \n",
            " 25  weekday_4     510 non-null    uint8  \n",
            " 26  weekday_5     510 non-null    uint8  \n",
            " 27  weekday_6     510 non-null    uint8  \n",
            " 28  weathersit_2  510 non-null    uint8  \n",
            " 29  weathersit_3  510 non-null    uint8  \n",
            "dtypes: float64(4), int64(4), uint8(22)\n",
            "memory usage: 46.8 KB\n"
          ]
        }
      ]
    },
    {
      "cell_type": "code",
      "source": [
        "#df_train.info()\n",
        "df_train.shape # verify the training dataset got splitted correctly"
      ],
      "metadata": {
        "colab": {
          "base_uri": "https://localhost:8080/"
        },
        "id": "nK_YV9L_dr8i",
        "outputId": "ec6d07d2-fdee-4517-93b7-10b5e87ca0dd"
      },
      "execution_count": 1727,
      "outputs": [
        {
          "output_type": "execute_result",
          "data": {
            "text/plain": [
              "(510, 30)"
            ]
          },
          "metadata": {},
          "execution_count": 1727
        }
      ]
    },
    {
      "cell_type": "code",
      "source": [
        "#df_test.info()\n",
        "df_test.shape# verify the test data got splitted correctly"
      ],
      "metadata": {
        "colab": {
          "base_uri": "https://localhost:8080/"
        },
        "id": "fwIZ0XQkeflZ",
        "outputId": "bf486078-8676-4436-9fa5-2d8dbd461c80"
      },
      "execution_count": 1728,
      "outputs": [
        {
          "output_type": "execute_result",
          "data": {
            "text/plain": [
              "(219, 30)"
            ]
          },
          "metadata": {},
          "execution_count": 1728
        }
      ]
    },
    {
      "cell_type": "markdown",
      "source": [
        "# **Feauture** **Rescaling**"
      ],
      "metadata": {
        "id": "3PpHrbDbfEvF"
      }
    },
    {
      "cell_type": "code",
      "source": [
        "from sklearn.preprocessing import MinMaxScaler\n",
        "scaler= MinMaxScaler() # using minmax scaler for scaling"
      ],
      "metadata": {
        "id": "ZOToHsSme00-"
      },
      "execution_count": 1729,
      "outputs": []
    },
    {
      "cell_type": "code",
      "source": [
        "df_train.head()"
      ],
      "metadata": {
        "colab": {
          "base_uri": "https://localhost:8080/",
          "height": 299
        },
        "id": "fKsfMMnvgJ5P",
        "outputId": "f0ab5cc8-37d9-43e4-fee4-f2282f3401f8"
      },
      "execution_count": 1730,
      "outputs": [
        {
          "output_type": "execute_result",
          "data": {
            "text/plain": [
              "     yr  holiday  workingday       temp     atemp      hum  windspeed   cnt  \\\n",
              "483   1        0           1  18.791653  22.50605  58.7083   7.832836  6304   \n",
              "650   1        0           0  16.126653  19.56980  49.4583   9.791514  7109   \n",
              "212   0        0           1  31.638347  35.16460  55.0833  10.500039  4266   \n",
              "714   1        0           1  14.862500  18.49690  83.8750   6.749714  3786   \n",
              "8     0        0           1   5.671653   5.80875  43.4167  24.250650   822   \n",
              "\n",
              "     season_2  season_3  ...  mnth_11  mnth_12  weekday_1  weekday_2  \\\n",
              "483         1         0  ...        0        0          1          0   \n",
              "650         0         0  ...        0        0          0          0   \n",
              "212         0         1  ...        0        0          0          0   \n",
              "714         0         0  ...        0        1          1          0   \n",
              "8           0         0  ...        0        0          0          1   \n",
              "\n",
              "     weekday_3  weekday_4  weekday_5  weekday_6  weathersit_2  weathersit_3  \n",
              "483          0          0          0          0             0             0  \n",
              "650          0          0          0          0             0             0  \n",
              "212          1          0          0          0             0             0  \n",
              "714          0          0          0          0             1             0  \n",
              "8            0          0          0          0             0             0  \n",
              "\n",
              "[5 rows x 30 columns]"
            ],
            "text/html": [
              "\n",
              "  <div id=\"df-d3ec6ee7-b5f2-46c0-afc7-f781573c22e7\">\n",
              "    <div class=\"colab-df-container\">\n",
              "      <div>\n",
              "<style scoped>\n",
              "    .dataframe tbody tr th:only-of-type {\n",
              "        vertical-align: middle;\n",
              "    }\n",
              "\n",
              "    .dataframe tbody tr th {\n",
              "        vertical-align: top;\n",
              "    }\n",
              "\n",
              "    .dataframe thead th {\n",
              "        text-align: right;\n",
              "    }\n",
              "</style>\n",
              "<table border=\"1\" class=\"dataframe\">\n",
              "  <thead>\n",
              "    <tr style=\"text-align: right;\">\n",
              "      <th></th>\n",
              "      <th>yr</th>\n",
              "      <th>holiday</th>\n",
              "      <th>workingday</th>\n",
              "      <th>temp</th>\n",
              "      <th>atemp</th>\n",
              "      <th>hum</th>\n",
              "      <th>windspeed</th>\n",
              "      <th>cnt</th>\n",
              "      <th>season_2</th>\n",
              "      <th>season_3</th>\n",
              "      <th>...</th>\n",
              "      <th>mnth_11</th>\n",
              "      <th>mnth_12</th>\n",
              "      <th>weekday_1</th>\n",
              "      <th>weekday_2</th>\n",
              "      <th>weekday_3</th>\n",
              "      <th>weekday_4</th>\n",
              "      <th>weekday_5</th>\n",
              "      <th>weekday_6</th>\n",
              "      <th>weathersit_2</th>\n",
              "      <th>weathersit_3</th>\n",
              "    </tr>\n",
              "  </thead>\n",
              "  <tbody>\n",
              "    <tr>\n",
              "      <th>483</th>\n",
              "      <td>1</td>\n",
              "      <td>0</td>\n",
              "      <td>1</td>\n",
              "      <td>18.791653</td>\n",
              "      <td>22.50605</td>\n",
              "      <td>58.7083</td>\n",
              "      <td>7.832836</td>\n",
              "      <td>6304</td>\n",
              "      <td>1</td>\n",
              "      <td>0</td>\n",
              "      <td>...</td>\n",
              "      <td>0</td>\n",
              "      <td>0</td>\n",
              "      <td>1</td>\n",
              "      <td>0</td>\n",
              "      <td>0</td>\n",
              "      <td>0</td>\n",
              "      <td>0</td>\n",
              "      <td>0</td>\n",
              "      <td>0</td>\n",
              "      <td>0</td>\n",
              "    </tr>\n",
              "    <tr>\n",
              "      <th>650</th>\n",
              "      <td>1</td>\n",
              "      <td>0</td>\n",
              "      <td>0</td>\n",
              "      <td>16.126653</td>\n",
              "      <td>19.56980</td>\n",
              "      <td>49.4583</td>\n",
              "      <td>9.791514</td>\n",
              "      <td>7109</td>\n",
              "      <td>0</td>\n",
              "      <td>0</td>\n",
              "      <td>...</td>\n",
              "      <td>0</td>\n",
              "      <td>0</td>\n",
              "      <td>0</td>\n",
              "      <td>0</td>\n",
              "      <td>0</td>\n",
              "      <td>0</td>\n",
              "      <td>0</td>\n",
              "      <td>0</td>\n",
              "      <td>0</td>\n",
              "      <td>0</td>\n",
              "    </tr>\n",
              "    <tr>\n",
              "      <th>212</th>\n",
              "      <td>0</td>\n",
              "      <td>0</td>\n",
              "      <td>1</td>\n",
              "      <td>31.638347</td>\n",
              "      <td>35.16460</td>\n",
              "      <td>55.0833</td>\n",
              "      <td>10.500039</td>\n",
              "      <td>4266</td>\n",
              "      <td>0</td>\n",
              "      <td>1</td>\n",
              "      <td>...</td>\n",
              "      <td>0</td>\n",
              "      <td>0</td>\n",
              "      <td>0</td>\n",
              "      <td>0</td>\n",
              "      <td>1</td>\n",
              "      <td>0</td>\n",
              "      <td>0</td>\n",
              "      <td>0</td>\n",
              "      <td>0</td>\n",
              "      <td>0</td>\n",
              "    </tr>\n",
              "    <tr>\n",
              "      <th>714</th>\n",
              "      <td>1</td>\n",
              "      <td>0</td>\n",
              "      <td>1</td>\n",
              "      <td>14.862500</td>\n",
              "      <td>18.49690</td>\n",
              "      <td>83.8750</td>\n",
              "      <td>6.749714</td>\n",
              "      <td>3786</td>\n",
              "      <td>0</td>\n",
              "      <td>0</td>\n",
              "      <td>...</td>\n",
              "      <td>0</td>\n",
              "      <td>1</td>\n",
              "      <td>1</td>\n",
              "      <td>0</td>\n",
              "      <td>0</td>\n",
              "      <td>0</td>\n",
              "      <td>0</td>\n",
              "      <td>0</td>\n",
              "      <td>1</td>\n",
              "      <td>0</td>\n",
              "    </tr>\n",
              "    <tr>\n",
              "      <th>8</th>\n",
              "      <td>0</td>\n",
              "      <td>0</td>\n",
              "      <td>1</td>\n",
              "      <td>5.671653</td>\n",
              "      <td>5.80875</td>\n",
              "      <td>43.4167</td>\n",
              "      <td>24.250650</td>\n",
              "      <td>822</td>\n",
              "      <td>0</td>\n",
              "      <td>0</td>\n",
              "      <td>...</td>\n",
              "      <td>0</td>\n",
              "      <td>0</td>\n",
              "      <td>0</td>\n",
              "      <td>1</td>\n",
              "      <td>0</td>\n",
              "      <td>0</td>\n",
              "      <td>0</td>\n",
              "      <td>0</td>\n",
              "      <td>0</td>\n",
              "      <td>0</td>\n",
              "    </tr>\n",
              "  </tbody>\n",
              "</table>\n",
              "<p>5 rows × 30 columns</p>\n",
              "</div>\n",
              "      <button class=\"colab-df-convert\" onclick=\"convertToInteractive('df-d3ec6ee7-b5f2-46c0-afc7-f781573c22e7')\"\n",
              "              title=\"Convert this dataframe to an interactive table.\"\n",
              "              style=\"display:none;\">\n",
              "        \n",
              "  <svg xmlns=\"http://www.w3.org/2000/svg\" height=\"24px\"viewBox=\"0 0 24 24\"\n",
              "       width=\"24px\">\n",
              "    <path d=\"M0 0h24v24H0V0z\" fill=\"none\"/>\n",
              "    <path d=\"M18.56 5.44l.94 2.06.94-2.06 2.06-.94-2.06-.94-.94-2.06-.94 2.06-2.06.94zm-11 1L8.5 8.5l.94-2.06 2.06-.94-2.06-.94L8.5 2.5l-.94 2.06-2.06.94zm10 10l.94 2.06.94-2.06 2.06-.94-2.06-.94-.94-2.06-.94 2.06-2.06.94z\"/><path d=\"M17.41 7.96l-1.37-1.37c-.4-.4-.92-.59-1.43-.59-.52 0-1.04.2-1.43.59L10.3 9.45l-7.72 7.72c-.78.78-.78 2.05 0 2.83L4 21.41c.39.39.9.59 1.41.59.51 0 1.02-.2 1.41-.59l7.78-7.78 2.81-2.81c.8-.78.8-2.07 0-2.86zM5.41 20L4 18.59l7.72-7.72 1.47 1.35L5.41 20z\"/>\n",
              "  </svg>\n",
              "      </button>\n",
              "      \n",
              "  <style>\n",
              "    .colab-df-container {\n",
              "      display:flex;\n",
              "      flex-wrap:wrap;\n",
              "      gap: 12px;\n",
              "    }\n",
              "\n",
              "    .colab-df-convert {\n",
              "      background-color: #E8F0FE;\n",
              "      border: none;\n",
              "      border-radius: 50%;\n",
              "      cursor: pointer;\n",
              "      display: none;\n",
              "      fill: #1967D2;\n",
              "      height: 32px;\n",
              "      padding: 0 0 0 0;\n",
              "      width: 32px;\n",
              "    }\n",
              "\n",
              "    .colab-df-convert:hover {\n",
              "      background-color: #E2EBFA;\n",
              "      box-shadow: 0px 1px 2px rgba(60, 64, 67, 0.3), 0px 1px 3px 1px rgba(60, 64, 67, 0.15);\n",
              "      fill: #174EA6;\n",
              "    }\n",
              "\n",
              "    [theme=dark] .colab-df-convert {\n",
              "      background-color: #3B4455;\n",
              "      fill: #D2E3FC;\n",
              "    }\n",
              "\n",
              "    [theme=dark] .colab-df-convert:hover {\n",
              "      background-color: #434B5C;\n",
              "      box-shadow: 0px 1px 3px 1px rgba(0, 0, 0, 0.15);\n",
              "      filter: drop-shadow(0px 1px 2px rgba(0, 0, 0, 0.3));\n",
              "      fill: #FFFFFF;\n",
              "    }\n",
              "  </style>\n",
              "\n",
              "      <script>\n",
              "        const buttonEl =\n",
              "          document.querySelector('#df-d3ec6ee7-b5f2-46c0-afc7-f781573c22e7 button.colab-df-convert');\n",
              "        buttonEl.style.display =\n",
              "          google.colab.kernel.accessAllowed ? 'block' : 'none';\n",
              "\n",
              "        async function convertToInteractive(key) {\n",
              "          const element = document.querySelector('#df-d3ec6ee7-b5f2-46c0-afc7-f781573c22e7');\n",
              "          const dataTable =\n",
              "            await google.colab.kernel.invokeFunction('convertToInteractive',\n",
              "                                                     [key], {});\n",
              "          if (!dataTable) return;\n",
              "\n",
              "          const docLinkHtml = 'Like what you see? Visit the ' +\n",
              "            '<a target=\"_blank\" href=https://colab.research.google.com/notebooks/data_table.ipynb>data table notebook</a>'\n",
              "            + ' to learn more about interactive tables.';\n",
              "          element.innerHTML = '';\n",
              "          dataTable['output_type'] = 'display_data';\n",
              "          await google.colab.output.renderOutput(dataTable, element);\n",
              "          const docLink = document.createElement('div');\n",
              "          docLink.innerHTML = docLinkHtml;\n",
              "          element.appendChild(docLink);\n",
              "        }\n",
              "      </script>\n",
              "    </div>\n",
              "  </div>\n",
              "  "
            ]
          },
          "metadata": {},
          "execution_count": 1730
        }
      ]
    },
    {
      "cell_type": "markdown",
      "source": [
        "**Scalar function is applied to temp, atemp, hum, windspeed, cnt**"
      ],
      "metadata": {
        "id": "6IW3xQuxJfAu"
      }
    },
    {
      "cell_type": "code",
      "source": [
        "#Scalar function applied\n",
        "\n",
        "num_vars=['temp','atemp','hum','windspeed','cnt']\n",
        "\n",
        "df_train[num_vars]= scaler.fit_transform(df_train[num_vars])"
      ],
      "metadata": {
        "id": "lK2B1LHfe6Ks"
      },
      "execution_count": 1731,
      "outputs": []
    },
    {
      "cell_type": "code",
      "source": [
        "\n",
        "df_train.head(4)"
      ],
      "metadata": {
        "colab": {
          "base_uri": "https://localhost:8080/",
          "height": 268
        },
        "id": "y8lfxAeq7Eot",
        "outputId": "7d9848d5-beee-4d24-a903-fdc2d791370c"
      },
      "execution_count": 1732,
      "outputs": [
        {
          "output_type": "execute_result",
          "data": {
            "text/plain": [
              "     yr  holiday  workingday      temp     atemp       hum  windspeed  \\\n",
              "483   1        0           1  0.497426  0.487055  0.609956   0.194850   \n",
              "650   1        0           0  0.416433  0.409971  0.513852   0.255118   \n",
              "212   0        0           1  0.887856  0.819376  0.572294   0.276919   \n",
              "714   1        0           1  0.378013  0.381804  0.871429   0.161523   \n",
              "\n",
              "          cnt  season_2  season_3  ...  mnth_11  mnth_12  weekday_1  \\\n",
              "483  0.722734         1         0  ...        0        0          1   \n",
              "650  0.815347         0         0  ...        0        0          0   \n",
              "212  0.488265         0         1  ...        0        0          0   \n",
              "714  0.433042         0         0  ...        0        1          1   \n",
              "\n",
              "     weekday_2  weekday_3  weekday_4  weekday_5  weekday_6  weathersit_2  \\\n",
              "483          0          0          0          0          0             0   \n",
              "650          0          0          0          0          0             0   \n",
              "212          0          1          0          0          0             0   \n",
              "714          0          0          0          0          0             1   \n",
              "\n",
              "     weathersit_3  \n",
              "483             0  \n",
              "650             0  \n",
              "212             0  \n",
              "714             0  \n",
              "\n",
              "[4 rows x 30 columns]"
            ],
            "text/html": [
              "\n",
              "  <div id=\"df-7af5d9c3-63c9-4126-8902-4123aebed9cc\">\n",
              "    <div class=\"colab-df-container\">\n",
              "      <div>\n",
              "<style scoped>\n",
              "    .dataframe tbody tr th:only-of-type {\n",
              "        vertical-align: middle;\n",
              "    }\n",
              "\n",
              "    .dataframe tbody tr th {\n",
              "        vertical-align: top;\n",
              "    }\n",
              "\n",
              "    .dataframe thead th {\n",
              "        text-align: right;\n",
              "    }\n",
              "</style>\n",
              "<table border=\"1\" class=\"dataframe\">\n",
              "  <thead>\n",
              "    <tr style=\"text-align: right;\">\n",
              "      <th></th>\n",
              "      <th>yr</th>\n",
              "      <th>holiday</th>\n",
              "      <th>workingday</th>\n",
              "      <th>temp</th>\n",
              "      <th>atemp</th>\n",
              "      <th>hum</th>\n",
              "      <th>windspeed</th>\n",
              "      <th>cnt</th>\n",
              "      <th>season_2</th>\n",
              "      <th>season_3</th>\n",
              "      <th>...</th>\n",
              "      <th>mnth_11</th>\n",
              "      <th>mnth_12</th>\n",
              "      <th>weekday_1</th>\n",
              "      <th>weekday_2</th>\n",
              "      <th>weekday_3</th>\n",
              "      <th>weekday_4</th>\n",
              "      <th>weekday_5</th>\n",
              "      <th>weekday_6</th>\n",
              "      <th>weathersit_2</th>\n",
              "      <th>weathersit_3</th>\n",
              "    </tr>\n",
              "  </thead>\n",
              "  <tbody>\n",
              "    <tr>\n",
              "      <th>483</th>\n",
              "      <td>1</td>\n",
              "      <td>0</td>\n",
              "      <td>1</td>\n",
              "      <td>0.497426</td>\n",
              "      <td>0.487055</td>\n",
              "      <td>0.609956</td>\n",
              "      <td>0.194850</td>\n",
              "      <td>0.722734</td>\n",
              "      <td>1</td>\n",
              "      <td>0</td>\n",
              "      <td>...</td>\n",
              "      <td>0</td>\n",
              "      <td>0</td>\n",
              "      <td>1</td>\n",
              "      <td>0</td>\n",
              "      <td>0</td>\n",
              "      <td>0</td>\n",
              "      <td>0</td>\n",
              "      <td>0</td>\n",
              "      <td>0</td>\n",
              "      <td>0</td>\n",
              "    </tr>\n",
              "    <tr>\n",
              "      <th>650</th>\n",
              "      <td>1</td>\n",
              "      <td>0</td>\n",
              "      <td>0</td>\n",
              "      <td>0.416433</td>\n",
              "      <td>0.409971</td>\n",
              "      <td>0.513852</td>\n",
              "      <td>0.255118</td>\n",
              "      <td>0.815347</td>\n",
              "      <td>0</td>\n",
              "      <td>0</td>\n",
              "      <td>...</td>\n",
              "      <td>0</td>\n",
              "      <td>0</td>\n",
              "      <td>0</td>\n",
              "      <td>0</td>\n",
              "      <td>0</td>\n",
              "      <td>0</td>\n",
              "      <td>0</td>\n",
              "      <td>0</td>\n",
              "      <td>0</td>\n",
              "      <td>0</td>\n",
              "    </tr>\n",
              "    <tr>\n",
              "      <th>212</th>\n",
              "      <td>0</td>\n",
              "      <td>0</td>\n",
              "      <td>1</td>\n",
              "      <td>0.887856</td>\n",
              "      <td>0.819376</td>\n",
              "      <td>0.572294</td>\n",
              "      <td>0.276919</td>\n",
              "      <td>0.488265</td>\n",
              "      <td>0</td>\n",
              "      <td>1</td>\n",
              "      <td>...</td>\n",
              "      <td>0</td>\n",
              "      <td>0</td>\n",
              "      <td>0</td>\n",
              "      <td>0</td>\n",
              "      <td>1</td>\n",
              "      <td>0</td>\n",
              "      <td>0</td>\n",
              "      <td>0</td>\n",
              "      <td>0</td>\n",
              "      <td>0</td>\n",
              "    </tr>\n",
              "    <tr>\n",
              "      <th>714</th>\n",
              "      <td>1</td>\n",
              "      <td>0</td>\n",
              "      <td>1</td>\n",
              "      <td>0.378013</td>\n",
              "      <td>0.381804</td>\n",
              "      <td>0.871429</td>\n",
              "      <td>0.161523</td>\n",
              "      <td>0.433042</td>\n",
              "      <td>0</td>\n",
              "      <td>0</td>\n",
              "      <td>...</td>\n",
              "      <td>0</td>\n",
              "      <td>1</td>\n",
              "      <td>1</td>\n",
              "      <td>0</td>\n",
              "      <td>0</td>\n",
              "      <td>0</td>\n",
              "      <td>0</td>\n",
              "      <td>0</td>\n",
              "      <td>1</td>\n",
              "      <td>0</td>\n",
              "    </tr>\n",
              "  </tbody>\n",
              "</table>\n",
              "<p>4 rows × 30 columns</p>\n",
              "</div>\n",
              "      <button class=\"colab-df-convert\" onclick=\"convertToInteractive('df-7af5d9c3-63c9-4126-8902-4123aebed9cc')\"\n",
              "              title=\"Convert this dataframe to an interactive table.\"\n",
              "              style=\"display:none;\">\n",
              "        \n",
              "  <svg xmlns=\"http://www.w3.org/2000/svg\" height=\"24px\"viewBox=\"0 0 24 24\"\n",
              "       width=\"24px\">\n",
              "    <path d=\"M0 0h24v24H0V0z\" fill=\"none\"/>\n",
              "    <path d=\"M18.56 5.44l.94 2.06.94-2.06 2.06-.94-2.06-.94-.94-2.06-.94 2.06-2.06.94zm-11 1L8.5 8.5l.94-2.06 2.06-.94-2.06-.94L8.5 2.5l-.94 2.06-2.06.94zm10 10l.94 2.06.94-2.06 2.06-.94-2.06-.94-.94-2.06-.94 2.06-2.06.94z\"/><path d=\"M17.41 7.96l-1.37-1.37c-.4-.4-.92-.59-1.43-.59-.52 0-1.04.2-1.43.59L10.3 9.45l-7.72 7.72c-.78.78-.78 2.05 0 2.83L4 21.41c.39.39.9.59 1.41.59.51 0 1.02-.2 1.41-.59l7.78-7.78 2.81-2.81c.8-.78.8-2.07 0-2.86zM5.41 20L4 18.59l7.72-7.72 1.47 1.35L5.41 20z\"/>\n",
              "  </svg>\n",
              "      </button>\n",
              "      \n",
              "  <style>\n",
              "    .colab-df-container {\n",
              "      display:flex;\n",
              "      flex-wrap:wrap;\n",
              "      gap: 12px;\n",
              "    }\n",
              "\n",
              "    .colab-df-convert {\n",
              "      background-color: #E8F0FE;\n",
              "      border: none;\n",
              "      border-radius: 50%;\n",
              "      cursor: pointer;\n",
              "      display: none;\n",
              "      fill: #1967D2;\n",
              "      height: 32px;\n",
              "      padding: 0 0 0 0;\n",
              "      width: 32px;\n",
              "    }\n",
              "\n",
              "    .colab-df-convert:hover {\n",
              "      background-color: #E2EBFA;\n",
              "      box-shadow: 0px 1px 2px rgba(60, 64, 67, 0.3), 0px 1px 3px 1px rgba(60, 64, 67, 0.15);\n",
              "      fill: #174EA6;\n",
              "    }\n",
              "\n",
              "    [theme=dark] .colab-df-convert {\n",
              "      background-color: #3B4455;\n",
              "      fill: #D2E3FC;\n",
              "    }\n",
              "\n",
              "    [theme=dark] .colab-df-convert:hover {\n",
              "      background-color: #434B5C;\n",
              "      box-shadow: 0px 1px 3px 1px rgba(0, 0, 0, 0.15);\n",
              "      filter: drop-shadow(0px 1px 2px rgba(0, 0, 0, 0.3));\n",
              "      fill: #FFFFFF;\n",
              "    }\n",
              "  </style>\n",
              "\n",
              "      <script>\n",
              "        const buttonEl =\n",
              "          document.querySelector('#df-7af5d9c3-63c9-4126-8902-4123aebed9cc button.colab-df-convert');\n",
              "        buttonEl.style.display =\n",
              "          google.colab.kernel.accessAllowed ? 'block' : 'none';\n",
              "\n",
              "        async function convertToInteractive(key) {\n",
              "          const element = document.querySelector('#df-7af5d9c3-63c9-4126-8902-4123aebed9cc');\n",
              "          const dataTable =\n",
              "            await google.colab.kernel.invokeFunction('convertToInteractive',\n",
              "                                                     [key], {});\n",
              "          if (!dataTable) return;\n",
              "\n",
              "          const docLinkHtml = 'Like what you see? Visit the ' +\n",
              "            '<a target=\"_blank\" href=https://colab.research.google.com/notebooks/data_table.ipynb>data table notebook</a>'\n",
              "            + ' to learn more about interactive tables.';\n",
              "          element.innerHTML = '';\n",
              "          dataTable['output_type'] = 'display_data';\n",
              "          await google.colab.output.renderOutput(dataTable, element);\n",
              "          const docLink = document.createElement('div');\n",
              "          docLink.innerHTML = docLinkHtml;\n",
              "          element.appendChild(docLink);\n",
              "        }\n",
              "      </script>\n",
              "    </div>\n",
              "  </div>\n",
              "  "
            ]
          },
          "metadata": {},
          "execution_count": 1732
        }
      ]
    },
    {
      "cell_type": "markdown",
      "source": [
        "# **Linear Model**:RFE"
      ],
      "metadata": {
        "id": "IMaAx4UPj00z"
      }
    },
    {
      "cell_type": "markdown",
      "source": [
        "**Dividing X and y dataset**"
      ],
      "metadata": {
        "id": "adcXq-GHKbzG"
      }
    },
    {
      "cell_type": "code",
      "source": [
        "# Dividing X and y dataset \n",
        "y_train = df_train.pop('cnt')\n",
        "X_train = df_train"
      ],
      "metadata": {
        "id": "NucJa7R_fQ25"
      },
      "execution_count": 1733,
      "outputs": []
    },
    {
      "cell_type": "code",
      "source": [
        "# RFE for automated feature selection\n",
        "from sklearn.feature_selection import RFE\n",
        "# LinearRegression\n",
        "from sklearn.linear_model import LinearRegression"
      ],
      "metadata": {
        "id": "Anpufce8fZ6O"
      },
      "execution_count": 1734,
      "outputs": []
    },
    {
      "cell_type": "code",
      "source": [
        "\n",
        "lm = LinearRegression()\n",
        "lm.fit(X_train, y_train)\n"
      ],
      "metadata": {
        "id": "_gvIqyzdfcmP",
        "colab": {
          "base_uri": "https://localhost:8080/"
        },
        "outputId": "6926f2cd-cc69-4870-8cbe-a63998a7f5dc"
      },
      "execution_count": 1735,
      "outputs": [
        {
          "output_type": "execute_result",
          "data": {
            "text/plain": [
              "LinearRegression()"
            ]
          },
          "metadata": {},
          "execution_count": 1735
        }
      ]
    },
    {
      "cell_type": "markdown",
      "source": [
        "**Number of feature varible for selection is 15**"
      ],
      "metadata": {
        "id": "1n0is4BgKl5O"
      }
    },
    {
      "cell_type": "code",
      "source": [
        "rfe = RFE(lm,n_features_to_select=15) # running RFE (varible 15)\n",
        "rfe = rfe.fit(X_train, y_train)"
      ],
      "metadata": {
        "id": "tYd8oZREIW2S"
      },
      "execution_count": 1736,
      "outputs": []
    },
    {
      "cell_type": "markdown",
      "source": [
        "**Insight:** Number of feature varible for selection is the half of the dataset varible (30)"
      ],
      "metadata": {
        "id": "zBm8609DNHjS"
      }
    },
    {
      "cell_type": "markdown",
      "source": [
        "**Ranking according to selection**"
      ],
      "metadata": {
        "id": "Gfc6OxG-K9Ww"
      }
    },
    {
      "cell_type": "code",
      "source": [
        "list(zip(X_train.columns,rfe.support_,rfe.ranking_))"
      ],
      "metadata": {
        "colab": {
          "base_uri": "https://localhost:8080/"
        },
        "id": "FXugS-deffLj",
        "outputId": "8f36e77f-63fa-4f61-db23-abc6c6440bda"
      },
      "execution_count": 1737,
      "outputs": [
        {
          "output_type": "execute_result",
          "data": {
            "text/plain": [
              "[('yr', True, 1),\n",
              " ('holiday', False, 11),\n",
              " ('workingday', False, 5),\n",
              " ('temp', True, 1),\n",
              " ('atemp', True, 1),\n",
              " ('hum', True, 1),\n",
              " ('windspeed', True, 1),\n",
              " ('season_2', True, 1),\n",
              " ('season_3', True, 1),\n",
              " ('season_4', True, 1),\n",
              " ('mnth_2', False, 10),\n",
              " ('mnth_3', True, 1),\n",
              " ('mnth_4', False, 8),\n",
              " ('mnth_5', False, 6),\n",
              " ('mnth_6', False, 7),\n",
              " ('mnth_7', False, 15),\n",
              " ('mnth_8', False, 9),\n",
              " ('mnth_9', True, 1),\n",
              " ('mnth_10', True, 1),\n",
              " ('mnth_11', False, 12),\n",
              " ('mnth_12', False, 13),\n",
              " ('weekday_1', True, 1),\n",
              " ('weekday_2', True, 1),\n",
              " ('weekday_3', False, 2),\n",
              " ('weekday_4', False, 4),\n",
              " ('weekday_5', False, 3),\n",
              " ('weekday_6', False, 14),\n",
              " ('weathersit_2', True, 1),\n",
              " ('weathersit_3', True, 1)]"
            ]
          },
          "metadata": {},
          "execution_count": 1737
        }
      ]
    },
    {
      "cell_type": "markdown",
      "source": [
        "**Selected columns**"
      ],
      "metadata": {
        "id": "pRMhoBBMLPrX"
      }
    },
    {
      "cell_type": "code",
      "source": [
        "col = X_train.columns[rfe.support_]\n",
        "col"
      ],
      "metadata": {
        "colab": {
          "base_uri": "https://localhost:8080/"
        },
        "id": "bQebRFojfhe0",
        "outputId": "d6420e11-7515-472f-9219-2c96fc2c6fc5"
      },
      "execution_count": 1738,
      "outputs": [
        {
          "output_type": "execute_result",
          "data": {
            "text/plain": [
              "Index(['yr', 'temp', 'atemp', 'hum', 'windspeed', 'season_2', 'season_3',\n",
              "       'season_4', 'mnth_3', 'mnth_9', 'mnth_10', 'weekday_1', 'weekday_2',\n",
              "       'weathersit_2', 'weathersit_3'],\n",
              "      dtype='object')"
            ]
          },
          "metadata": {},
          "execution_count": 1738
        }
      ]
    },
    {
      "cell_type": "markdown",
      "source": [
        "**Insight:** index of columns which is selected "
      ],
      "metadata": {
        "id": "f3FQ0Nw5MrAv"
      }
    },
    {
      "cell_type": "markdown",
      "source": [
        "**Unselected columns**"
      ],
      "metadata": {
        "id": "b1zyOX_uL92G"
      }
    },
    {
      "cell_type": "code",
      "source": [
        "# checking which columns have been eleminated \n",
        "X_train.columns[~rfe.support_]"
      ],
      "metadata": {
        "colab": {
          "base_uri": "https://localhost:8080/"
        },
        "id": "rf-AXe6Y5chH",
        "outputId": "ac854016-65a0-441b-dfb2-b5318ba8e3b5"
      },
      "execution_count": 1739,
      "outputs": [
        {
          "output_type": "execute_result",
          "data": {
            "text/plain": [
              "Index(['holiday', 'workingday', 'mnth_2', 'mnth_4', 'mnth_5', 'mnth_6',\n",
              "       'mnth_7', 'mnth_8', 'mnth_11', 'mnth_12', 'weekday_3', 'weekday_4',\n",
              "       'weekday_5', 'weekday_6'],\n",
              "      dtype='object')"
            ]
          },
          "metadata": {},
          "execution_count": 1739
        }
      ]
    },
    {
      "cell_type": "markdown",
      "source": [
        "**Insight:** index of columns which is not selected"
      ],
      "metadata": {
        "id": "6CcBRlY9M9hf"
      }
    },
    {
      "cell_type": "markdown",
      "source": [
        "**Test dataframe**"
      ],
      "metadata": {
        "id": "MT6P3x1oMWXm"
      }
    },
    {
      "cell_type": "code",
      "source": [
        "# Creating X_test dataframe  \n",
        "X_train_rfe = X_train[col]#RFE selected variables"
      ],
      "metadata": {
        "id": "gP61FY37fkLZ"
      },
      "execution_count": 1740,
      "outputs": []
    },
    {
      "cell_type": "markdown",
      "source": [
        "# **Linear Model**:**Model 1**"
      ],
      "metadata": {
        "id": "8wOKi5wG11rr"
      }
    },
    {
      "cell_type": "markdown",
      "source": [
        "**VIF: Model 1**"
      ],
      "metadata": {
        "id": "FHIVnjrDOK6B"
      }
    },
    {
      "cell_type": "code",
      "source": [
        "#VIF  \n",
        "from statsmodels.stats.outliers_influence import variance_inflation_factor\n",
        "vif = pd.DataFrame()\n",
        "vif['Features'] = X_train_rfe.columns\n",
        "vif['VIF'] = [variance_inflation_factor(X_train_rfe.values, i) for i in range(X_train_rfe.shape[1])]\n",
        "vif['VIF'] = round(vif['VIF'], 2)\n",
        "vif = vif.sort_values(by = \"VIF\", ascending =False)\n",
        "vif \n"
      ],
      "metadata": {
        "id": "odRaewu_KjNQ",
        "colab": {
          "base_uri": "https://localhost:8080/",
          "height": 520
        },
        "outputId": "9c4f72c1-f952-4285-bd7a-0dcdb17a9877"
      },
      "execution_count": 1741,
      "outputs": [
        {
          "output_type": "execute_result",
          "data": {
            "text/plain": [
              "        Features     VIF\n",
              "1           temp  386.08\n",
              "2          atemp  364.04\n",
              "3            hum   16.13\n",
              "6       season_3    7.11\n",
              "4      windspeed    4.51\n",
              "5       season_2    3.54\n",
              "7       season_4    3.02\n",
              "13  weathersit_2    2.15\n",
              "0             yr    2.02\n",
              "10       mnth_10    1.66\n",
              "9         mnth_9    1.28\n",
              "11     weekday_1    1.23\n",
              "12     weekday_2    1.23\n",
              "8         mnth_3    1.19\n",
              "14  weathersit_3    1.18"
            ],
            "text/html": [
              "\n",
              "  <div id=\"df-e189e1fd-9df9-402f-90cd-5756a6260f8c\">\n",
              "    <div class=\"colab-df-container\">\n",
              "      <div>\n",
              "<style scoped>\n",
              "    .dataframe tbody tr th:only-of-type {\n",
              "        vertical-align: middle;\n",
              "    }\n",
              "\n",
              "    .dataframe tbody tr th {\n",
              "        vertical-align: top;\n",
              "    }\n",
              "\n",
              "    .dataframe thead th {\n",
              "        text-align: right;\n",
              "    }\n",
              "</style>\n",
              "<table border=\"1\" class=\"dataframe\">\n",
              "  <thead>\n",
              "    <tr style=\"text-align: right;\">\n",
              "      <th></th>\n",
              "      <th>Features</th>\n",
              "      <th>VIF</th>\n",
              "    </tr>\n",
              "  </thead>\n",
              "  <tbody>\n",
              "    <tr>\n",
              "      <th>1</th>\n",
              "      <td>temp</td>\n",
              "      <td>386.08</td>\n",
              "    </tr>\n",
              "    <tr>\n",
              "      <th>2</th>\n",
              "      <td>atemp</td>\n",
              "      <td>364.04</td>\n",
              "    </tr>\n",
              "    <tr>\n",
              "      <th>3</th>\n",
              "      <td>hum</td>\n",
              "      <td>16.13</td>\n",
              "    </tr>\n",
              "    <tr>\n",
              "      <th>6</th>\n",
              "      <td>season_3</td>\n",
              "      <td>7.11</td>\n",
              "    </tr>\n",
              "    <tr>\n",
              "      <th>4</th>\n",
              "      <td>windspeed</td>\n",
              "      <td>4.51</td>\n",
              "    </tr>\n",
              "    <tr>\n",
              "      <th>5</th>\n",
              "      <td>season_2</td>\n",
              "      <td>3.54</td>\n",
              "    </tr>\n",
              "    <tr>\n",
              "      <th>7</th>\n",
              "      <td>season_4</td>\n",
              "      <td>3.02</td>\n",
              "    </tr>\n",
              "    <tr>\n",
              "      <th>13</th>\n",
              "      <td>weathersit_2</td>\n",
              "      <td>2.15</td>\n",
              "    </tr>\n",
              "    <tr>\n",
              "      <th>0</th>\n",
              "      <td>yr</td>\n",
              "      <td>2.02</td>\n",
              "    </tr>\n",
              "    <tr>\n",
              "      <th>10</th>\n",
              "      <td>mnth_10</td>\n",
              "      <td>1.66</td>\n",
              "    </tr>\n",
              "    <tr>\n",
              "      <th>9</th>\n",
              "      <td>mnth_9</td>\n",
              "      <td>1.28</td>\n",
              "    </tr>\n",
              "    <tr>\n",
              "      <th>11</th>\n",
              "      <td>weekday_1</td>\n",
              "      <td>1.23</td>\n",
              "    </tr>\n",
              "    <tr>\n",
              "      <th>12</th>\n",
              "      <td>weekday_2</td>\n",
              "      <td>1.23</td>\n",
              "    </tr>\n",
              "    <tr>\n",
              "      <th>8</th>\n",
              "      <td>mnth_3</td>\n",
              "      <td>1.19</td>\n",
              "    </tr>\n",
              "    <tr>\n",
              "      <th>14</th>\n",
              "      <td>weathersit_3</td>\n",
              "      <td>1.18</td>\n",
              "    </tr>\n",
              "  </tbody>\n",
              "</table>\n",
              "</div>\n",
              "      <button class=\"colab-df-convert\" onclick=\"convertToInteractive('df-e189e1fd-9df9-402f-90cd-5756a6260f8c')\"\n",
              "              title=\"Convert this dataframe to an interactive table.\"\n",
              "              style=\"display:none;\">\n",
              "        \n",
              "  <svg xmlns=\"http://www.w3.org/2000/svg\" height=\"24px\"viewBox=\"0 0 24 24\"\n",
              "       width=\"24px\">\n",
              "    <path d=\"M0 0h24v24H0V0z\" fill=\"none\"/>\n",
              "    <path d=\"M18.56 5.44l.94 2.06.94-2.06 2.06-.94-2.06-.94-.94-2.06-.94 2.06-2.06.94zm-11 1L8.5 8.5l.94-2.06 2.06-.94-2.06-.94L8.5 2.5l-.94 2.06-2.06.94zm10 10l.94 2.06.94-2.06 2.06-.94-2.06-.94-.94-2.06-.94 2.06-2.06.94z\"/><path d=\"M17.41 7.96l-1.37-1.37c-.4-.4-.92-.59-1.43-.59-.52 0-1.04.2-1.43.59L10.3 9.45l-7.72 7.72c-.78.78-.78 2.05 0 2.83L4 21.41c.39.39.9.59 1.41.59.51 0 1.02-.2 1.41-.59l7.78-7.78 2.81-2.81c.8-.78.8-2.07 0-2.86zM5.41 20L4 18.59l7.72-7.72 1.47 1.35L5.41 20z\"/>\n",
              "  </svg>\n",
              "      </button>\n",
              "      \n",
              "  <style>\n",
              "    .colab-df-container {\n",
              "      display:flex;\n",
              "      flex-wrap:wrap;\n",
              "      gap: 12px;\n",
              "    }\n",
              "\n",
              "    .colab-df-convert {\n",
              "      background-color: #E8F0FE;\n",
              "      border: none;\n",
              "      border-radius: 50%;\n",
              "      cursor: pointer;\n",
              "      display: none;\n",
              "      fill: #1967D2;\n",
              "      height: 32px;\n",
              "      padding: 0 0 0 0;\n",
              "      width: 32px;\n",
              "    }\n",
              "\n",
              "    .colab-df-convert:hover {\n",
              "      background-color: #E2EBFA;\n",
              "      box-shadow: 0px 1px 2px rgba(60, 64, 67, 0.3), 0px 1px 3px 1px rgba(60, 64, 67, 0.15);\n",
              "      fill: #174EA6;\n",
              "    }\n",
              "\n",
              "    [theme=dark] .colab-df-convert {\n",
              "      background-color: #3B4455;\n",
              "      fill: #D2E3FC;\n",
              "    }\n",
              "\n",
              "    [theme=dark] .colab-df-convert:hover {\n",
              "      background-color: #434B5C;\n",
              "      box-shadow: 0px 1px 3px 1px rgba(0, 0, 0, 0.15);\n",
              "      filter: drop-shadow(0px 1px 2px rgba(0, 0, 0, 0.3));\n",
              "      fill: #FFFFFF;\n",
              "    }\n",
              "  </style>\n",
              "\n",
              "      <script>\n",
              "        const buttonEl =\n",
              "          document.querySelector('#df-e189e1fd-9df9-402f-90cd-5756a6260f8c button.colab-df-convert');\n",
              "        buttonEl.style.display =\n",
              "          google.colab.kernel.accessAllowed ? 'block' : 'none';\n",
              "\n",
              "        async function convertToInteractive(key) {\n",
              "          const element = document.querySelector('#df-e189e1fd-9df9-402f-90cd-5756a6260f8c');\n",
              "          const dataTable =\n",
              "            await google.colab.kernel.invokeFunction('convertToInteractive',\n",
              "                                                     [key], {});\n",
              "          if (!dataTable) return;\n",
              "\n",
              "          const docLinkHtml = 'Like what you see? Visit the ' +\n",
              "            '<a target=\"_blank\" href=https://colab.research.google.com/notebooks/data_table.ipynb>data table notebook</a>'\n",
              "            + ' to learn more about interactive tables.';\n",
              "          element.innerHTML = '';\n",
              "          dataTable['output_type'] = 'display_data';\n",
              "          await google.colab.output.renderOutput(dataTable, element);\n",
              "          const docLink = document.createElement('div');\n",
              "          docLink.innerHTML = docLinkHtml;\n",
              "          element.appendChild(docLink);\n",
              "        }\n",
              "      </script>\n",
              "    </div>\n",
              "  </div>\n",
              "  "
            ]
          },
          "metadata": {},
          "execution_count": 1741
        }
      ]
    },
    {
      "cell_type": "markdown",
      "source": [
        "**Model 1 fitting and summary**"
      ],
      "metadata": {
        "id": "MBT_VK8POZR3"
      }
    },
    {
      "cell_type": "code",
      "source": [
        "import statsmodels.api as sm\n",
        "\n",
        "# Add a constant\n",
        "X_train_lm1 = sm.add_constant(X_train_rfe)\n",
        "# first  model\n",
        "lr1 = sm.OLS(y_train, X_train_lm1).fit()\n",
        "print(lr1.summary())"
      ],
      "metadata": {
        "colab": {
          "base_uri": "https://localhost:8080/"
        },
        "id": "Xf_-J3RH2lb6",
        "outputId": "6cd120d8-3bd1-4dbd-9137-c2e07904cc14"
      },
      "execution_count": 1742,
      "outputs": [
        {
          "output_type": "stream",
          "name": "stdout",
          "text": [
            "                            OLS Regression Results                            \n",
            "==============================================================================\n",
            "Dep. Variable:                    cnt   R-squared:                       0.840\n",
            "Model:                            OLS   Adj. R-squared:                  0.835\n",
            "Method:                 Least Squares   F-statistic:                     173.1\n",
            "Date:                Sat, 30 Jul 2022   Prob (F-statistic):          1.36e-185\n",
            "Time:                        16:32:00   Log-Likelihood:                 506.80\n",
            "No. Observations:                 510   AIC:                            -981.6\n",
            "Df Residuals:                     494   BIC:                            -913.9\n",
            "Df Model:                          15                                         \n",
            "Covariance Type:            nonrobust                                         \n",
            "================================================================================\n",
            "                   coef    std err          t      P>|t|      [0.025      0.975]\n",
            "--------------------------------------------------------------------------------\n",
            "const            0.2380      0.028      8.437      0.000       0.183       0.293\n",
            "yr               0.2288      0.008     27.884      0.000       0.213       0.245\n",
            "temp             0.3943      0.135      2.921      0.004       0.129       0.659\n",
            "atemp            0.0887      0.138      0.642      0.521      -0.183       0.360\n",
            "hum             -0.1710      0.038     -4.541      0.000      -0.245      -0.097\n",
            "windspeed       -0.1799      0.028     -6.400      0.000      -0.235      -0.125\n",
            "season_2         0.1324      0.015      8.669      0.000       0.102       0.162\n",
            "season_3         0.0853      0.021      4.063      0.000       0.044       0.127\n",
            "season_4         0.1525      0.014     10.648      0.000       0.124       0.181\n",
            "mnth_3           0.0471      0.016      2.940      0.003       0.016       0.079\n",
            "mnth_9           0.1005      0.016      6.302      0.000       0.069       0.132\n",
            "mnth_10          0.0557      0.018      3.101      0.002       0.020       0.091\n",
            "weekday_1       -0.0243      0.012     -2.055      0.040      -0.047      -0.001\n",
            "weekday_2       -0.0368      0.011     -3.218      0.001      -0.059      -0.014\n",
            "weathersit_2    -0.0477      0.011     -4.450      0.000      -0.069      -0.027\n",
            "weathersit_3    -0.2723      0.029     -9.533      0.000      -0.328      -0.216\n",
            "==============================================================================\n",
            "Omnibus:                       93.066   Durbin-Watson:                   2.030\n",
            "Prob(Omnibus):                  0.000   Jarque-Bera (JB):              225.298\n",
            "Skew:                          -0.933   Prob(JB):                     1.19e-49\n",
            "Kurtosis:                       5.668   Cond. No.                         79.7\n",
            "==============================================================================\n",
            "\n",
            "Warnings:\n",
            "[1] Standard Errors assume that the covariance matrix of the errors is correctly specified.\n"
          ]
        }
      ]
    },
    {
      "cell_type": "markdown",
      "source": [
        "# **Model 2**\n",
        "\n",
        "**Insight:** Removing the variable 'atemp' based on its high p-valueand VIF (temp is not removed because bike demand depends on it more)"
      ],
      "metadata": {
        "id": "UrhR_1bD3FIa"
      }
    },
    {
      "cell_type": "code",
      "source": [
        "X_train_new = X_train_rfe.drop([\"atemp\"], axis = 1) # Droping the temp"
      ],
      "metadata": {
        "id": "1pUFQ4n33CpB"
      },
      "execution_count": 1743,
      "outputs": []
    },
    {
      "cell_type": "markdown",
      "source": [
        "**VIF : Model 2**"
      ],
      "metadata": {
        "id": "B04Z44bmOjEU"
      }
    },
    {
      "cell_type": "code",
      "source": [
        "# VIF check\n",
        "from statsmodels.stats.outliers_influence import variance_inflation_factor\n",
        "vif = pd.DataFrame()\n",
        "vif['Features'] = X_train_new.columns\n",
        "vif['VIF'] = [variance_inflation_factor(X_train_new.values, i) for i in range(X_train_new.shape[1])]\n",
        "vif['VIF'] = round(vif['VIF'], 2)\n",
        "vif = vif.sort_values(by = \"VIF\", ascending = False)\n",
        "vif"
      ],
      "metadata": {
        "colab": {
          "base_uri": "https://localhost:8080/",
          "height": 488
        },
        "id": "Ew1jbmY93AgK",
        "outputId": "629442d7-d2e0-46c4-f026-991071927489"
      },
      "execution_count": 1744,
      "outputs": [
        {
          "output_type": "execute_result",
          "data": {
            "text/plain": [
              "        Features    VIF\n",
              "1           temp  23.19\n",
              "2            hum  15.85\n",
              "5       season_3   7.03\n",
              "3      windspeed   4.35\n",
              "4       season_2   3.54\n",
              "6       season_4   3.01\n",
              "12  weathersit_2   2.14\n",
              "0             yr   2.02\n",
              "9        mnth_10   1.66\n",
              "8         mnth_9   1.28\n",
              "11     weekday_2   1.23\n",
              "10     weekday_1   1.22\n",
              "7         mnth_3   1.19\n",
              "13  weathersit_3   1.17"
            ],
            "text/html": [
              "\n",
              "  <div id=\"df-a8913843-3499-4f36-bb70-f4b9e742fa93\">\n",
              "    <div class=\"colab-df-container\">\n",
              "      <div>\n",
              "<style scoped>\n",
              "    .dataframe tbody tr th:only-of-type {\n",
              "        vertical-align: middle;\n",
              "    }\n",
              "\n",
              "    .dataframe tbody tr th {\n",
              "        vertical-align: top;\n",
              "    }\n",
              "\n",
              "    .dataframe thead th {\n",
              "        text-align: right;\n",
              "    }\n",
              "</style>\n",
              "<table border=\"1\" class=\"dataframe\">\n",
              "  <thead>\n",
              "    <tr style=\"text-align: right;\">\n",
              "      <th></th>\n",
              "      <th>Features</th>\n",
              "      <th>VIF</th>\n",
              "    </tr>\n",
              "  </thead>\n",
              "  <tbody>\n",
              "    <tr>\n",
              "      <th>1</th>\n",
              "      <td>temp</td>\n",
              "      <td>23.19</td>\n",
              "    </tr>\n",
              "    <tr>\n",
              "      <th>2</th>\n",
              "      <td>hum</td>\n",
              "      <td>15.85</td>\n",
              "    </tr>\n",
              "    <tr>\n",
              "      <th>5</th>\n",
              "      <td>season_3</td>\n",
              "      <td>7.03</td>\n",
              "    </tr>\n",
              "    <tr>\n",
              "      <th>3</th>\n",
              "      <td>windspeed</td>\n",
              "      <td>4.35</td>\n",
              "    </tr>\n",
              "    <tr>\n",
              "      <th>4</th>\n",
              "      <td>season_2</td>\n",
              "      <td>3.54</td>\n",
              "    </tr>\n",
              "    <tr>\n",
              "      <th>6</th>\n",
              "      <td>season_4</td>\n",
              "      <td>3.01</td>\n",
              "    </tr>\n",
              "    <tr>\n",
              "      <th>12</th>\n",
              "      <td>weathersit_2</td>\n",
              "      <td>2.14</td>\n",
              "    </tr>\n",
              "    <tr>\n",
              "      <th>0</th>\n",
              "      <td>yr</td>\n",
              "      <td>2.02</td>\n",
              "    </tr>\n",
              "    <tr>\n",
              "      <th>9</th>\n",
              "      <td>mnth_10</td>\n",
              "      <td>1.66</td>\n",
              "    </tr>\n",
              "    <tr>\n",
              "      <th>8</th>\n",
              "      <td>mnth_9</td>\n",
              "      <td>1.28</td>\n",
              "    </tr>\n",
              "    <tr>\n",
              "      <th>11</th>\n",
              "      <td>weekday_2</td>\n",
              "      <td>1.23</td>\n",
              "    </tr>\n",
              "    <tr>\n",
              "      <th>10</th>\n",
              "      <td>weekday_1</td>\n",
              "      <td>1.22</td>\n",
              "    </tr>\n",
              "    <tr>\n",
              "      <th>7</th>\n",
              "      <td>mnth_3</td>\n",
              "      <td>1.19</td>\n",
              "    </tr>\n",
              "    <tr>\n",
              "      <th>13</th>\n",
              "      <td>weathersit_3</td>\n",
              "      <td>1.17</td>\n",
              "    </tr>\n",
              "  </tbody>\n",
              "</table>\n",
              "</div>\n",
              "      <button class=\"colab-df-convert\" onclick=\"convertToInteractive('df-a8913843-3499-4f36-bb70-f4b9e742fa93')\"\n",
              "              title=\"Convert this dataframe to an interactive table.\"\n",
              "              style=\"display:none;\">\n",
              "        \n",
              "  <svg xmlns=\"http://www.w3.org/2000/svg\" height=\"24px\"viewBox=\"0 0 24 24\"\n",
              "       width=\"24px\">\n",
              "    <path d=\"M0 0h24v24H0V0z\" fill=\"none\"/>\n",
              "    <path d=\"M18.56 5.44l.94 2.06.94-2.06 2.06-.94-2.06-.94-.94-2.06-.94 2.06-2.06.94zm-11 1L8.5 8.5l.94-2.06 2.06-.94-2.06-.94L8.5 2.5l-.94 2.06-2.06.94zm10 10l.94 2.06.94-2.06 2.06-.94-2.06-.94-.94-2.06-.94 2.06-2.06.94z\"/><path d=\"M17.41 7.96l-1.37-1.37c-.4-.4-.92-.59-1.43-.59-.52 0-1.04.2-1.43.59L10.3 9.45l-7.72 7.72c-.78.78-.78 2.05 0 2.83L4 21.41c.39.39.9.59 1.41.59.51 0 1.02-.2 1.41-.59l7.78-7.78 2.81-2.81c.8-.78.8-2.07 0-2.86zM5.41 20L4 18.59l7.72-7.72 1.47 1.35L5.41 20z\"/>\n",
              "  </svg>\n",
              "      </button>\n",
              "      \n",
              "  <style>\n",
              "    .colab-df-container {\n",
              "      display:flex;\n",
              "      flex-wrap:wrap;\n",
              "      gap: 12px;\n",
              "    }\n",
              "\n",
              "    .colab-df-convert {\n",
              "      background-color: #E8F0FE;\n",
              "      border: none;\n",
              "      border-radius: 50%;\n",
              "      cursor: pointer;\n",
              "      display: none;\n",
              "      fill: #1967D2;\n",
              "      height: 32px;\n",
              "      padding: 0 0 0 0;\n",
              "      width: 32px;\n",
              "    }\n",
              "\n",
              "    .colab-df-convert:hover {\n",
              "      background-color: #E2EBFA;\n",
              "      box-shadow: 0px 1px 2px rgba(60, 64, 67, 0.3), 0px 1px 3px 1px rgba(60, 64, 67, 0.15);\n",
              "      fill: #174EA6;\n",
              "    }\n",
              "\n",
              "    [theme=dark] .colab-df-convert {\n",
              "      background-color: #3B4455;\n",
              "      fill: #D2E3FC;\n",
              "    }\n",
              "\n",
              "    [theme=dark] .colab-df-convert:hover {\n",
              "      background-color: #434B5C;\n",
              "      box-shadow: 0px 1px 3px 1px rgba(0, 0, 0, 0.15);\n",
              "      filter: drop-shadow(0px 1px 2px rgba(0, 0, 0, 0.3));\n",
              "      fill: #FFFFFF;\n",
              "    }\n",
              "  </style>\n",
              "\n",
              "      <script>\n",
              "        const buttonEl =\n",
              "          document.querySelector('#df-a8913843-3499-4f36-bb70-f4b9e742fa93 button.colab-df-convert');\n",
              "        buttonEl.style.display =\n",
              "          google.colab.kernel.accessAllowed ? 'block' : 'none';\n",
              "\n",
              "        async function convertToInteractive(key) {\n",
              "          const element = document.querySelector('#df-a8913843-3499-4f36-bb70-f4b9e742fa93');\n",
              "          const dataTable =\n",
              "            await google.colab.kernel.invokeFunction('convertToInteractive',\n",
              "                                                     [key], {});\n",
              "          if (!dataTable) return;\n",
              "\n",
              "          const docLinkHtml = 'Like what you see? Visit the ' +\n",
              "            '<a target=\"_blank\" href=https://colab.research.google.com/notebooks/data_table.ipynb>data table notebook</a>'\n",
              "            + ' to learn more about interactive tables.';\n",
              "          element.innerHTML = '';\n",
              "          dataTable['output_type'] = 'display_data';\n",
              "          await google.colab.output.renderOutput(dataTable, element);\n",
              "          const docLink = document.createElement('div');\n",
              "          docLink.innerHTML = docLinkHtml;\n",
              "          element.appendChild(docLink);\n",
              "        }\n",
              "      </script>\n",
              "    </div>\n",
              "  </div>\n",
              "  "
            ]
          },
          "metadata": {},
          "execution_count": 1744
        }
      ]
    },
    {
      "cell_type": "markdown",
      "source": [
        "**Create Model 2 and summary**"
      ],
      "metadata": {
        "id": "XQcQVmOoOqOG"
      }
    },
    {
      "cell_type": "code",
      "source": [
        "X_train_lm2 = sm.add_constant(X_train_new)\n",
        "\n",
        "# Create a second model\n",
        "lr2 = sm.OLS(y_train, X_train_lm2).fit()\n",
        "print(lr2.summary())"
      ],
      "metadata": {
        "colab": {
          "base_uri": "https://localhost:8080/"
        },
        "id": "w2F2eeBg3c3v",
        "outputId": "3d33fff4-e86d-4e11-e5f2-55baf1fd5f9f"
      },
      "execution_count": 1745,
      "outputs": [
        {
          "output_type": "stream",
          "name": "stdout",
          "text": [
            "                            OLS Regression Results                            \n",
            "==============================================================================\n",
            "Dep. Variable:                    cnt   R-squared:                       0.840\n",
            "Model:                            OLS   Adj. R-squared:                  0.836\n",
            "Method:                 Least Squares   F-statistic:                     185.7\n",
            "Date:                Sat, 30 Jul 2022   Prob (F-statistic):          1.20e-186\n",
            "Time:                        16:32:00   Log-Likelihood:                 506.59\n",
            "No. Observations:                 510   AIC:                            -983.2\n",
            "Df Residuals:                     495   BIC:                            -919.7\n",
            "Df Model:                          14                                         \n",
            "Covariance Type:            nonrobust                                         \n",
            "================================================================================\n",
            "                   coef    std err          t      P>|t|      [0.025      0.975]\n",
            "--------------------------------------------------------------------------------\n",
            "const            0.2393      0.028      8.509      0.000       0.184       0.295\n",
            "yr               0.2288      0.008     27.898      0.000       0.213       0.245\n",
            "temp             0.4782      0.034     14.154      0.000       0.412       0.545\n",
            "hum             -0.1702      0.038     -4.525      0.000      -0.244      -0.096\n",
            "windspeed       -0.1834      0.028     -6.652      0.000      -0.238      -0.129\n",
            "season_2         0.1326      0.015      8.686      0.000       0.103       0.163\n",
            "season_3         0.0838      0.021      4.019      0.000       0.043       0.125\n",
            "season_4         0.1528      0.014     10.689      0.000       0.125       0.181\n",
            "mnth_3           0.0473      0.016      2.956      0.003       0.016       0.079\n",
            "mnth_9           0.1005      0.016      6.308      0.000       0.069       0.132\n",
            "mnth_10          0.0558      0.018      3.109      0.002       0.021       0.091\n",
            "weekday_1       -0.0239      0.012     -2.028      0.043      -0.047      -0.001\n",
            "weekday_2       -0.0365      0.011     -3.196      0.001      -0.059      -0.014\n",
            "weathersit_2    -0.0479      0.011     -4.474      0.000      -0.069      -0.027\n",
            "weathersit_3    -0.2728      0.029     -9.559      0.000      -0.329      -0.217\n",
            "==============================================================================\n",
            "Omnibus:                       92.167   Durbin-Watson:                   2.032\n",
            "Prob(Omnibus):                  0.000   Jarque-Bera (JB):              222.631\n",
            "Skew:                          -0.925   Prob(JB):                     4.53e-49\n",
            "Kurtosis:                       5.655   Cond. No.                         19.3\n",
            "==============================================================================\n",
            "\n",
            "Warnings:\n",
            "[1] Standard Errors assume that the covariance matrix of the errors is correctly specified.\n"
          ]
        }
      ]
    },
    {
      "cell_type": "markdown",
      "source": [
        "# **Model 3** \n",
        "\n",
        "**Insight :** removing the variable 'hum' based on its very high VIF value."
      ],
      "metadata": {
        "id": "eZOczR8m3z_u"
      }
    },
    {
      "cell_type": "code",
      "source": [
        "X_train_new = X_train_new.drop([\"hum\"], axis = 1)# Droping hum column"
      ],
      "metadata": {
        "id": "X8qEUs4E3zZI"
      },
      "execution_count": 1746,
      "outputs": []
    },
    {
      "cell_type": "markdown",
      "source": [
        "**VIF : Model 3**"
      ],
      "metadata": {
        "id": "rS2PobcmPBJk"
      }
    },
    {
      "cell_type": "code",
      "source": [
        "# Check VIF \n",
        "from statsmodels.stats.outliers_influence import variance_inflation_factor\n",
        "vif = pd.DataFrame()\n",
        "vif['Features'] = X_train_new.columns\n",
        "vif['VIF'] = [variance_inflation_factor(X_train_new.values, i) for i in range(X_train_new.shape[1])]\n",
        "vif['VIF'] = round(vif['VIF'], 2)\n",
        "vif = vif.sort_values(by = \"VIF\", ascending = False)\n",
        "vif"
      ],
      "metadata": {
        "colab": {
          "base_uri": "https://localhost:8080/",
          "height": 457
        },
        "id": "ZZ6QCFcg4D63",
        "outputId": "3a00f7fa-7b8c-4dcb-8a0b-44e491cd8d37"
      },
      "execution_count": 1747,
      "outputs": [
        {
          "output_type": "execute_result",
          "data": {
            "text/plain": [
              "        Features    VIF\n",
              "1           temp  15.20\n",
              "4       season_3   6.69\n",
              "2      windspeed   3.89\n",
              "3       season_2   3.51\n",
              "5       season_4   2.89\n",
              "0             yr   2.01\n",
              "8        mnth_10   1.66\n",
              "11  weathersit_2   1.51\n",
              "7         mnth_9   1.27\n",
              "10     weekday_2   1.21\n",
              "6         mnth_3   1.19\n",
              "9      weekday_1   1.18\n",
              "12  weathersit_3   1.08"
            ],
            "text/html": [
              "\n",
              "  <div id=\"df-f52fbd61-24ea-4dfc-9434-d3e2fe4ecb43\">\n",
              "    <div class=\"colab-df-container\">\n",
              "      <div>\n",
              "<style scoped>\n",
              "    .dataframe tbody tr th:only-of-type {\n",
              "        vertical-align: middle;\n",
              "    }\n",
              "\n",
              "    .dataframe tbody tr th {\n",
              "        vertical-align: top;\n",
              "    }\n",
              "\n",
              "    .dataframe thead th {\n",
              "        text-align: right;\n",
              "    }\n",
              "</style>\n",
              "<table border=\"1\" class=\"dataframe\">\n",
              "  <thead>\n",
              "    <tr style=\"text-align: right;\">\n",
              "      <th></th>\n",
              "      <th>Features</th>\n",
              "      <th>VIF</th>\n",
              "    </tr>\n",
              "  </thead>\n",
              "  <tbody>\n",
              "    <tr>\n",
              "      <th>1</th>\n",
              "      <td>temp</td>\n",
              "      <td>15.20</td>\n",
              "    </tr>\n",
              "    <tr>\n",
              "      <th>4</th>\n",
              "      <td>season_3</td>\n",
              "      <td>6.69</td>\n",
              "    </tr>\n",
              "    <tr>\n",
              "      <th>2</th>\n",
              "      <td>windspeed</td>\n",
              "      <td>3.89</td>\n",
              "    </tr>\n",
              "    <tr>\n",
              "      <th>3</th>\n",
              "      <td>season_2</td>\n",
              "      <td>3.51</td>\n",
              "    </tr>\n",
              "    <tr>\n",
              "      <th>5</th>\n",
              "      <td>season_4</td>\n",
              "      <td>2.89</td>\n",
              "    </tr>\n",
              "    <tr>\n",
              "      <th>0</th>\n",
              "      <td>yr</td>\n",
              "      <td>2.01</td>\n",
              "    </tr>\n",
              "    <tr>\n",
              "      <th>8</th>\n",
              "      <td>mnth_10</td>\n",
              "      <td>1.66</td>\n",
              "    </tr>\n",
              "    <tr>\n",
              "      <th>11</th>\n",
              "      <td>weathersit_2</td>\n",
              "      <td>1.51</td>\n",
              "    </tr>\n",
              "    <tr>\n",
              "      <th>7</th>\n",
              "      <td>mnth_9</td>\n",
              "      <td>1.27</td>\n",
              "    </tr>\n",
              "    <tr>\n",
              "      <th>10</th>\n",
              "      <td>weekday_2</td>\n",
              "      <td>1.21</td>\n",
              "    </tr>\n",
              "    <tr>\n",
              "      <th>6</th>\n",
              "      <td>mnth_3</td>\n",
              "      <td>1.19</td>\n",
              "    </tr>\n",
              "    <tr>\n",
              "      <th>9</th>\n",
              "      <td>weekday_1</td>\n",
              "      <td>1.18</td>\n",
              "    </tr>\n",
              "    <tr>\n",
              "      <th>12</th>\n",
              "      <td>weathersit_3</td>\n",
              "      <td>1.08</td>\n",
              "    </tr>\n",
              "  </tbody>\n",
              "</table>\n",
              "</div>\n",
              "      <button class=\"colab-df-convert\" onclick=\"convertToInteractive('df-f52fbd61-24ea-4dfc-9434-d3e2fe4ecb43')\"\n",
              "              title=\"Convert this dataframe to an interactive table.\"\n",
              "              style=\"display:none;\">\n",
              "        \n",
              "  <svg xmlns=\"http://www.w3.org/2000/svg\" height=\"24px\"viewBox=\"0 0 24 24\"\n",
              "       width=\"24px\">\n",
              "    <path d=\"M0 0h24v24H0V0z\" fill=\"none\"/>\n",
              "    <path d=\"M18.56 5.44l.94 2.06.94-2.06 2.06-.94-2.06-.94-.94-2.06-.94 2.06-2.06.94zm-11 1L8.5 8.5l.94-2.06 2.06-.94-2.06-.94L8.5 2.5l-.94 2.06-2.06.94zm10 10l.94 2.06.94-2.06 2.06-.94-2.06-.94-.94-2.06-.94 2.06-2.06.94z\"/><path d=\"M17.41 7.96l-1.37-1.37c-.4-.4-.92-.59-1.43-.59-.52 0-1.04.2-1.43.59L10.3 9.45l-7.72 7.72c-.78.78-.78 2.05 0 2.83L4 21.41c.39.39.9.59 1.41.59.51 0 1.02-.2 1.41-.59l7.78-7.78 2.81-2.81c.8-.78.8-2.07 0-2.86zM5.41 20L4 18.59l7.72-7.72 1.47 1.35L5.41 20z\"/>\n",
              "  </svg>\n",
              "      </button>\n",
              "      \n",
              "  <style>\n",
              "    .colab-df-container {\n",
              "      display:flex;\n",
              "      flex-wrap:wrap;\n",
              "      gap: 12px;\n",
              "    }\n",
              "\n",
              "    .colab-df-convert {\n",
              "      background-color: #E8F0FE;\n",
              "      border: none;\n",
              "      border-radius: 50%;\n",
              "      cursor: pointer;\n",
              "      display: none;\n",
              "      fill: #1967D2;\n",
              "      height: 32px;\n",
              "      padding: 0 0 0 0;\n",
              "      width: 32px;\n",
              "    }\n",
              "\n",
              "    .colab-df-convert:hover {\n",
              "      background-color: #E2EBFA;\n",
              "      box-shadow: 0px 1px 2px rgba(60, 64, 67, 0.3), 0px 1px 3px 1px rgba(60, 64, 67, 0.15);\n",
              "      fill: #174EA6;\n",
              "    }\n",
              "\n",
              "    [theme=dark] .colab-df-convert {\n",
              "      background-color: #3B4455;\n",
              "      fill: #D2E3FC;\n",
              "    }\n",
              "\n",
              "    [theme=dark] .colab-df-convert:hover {\n",
              "      background-color: #434B5C;\n",
              "      box-shadow: 0px 1px 3px 1px rgba(0, 0, 0, 0.15);\n",
              "      filter: drop-shadow(0px 1px 2px rgba(0, 0, 0, 0.3));\n",
              "      fill: #FFFFFF;\n",
              "    }\n",
              "  </style>\n",
              "\n",
              "      <script>\n",
              "        const buttonEl =\n",
              "          document.querySelector('#df-f52fbd61-24ea-4dfc-9434-d3e2fe4ecb43 button.colab-df-convert');\n",
              "        buttonEl.style.display =\n",
              "          google.colab.kernel.accessAllowed ? 'block' : 'none';\n",
              "\n",
              "        async function convertToInteractive(key) {\n",
              "          const element = document.querySelector('#df-f52fbd61-24ea-4dfc-9434-d3e2fe4ecb43');\n",
              "          const dataTable =\n",
              "            await google.colab.kernel.invokeFunction('convertToInteractive',\n",
              "                                                     [key], {});\n",
              "          if (!dataTable) return;\n",
              "\n",
              "          const docLinkHtml = 'Like what you see? Visit the ' +\n",
              "            '<a target=\"_blank\" href=https://colab.research.google.com/notebooks/data_table.ipynb>data table notebook</a>'\n",
              "            + ' to learn more about interactive tables.';\n",
              "          element.innerHTML = '';\n",
              "          dataTable['output_type'] = 'display_data';\n",
              "          await google.colab.output.renderOutput(dataTable, element);\n",
              "          const docLink = document.createElement('div');\n",
              "          docLink.innerHTML = docLinkHtml;\n",
              "          element.appendChild(docLink);\n",
              "        }\n",
              "      </script>\n",
              "    </div>\n",
              "  </div>\n",
              "  "
            ]
          },
          "metadata": {},
          "execution_count": 1747
        }
      ]
    },
    {
      "cell_type": "markdown",
      "source": [
        "**Create model 3 and summary**"
      ],
      "metadata": {
        "id": "X2t5TgWHPKRO"
      }
    },
    {
      "cell_type": "code",
      "source": [
        "X_train_lm3 = sm.add_constant(X_train_new)\n",
        "# Create third model\n",
        "lr3 = sm.OLS(y_train, X_train_lm3).fit()\n",
        "print(lr3.summary())"
      ],
      "metadata": {
        "colab": {
          "base_uri": "https://localhost:8080/"
        },
        "id": "UJyfrEsT4OBm",
        "outputId": "6b81e98f-a061-40f0-e9fc-1513a18c0039"
      },
      "execution_count": 1748,
      "outputs": [
        {
          "output_type": "stream",
          "name": "stdout",
          "text": [
            "                            OLS Regression Results                            \n",
            "==============================================================================\n",
            "Dep. Variable:                    cnt   R-squared:                       0.833\n",
            "Model:                            OLS   Adj. R-squared:                  0.829\n",
            "Method:                 Least Squares   F-statistic:                     190.9\n",
            "Date:                Sat, 30 Jul 2022   Prob (F-statistic):          1.86e-183\n",
            "Time:                        16:32:00   Log-Likelihood:                 496.25\n",
            "No. Observations:                 510   AIC:                            -964.5\n",
            "Df Residuals:                     496   BIC:                            -905.2\n",
            "Df Model:                          13                                         \n",
            "Covariance Type:            nonrobust                                         \n",
            "================================================================================\n",
            "                   coef    std err          t      P>|t|      [0.025      0.975]\n",
            "--------------------------------------------------------------------------------\n",
            "const            0.1417      0.018      7.702      0.000       0.106       0.178\n",
            "yr               0.2330      0.008     28.043      0.000       0.217       0.249\n",
            "temp             0.4461      0.034     13.248      0.000       0.380       0.512\n",
            "windspeed       -0.1466      0.027     -5.458      0.000      -0.199      -0.094\n",
            "season_2         0.1343      0.016      8.634      0.000       0.104       0.165\n",
            "season_3         0.0932      0.021      4.402      0.000       0.052       0.135\n",
            "season_4         0.1496      0.015     10.277      0.000       0.121       0.178\n",
            "mnth_3           0.0549      0.016      3.382      0.001       0.023       0.087\n",
            "mnth_9           0.0922      0.016      5.713      0.000       0.060       0.124\n",
            "mnth_10          0.0546      0.018      2.989      0.003       0.019       0.091\n",
            "weekday_1       -0.0279      0.012     -2.330      0.020      -0.051      -0.004\n",
            "weekday_2       -0.0397      0.012     -3.421      0.001      -0.063      -0.017\n",
            "weathersit_2    -0.0761      0.009     -8.596      0.000      -0.094      -0.059\n",
            "weathersit_3    -0.3234      0.027    -12.076      0.000      -0.376      -0.271\n",
            "==============================================================================\n",
            "Omnibus:                       86.928   Durbin-Watson:                   2.007\n",
            "Prob(Omnibus):                  0.000   Jarque-Bera (JB):              202.931\n",
            "Skew:                          -0.888   Prob(JB):                     8.59e-45\n",
            "Kurtosis:                       5.529   Cond. No.                         14.7\n",
            "==============================================================================\n",
            "\n",
            "Warnings:\n",
            "[1] Standard Errors assume that the covariance matrix of the errors is correctly specified.\n"
          ]
        }
      ]
    },
    {
      "cell_type": "markdown",
      "source": [
        "# **Model 4**\n",
        "\n",
        "**Insight:**Removing the variable 'season3' based on its very high VIF value."
      ],
      "metadata": {
        "id": "3AwPABQZ4hyc"
      }
    },
    {
      "cell_type": "code",
      "source": [
        "X_train_new = X_train_new.drop([\"season_3\"], axis = 1)#droping season_4"
      ],
      "metadata": {
        "id": "1Zmjq4n44b3n"
      },
      "execution_count": 1749,
      "outputs": []
    },
    {
      "cell_type": "markdown",
      "source": [
        "**VIF : Model 4**"
      ],
      "metadata": {
        "id": "Xl5foSoOPo33"
      }
    },
    {
      "cell_type": "code",
      "source": [
        "#  VIF Check \n",
        "from statsmodels.stats.outliers_influence import variance_inflation_factor\n",
        "vif = pd.DataFrame()\n",
        "vif['Features'] = X_train_new.columns\n",
        "vif['VIF'] = [variance_inflation_factor(X_train_new.values, i) for i in range(X_train_new.shape[1])]\n",
        "vif['VIF'] = round(vif['VIF'], 2)\n",
        "vif = vif.sort_values(by = \"VIF\", ascending = False)\n",
        "vif"
      ],
      "metadata": {
        "colab": {
          "base_uri": "https://localhost:8080/",
          "height": 426
        },
        "id": "Vc7pFwR74WJj",
        "outputId": "0bd29bd8-0f03-4b36-a3be-0d5b961126d0"
      },
      "execution_count": 1750,
      "outputs": [
        {
          "output_type": "execute_result",
          "data": {
            "text/plain": [
              "        Features   VIF\n",
              "1           temp  4.05\n",
              "2      windspeed  3.72\n",
              "0             yr  2.00\n",
              "4       season_4  1.94\n",
              "7        mnth_10  1.63\n",
              "3       season_2  1.56\n",
              "10  weathersit_2  1.50\n",
              "6         mnth_9  1.23\n",
              "9      weekday_2  1.21\n",
              "8      weekday_1  1.18\n",
              "5         mnth_3  1.14\n",
              "11  weathersit_3  1.08"
            ],
            "text/html": [
              "\n",
              "  <div id=\"df-332f6d3d-ab62-4206-a11b-f287aa9b2925\">\n",
              "    <div class=\"colab-df-container\">\n",
              "      <div>\n",
              "<style scoped>\n",
              "    .dataframe tbody tr th:only-of-type {\n",
              "        vertical-align: middle;\n",
              "    }\n",
              "\n",
              "    .dataframe tbody tr th {\n",
              "        vertical-align: top;\n",
              "    }\n",
              "\n",
              "    .dataframe thead th {\n",
              "        text-align: right;\n",
              "    }\n",
              "</style>\n",
              "<table border=\"1\" class=\"dataframe\">\n",
              "  <thead>\n",
              "    <tr style=\"text-align: right;\">\n",
              "      <th></th>\n",
              "      <th>Features</th>\n",
              "      <th>VIF</th>\n",
              "    </tr>\n",
              "  </thead>\n",
              "  <tbody>\n",
              "    <tr>\n",
              "      <th>1</th>\n",
              "      <td>temp</td>\n",
              "      <td>4.05</td>\n",
              "    </tr>\n",
              "    <tr>\n",
              "      <th>2</th>\n",
              "      <td>windspeed</td>\n",
              "      <td>3.72</td>\n",
              "    </tr>\n",
              "    <tr>\n",
              "      <th>0</th>\n",
              "      <td>yr</td>\n",
              "      <td>2.00</td>\n",
              "    </tr>\n",
              "    <tr>\n",
              "      <th>4</th>\n",
              "      <td>season_4</td>\n",
              "      <td>1.94</td>\n",
              "    </tr>\n",
              "    <tr>\n",
              "      <th>7</th>\n",
              "      <td>mnth_10</td>\n",
              "      <td>1.63</td>\n",
              "    </tr>\n",
              "    <tr>\n",
              "      <th>3</th>\n",
              "      <td>season_2</td>\n",
              "      <td>1.56</td>\n",
              "    </tr>\n",
              "    <tr>\n",
              "      <th>10</th>\n",
              "      <td>weathersit_2</td>\n",
              "      <td>1.50</td>\n",
              "    </tr>\n",
              "    <tr>\n",
              "      <th>6</th>\n",
              "      <td>mnth_9</td>\n",
              "      <td>1.23</td>\n",
              "    </tr>\n",
              "    <tr>\n",
              "      <th>9</th>\n",
              "      <td>weekday_2</td>\n",
              "      <td>1.21</td>\n",
              "    </tr>\n",
              "    <tr>\n",
              "      <th>8</th>\n",
              "      <td>weekday_1</td>\n",
              "      <td>1.18</td>\n",
              "    </tr>\n",
              "    <tr>\n",
              "      <th>5</th>\n",
              "      <td>mnth_3</td>\n",
              "      <td>1.14</td>\n",
              "    </tr>\n",
              "    <tr>\n",
              "      <th>11</th>\n",
              "      <td>weathersit_3</td>\n",
              "      <td>1.08</td>\n",
              "    </tr>\n",
              "  </tbody>\n",
              "</table>\n",
              "</div>\n",
              "      <button class=\"colab-df-convert\" onclick=\"convertToInteractive('df-332f6d3d-ab62-4206-a11b-f287aa9b2925')\"\n",
              "              title=\"Convert this dataframe to an interactive table.\"\n",
              "              style=\"display:none;\">\n",
              "        \n",
              "  <svg xmlns=\"http://www.w3.org/2000/svg\" height=\"24px\"viewBox=\"0 0 24 24\"\n",
              "       width=\"24px\">\n",
              "    <path d=\"M0 0h24v24H0V0z\" fill=\"none\"/>\n",
              "    <path d=\"M18.56 5.44l.94 2.06.94-2.06 2.06-.94-2.06-.94-.94-2.06-.94 2.06-2.06.94zm-11 1L8.5 8.5l.94-2.06 2.06-.94-2.06-.94L8.5 2.5l-.94 2.06-2.06.94zm10 10l.94 2.06.94-2.06 2.06-.94-2.06-.94-.94-2.06-.94 2.06-2.06.94z\"/><path d=\"M17.41 7.96l-1.37-1.37c-.4-.4-.92-.59-1.43-.59-.52 0-1.04.2-1.43.59L10.3 9.45l-7.72 7.72c-.78.78-.78 2.05 0 2.83L4 21.41c.39.39.9.59 1.41.59.51 0 1.02-.2 1.41-.59l7.78-7.78 2.81-2.81c.8-.78.8-2.07 0-2.86zM5.41 20L4 18.59l7.72-7.72 1.47 1.35L5.41 20z\"/>\n",
              "  </svg>\n",
              "      </button>\n",
              "      \n",
              "  <style>\n",
              "    .colab-df-container {\n",
              "      display:flex;\n",
              "      flex-wrap:wrap;\n",
              "      gap: 12px;\n",
              "    }\n",
              "\n",
              "    .colab-df-convert {\n",
              "      background-color: #E8F0FE;\n",
              "      border: none;\n",
              "      border-radius: 50%;\n",
              "      cursor: pointer;\n",
              "      display: none;\n",
              "      fill: #1967D2;\n",
              "      height: 32px;\n",
              "      padding: 0 0 0 0;\n",
              "      width: 32px;\n",
              "    }\n",
              "\n",
              "    .colab-df-convert:hover {\n",
              "      background-color: #E2EBFA;\n",
              "      box-shadow: 0px 1px 2px rgba(60, 64, 67, 0.3), 0px 1px 3px 1px rgba(60, 64, 67, 0.15);\n",
              "      fill: #174EA6;\n",
              "    }\n",
              "\n",
              "    [theme=dark] .colab-df-convert {\n",
              "      background-color: #3B4455;\n",
              "      fill: #D2E3FC;\n",
              "    }\n",
              "\n",
              "    [theme=dark] .colab-df-convert:hover {\n",
              "      background-color: #434B5C;\n",
              "      box-shadow: 0px 1px 3px 1px rgba(0, 0, 0, 0.15);\n",
              "      filter: drop-shadow(0px 1px 2px rgba(0, 0, 0, 0.3));\n",
              "      fill: #FFFFFF;\n",
              "    }\n",
              "  </style>\n",
              "\n",
              "      <script>\n",
              "        const buttonEl =\n",
              "          document.querySelector('#df-332f6d3d-ab62-4206-a11b-f287aa9b2925 button.colab-df-convert');\n",
              "        buttonEl.style.display =\n",
              "          google.colab.kernel.accessAllowed ? 'block' : 'none';\n",
              "\n",
              "        async function convertToInteractive(key) {\n",
              "          const element = document.querySelector('#df-332f6d3d-ab62-4206-a11b-f287aa9b2925');\n",
              "          const dataTable =\n",
              "            await google.colab.kernel.invokeFunction('convertToInteractive',\n",
              "                                                     [key], {});\n",
              "          if (!dataTable) return;\n",
              "\n",
              "          const docLinkHtml = 'Like what you see? Visit the ' +\n",
              "            '<a target=\"_blank\" href=https://colab.research.google.com/notebooks/data_table.ipynb>data table notebook</a>'\n",
              "            + ' to learn more about interactive tables.';\n",
              "          element.innerHTML = '';\n",
              "          dataTable['output_type'] = 'display_data';\n",
              "          await google.colab.output.renderOutput(dataTable, element);\n",
              "          const docLink = document.createElement('div');\n",
              "          docLink.innerHTML = docLinkHtml;\n",
              "          element.appendChild(docLink);\n",
              "        }\n",
              "      </script>\n",
              "    </div>\n",
              "  </div>\n",
              "  "
            ]
          },
          "metadata": {},
          "execution_count": 1750
        }
      ]
    },
    {
      "cell_type": "markdown",
      "source": [
        "**Creating Model 4 and summary**"
      ],
      "metadata": {
        "id": "Q8JGZH-sPuEz"
      }
    },
    {
      "cell_type": "code",
      "source": [
        "X_train_lm4 = sm.add_constant(X_train_new)\n",
        "# Create a fourth model\n",
        "lr4 = sm.OLS(y_train, X_train_lm4).fit()\n",
        "print(lr4.summary())"
      ],
      "metadata": {
        "colab": {
          "base_uri": "https://localhost:8080/"
        },
        "id": "Yok24Bab4y6E",
        "outputId": "83c4df39-5c1b-456b-9e80-6ed934d12f2b"
      },
      "execution_count": 1751,
      "outputs": [
        {
          "output_type": "stream",
          "name": "stdout",
          "text": [
            "                            OLS Regression Results                            \n",
            "==============================================================================\n",
            "Dep. Variable:                    cnt   R-squared:                       0.827\n",
            "Model:                            OLS   Adj. R-squared:                  0.823\n",
            "Method:                 Least Squares   F-statistic:                     197.9\n",
            "Date:                Sat, 30 Jul 2022   Prob (F-statistic):          1.66e-180\n",
            "Time:                        16:32:00   Log-Likelihood:                 486.48\n",
            "No. Observations:                 510   AIC:                            -947.0\n",
            "Df Residuals:                     497   BIC:                            -891.9\n",
            "Df Model:                          12                                         \n",
            "Covariance Type:            nonrobust                                         \n",
            "================================================================================\n",
            "                   coef    std err          t      P>|t|      [0.025      0.975]\n",
            "--------------------------------------------------------------------------------\n",
            "const            0.1252      0.018      6.828      0.000       0.089       0.161\n",
            "yr               0.2311      0.008     27.354      0.000       0.215       0.248\n",
            "temp             0.5645      0.021     27.333      0.000       0.524       0.605\n",
            "windspeed       -0.1513      0.027     -5.535      0.000      -0.205      -0.098\n",
            "season_2         0.0832      0.011      7.891      0.000       0.062       0.104\n",
            "season_4         0.1172      0.013      9.163      0.000       0.092       0.142\n",
            "mnth_3           0.0431      0.016      2.646      0.008       0.011       0.075\n",
            "mnth_9           0.1044      0.016      6.449      0.000       0.073       0.136\n",
            "mnth_10          0.0427      0.018      2.320      0.021       0.007       0.079\n",
            "weekday_1       -0.0250      0.012     -2.049      0.041      -0.049      -0.001\n",
            "weekday_2       -0.0381      0.012     -3.224      0.001      -0.061      -0.015\n",
            "weathersit_2    -0.0763      0.009     -8.462      0.000      -0.094      -0.059\n",
            "weathersit_3    -0.3153      0.027    -11.589      0.000      -0.369      -0.262\n",
            "==============================================================================\n",
            "Omnibus:                       67.388   Durbin-Watson:                   2.053\n",
            "Prob(Omnibus):                  0.000   Jarque-Bera (JB):              129.494\n",
            "Skew:                          -0.768   Prob(JB):                     7.60e-29\n",
            "Kurtosis:                       4.933   Cond. No.                         11.0\n",
            "==============================================================================\n",
            "\n",
            "Warnings:\n",
            "[1] Standard Errors assume that the covariance matrix of the errors is correctly specified.\n"
          ]
        }
      ]
    },
    {
      "cell_type": "markdown",
      "source": [
        "# **Model 5**\n",
        "\n",
        "**Insight**:  Removing the variable 'weekday_1' based on its very high p-value."
      ],
      "metadata": {
        "id": "Z0FJ9Qc75KxM"
      }
    },
    {
      "cell_type": "code",
      "source": [
        "X_train_new = X_train_new.drop([\"weekday_1\"], axis = 1)# droping weekday_1"
      ],
      "metadata": {
        "id": "0kGyEWS-5IF8"
      },
      "execution_count": 1752,
      "outputs": []
    },
    {
      "cell_type": "markdown",
      "source": [
        "**VIF : Model 5**"
      ],
      "metadata": {
        "id": "oP887S1HQLxF"
      }
    },
    {
      "cell_type": "code",
      "source": [
        "# Check VIF \n",
        "from statsmodels.stats.outliers_influence import variance_inflation_factor\n",
        "vif = pd.DataFrame()\n",
        "vif['Features'] = X_train_new.columns\n",
        "vif['VIF'] = [variance_inflation_factor(X_train_new.values, i) for i in range(X_train_new.shape[1])]\n",
        "vif['VIF'] = round(vif['VIF'], 2)\n",
        "vif = vif.sort_values(by = \"VIF\", ascending = False)\n",
        "vif"
      ],
      "metadata": {
        "colab": {
          "base_uri": "https://localhost:8080/",
          "height": 394
        },
        "id": "xrUn7jqS46hU",
        "outputId": "17b69875-1f8f-4476-d323-217c5bd694ce"
      },
      "execution_count": 1753,
      "outputs": [
        {
          "output_type": "execute_result",
          "data": {
            "text/plain": [
              "        Features   VIF\n",
              "1           temp  4.03\n",
              "2      windspeed  3.64\n",
              "0             yr  2.00\n",
              "4       season_4  1.93\n",
              "7        mnth_10  1.63\n",
              "3       season_2  1.56\n",
              "9   weathersit_2  1.50\n",
              "6         mnth_9  1.23\n",
              "8      weekday_2  1.18\n",
              "5         mnth_3  1.14\n",
              "10  weathersit_3  1.08"
            ],
            "text/html": [
              "\n",
              "  <div id=\"df-6cff31c3-102f-47f1-a9d0-be6a02041348\">\n",
              "    <div class=\"colab-df-container\">\n",
              "      <div>\n",
              "<style scoped>\n",
              "    .dataframe tbody tr th:only-of-type {\n",
              "        vertical-align: middle;\n",
              "    }\n",
              "\n",
              "    .dataframe tbody tr th {\n",
              "        vertical-align: top;\n",
              "    }\n",
              "\n",
              "    .dataframe thead th {\n",
              "        text-align: right;\n",
              "    }\n",
              "</style>\n",
              "<table border=\"1\" class=\"dataframe\">\n",
              "  <thead>\n",
              "    <tr style=\"text-align: right;\">\n",
              "      <th></th>\n",
              "      <th>Features</th>\n",
              "      <th>VIF</th>\n",
              "    </tr>\n",
              "  </thead>\n",
              "  <tbody>\n",
              "    <tr>\n",
              "      <th>1</th>\n",
              "      <td>temp</td>\n",
              "      <td>4.03</td>\n",
              "    </tr>\n",
              "    <tr>\n",
              "      <th>2</th>\n",
              "      <td>windspeed</td>\n",
              "      <td>3.64</td>\n",
              "    </tr>\n",
              "    <tr>\n",
              "      <th>0</th>\n",
              "      <td>yr</td>\n",
              "      <td>2.00</td>\n",
              "    </tr>\n",
              "    <tr>\n",
              "      <th>4</th>\n",
              "      <td>season_4</td>\n",
              "      <td>1.93</td>\n",
              "    </tr>\n",
              "    <tr>\n",
              "      <th>7</th>\n",
              "      <td>mnth_10</td>\n",
              "      <td>1.63</td>\n",
              "    </tr>\n",
              "    <tr>\n",
              "      <th>3</th>\n",
              "      <td>season_2</td>\n",
              "      <td>1.56</td>\n",
              "    </tr>\n",
              "    <tr>\n",
              "      <th>9</th>\n",
              "      <td>weathersit_2</td>\n",
              "      <td>1.50</td>\n",
              "    </tr>\n",
              "    <tr>\n",
              "      <th>6</th>\n",
              "      <td>mnth_9</td>\n",
              "      <td>1.23</td>\n",
              "    </tr>\n",
              "    <tr>\n",
              "      <th>8</th>\n",
              "      <td>weekday_2</td>\n",
              "      <td>1.18</td>\n",
              "    </tr>\n",
              "    <tr>\n",
              "      <th>5</th>\n",
              "      <td>mnth_3</td>\n",
              "      <td>1.14</td>\n",
              "    </tr>\n",
              "    <tr>\n",
              "      <th>10</th>\n",
              "      <td>weathersit_3</td>\n",
              "      <td>1.08</td>\n",
              "    </tr>\n",
              "  </tbody>\n",
              "</table>\n",
              "</div>\n",
              "      <button class=\"colab-df-convert\" onclick=\"convertToInteractive('df-6cff31c3-102f-47f1-a9d0-be6a02041348')\"\n",
              "              title=\"Convert this dataframe to an interactive table.\"\n",
              "              style=\"display:none;\">\n",
              "        \n",
              "  <svg xmlns=\"http://www.w3.org/2000/svg\" height=\"24px\"viewBox=\"0 0 24 24\"\n",
              "       width=\"24px\">\n",
              "    <path d=\"M0 0h24v24H0V0z\" fill=\"none\"/>\n",
              "    <path d=\"M18.56 5.44l.94 2.06.94-2.06 2.06-.94-2.06-.94-.94-2.06-.94 2.06-2.06.94zm-11 1L8.5 8.5l.94-2.06 2.06-.94-2.06-.94L8.5 2.5l-.94 2.06-2.06.94zm10 10l.94 2.06.94-2.06 2.06-.94-2.06-.94-.94-2.06-.94 2.06-2.06.94z\"/><path d=\"M17.41 7.96l-1.37-1.37c-.4-.4-.92-.59-1.43-.59-.52 0-1.04.2-1.43.59L10.3 9.45l-7.72 7.72c-.78.78-.78 2.05 0 2.83L4 21.41c.39.39.9.59 1.41.59.51 0 1.02-.2 1.41-.59l7.78-7.78 2.81-2.81c.8-.78.8-2.07 0-2.86zM5.41 20L4 18.59l7.72-7.72 1.47 1.35L5.41 20z\"/>\n",
              "  </svg>\n",
              "      </button>\n",
              "      \n",
              "  <style>\n",
              "    .colab-df-container {\n",
              "      display:flex;\n",
              "      flex-wrap:wrap;\n",
              "      gap: 12px;\n",
              "    }\n",
              "\n",
              "    .colab-df-convert {\n",
              "      background-color: #E8F0FE;\n",
              "      border: none;\n",
              "      border-radius: 50%;\n",
              "      cursor: pointer;\n",
              "      display: none;\n",
              "      fill: #1967D2;\n",
              "      height: 32px;\n",
              "      padding: 0 0 0 0;\n",
              "      width: 32px;\n",
              "    }\n",
              "\n",
              "    .colab-df-convert:hover {\n",
              "      background-color: #E2EBFA;\n",
              "      box-shadow: 0px 1px 2px rgba(60, 64, 67, 0.3), 0px 1px 3px 1px rgba(60, 64, 67, 0.15);\n",
              "      fill: #174EA6;\n",
              "    }\n",
              "\n",
              "    [theme=dark] .colab-df-convert {\n",
              "      background-color: #3B4455;\n",
              "      fill: #D2E3FC;\n",
              "    }\n",
              "\n",
              "    [theme=dark] .colab-df-convert:hover {\n",
              "      background-color: #434B5C;\n",
              "      box-shadow: 0px 1px 3px 1px rgba(0, 0, 0, 0.15);\n",
              "      filter: drop-shadow(0px 1px 2px rgba(0, 0, 0, 0.3));\n",
              "      fill: #FFFFFF;\n",
              "    }\n",
              "  </style>\n",
              "\n",
              "      <script>\n",
              "        const buttonEl =\n",
              "          document.querySelector('#df-6cff31c3-102f-47f1-a9d0-be6a02041348 button.colab-df-convert');\n",
              "        buttonEl.style.display =\n",
              "          google.colab.kernel.accessAllowed ? 'block' : 'none';\n",
              "\n",
              "        async function convertToInteractive(key) {\n",
              "          const element = document.querySelector('#df-6cff31c3-102f-47f1-a9d0-be6a02041348');\n",
              "          const dataTable =\n",
              "            await google.colab.kernel.invokeFunction('convertToInteractive',\n",
              "                                                     [key], {});\n",
              "          if (!dataTable) return;\n",
              "\n",
              "          const docLinkHtml = 'Like what you see? Visit the ' +\n",
              "            '<a target=\"_blank\" href=https://colab.research.google.com/notebooks/data_table.ipynb>data table notebook</a>'\n",
              "            + ' to learn more about interactive tables.';\n",
              "          element.innerHTML = '';\n",
              "          dataTable['output_type'] = 'display_data';\n",
              "          await google.colab.output.renderOutput(dataTable, element);\n",
              "          const docLink = document.createElement('div');\n",
              "          docLink.innerHTML = docLinkHtml;\n",
              "          element.appendChild(docLink);\n",
              "        }\n",
              "      </script>\n",
              "    </div>\n",
              "  </div>\n",
              "  "
            ]
          },
          "metadata": {},
          "execution_count": 1753
        }
      ]
    },
    {
      "cell_type": "markdown",
      "source": [
        "**Creating Model 5 and summary**"
      ],
      "metadata": {
        "id": "aGj3_U9WRvKi"
      }
    },
    {
      "cell_type": "code",
      "source": [
        "X_train_lm5 = sm.add_constant(X_train_new)\n",
        "# Create fifth model\n",
        "lr5 = sm.OLS(y_train, X_train_lm5).fit()\n",
        "print(lr5.summary())"
      ],
      "metadata": {
        "colab": {
          "base_uri": "https://localhost:8080/"
        },
        "id": "i0AD94BJ5Jl4",
        "outputId": "499d22f0-0571-4bd0-cefa-db2e749e0945"
      },
      "execution_count": 1754,
      "outputs": [
        {
          "output_type": "stream",
          "name": "stdout",
          "text": [
            "                            OLS Regression Results                            \n",
            "==============================================================================\n",
            "Dep. Variable:                    cnt   R-squared:                       0.825\n",
            "Model:                            OLS   Adj. R-squared:                  0.822\n",
            "Method:                 Least Squares   F-statistic:                     214.1\n",
            "Date:                Sat, 30 Jul 2022   Prob (F-statistic):          8.89e-181\n",
            "Time:                        16:32:00   Log-Likelihood:                 484.34\n",
            "No. Observations:                 510   AIC:                            -944.7\n",
            "Df Residuals:                     498   BIC:                            -893.9\n",
            "Df Model:                          11                                         \n",
            "Covariance Type:            nonrobust                                         \n",
            "================================================================================\n",
            "                   coef    std err          t      P>|t|      [0.025      0.975]\n",
            "--------------------------------------------------------------------------------\n",
            "const            0.1189      0.018      6.556      0.000       0.083       0.155\n",
            "yr               0.2316      0.008     27.328      0.000       0.215       0.248\n",
            "temp             0.5673      0.021     27.443      0.000       0.527       0.608\n",
            "windspeed       -0.1515      0.027     -5.527      0.000      -0.205      -0.098\n",
            "season_2         0.0834      0.011      7.880      0.000       0.063       0.104\n",
            "season_4         0.1174      0.013      9.149      0.000       0.092       0.143\n",
            "mnth_3           0.0449      0.016      2.748      0.006       0.013       0.077\n",
            "mnth_9           0.1042      0.016      6.418      0.000       0.072       0.136\n",
            "mnth_10          0.0440      0.018      2.382      0.018       0.008       0.080\n",
            "weekday_2       -0.0339      0.012     -2.906      0.004      -0.057      -0.011\n",
            "weathersit_2    -0.0759      0.009     -8.391      0.000      -0.094      -0.058\n",
            "weathersit_3    -0.3152      0.027    -11.548      0.000      -0.369      -0.262\n",
            "==============================================================================\n",
            "Omnibus:                       68.096   Durbin-Watson:                   2.057\n",
            "Prob(Omnibus):                  0.000   Jarque-Bera (JB):              127.281\n",
            "Skew:                          -0.785   Prob(JB):                     2.30e-28\n",
            "Kurtosis:                       4.877   Cond. No.                         10.9\n",
            "==============================================================================\n",
            "\n",
            "Warnings:\n",
            "[1] Standard Errors assume that the covariance matrix of the errors is correctly specified.\n"
          ]
        }
      ]
    },
    {
      "cell_type": "markdown",
      "source": [
        "# **Model 6**\n",
        "\n",
        "Insight:Removing the variable 'mnth_10' based on its high 'p-value'."
      ],
      "metadata": {
        "id": "y-rPhAhZ5q6u"
      }
    },
    {
      "cell_type": "code",
      "source": [
        "X_train_new = X_train_new.drop([\"mnth_10\"], axis = 1)# Drop mnth_10"
      ],
      "metadata": {
        "id": "auHacY3s5pz1"
      },
      "execution_count": 1755,
      "outputs": []
    },
    {
      "cell_type": "markdown",
      "source": [
        "**VIF: Model 6**"
      ],
      "metadata": {
        "id": "VgRxkBBFSD5l"
      }
    },
    {
      "cell_type": "code",
      "source": [
        "# Check  VIF\n",
        "from statsmodels.stats.outliers_influence import variance_inflation_factor\n",
        "vif = pd.DataFrame()\n",
        "vif['Features'] = X_train_new.columns\n",
        "vif['VIF'] = [variance_inflation_factor(X_train_new.values, i) for i in range(X_train_new.shape[1])]\n",
        "vif['VIF'] = round(vif['VIF'], 2)\n",
        "vif = vif.sort_values(by = \"VIF\", ascending = False)\n",
        "vif"
      ],
      "metadata": {
        "colab": {
          "base_uri": "https://localhost:8080/",
          "height": 363
        },
        "id": "gSNhSM6u5hiI",
        "outputId": "9999b0a6-de32-45a1-d207-6f6c91077c7b"
      },
      "execution_count": 1756,
      "outputs": [
        {
          "output_type": "execute_result",
          "data": {
            "text/plain": [
              "       Features   VIF\n",
              "1          temp  3.92\n",
              "2     windspeed  3.60\n",
              "0            yr  1.99\n",
              "3      season_2  1.56\n",
              "8  weathersit_2  1.49\n",
              "4      season_4  1.38\n",
              "6        mnth_9  1.20\n",
              "7     weekday_2  1.18\n",
              "5        mnth_3  1.14\n",
              "9  weathersit_3  1.07"
            ],
            "text/html": [
              "\n",
              "  <div id=\"df-115f2f87-3e5d-4f60-a3da-c261e8f48474\">\n",
              "    <div class=\"colab-df-container\">\n",
              "      <div>\n",
              "<style scoped>\n",
              "    .dataframe tbody tr th:only-of-type {\n",
              "        vertical-align: middle;\n",
              "    }\n",
              "\n",
              "    .dataframe tbody tr th {\n",
              "        vertical-align: top;\n",
              "    }\n",
              "\n",
              "    .dataframe thead th {\n",
              "        text-align: right;\n",
              "    }\n",
              "</style>\n",
              "<table border=\"1\" class=\"dataframe\">\n",
              "  <thead>\n",
              "    <tr style=\"text-align: right;\">\n",
              "      <th></th>\n",
              "      <th>Features</th>\n",
              "      <th>VIF</th>\n",
              "    </tr>\n",
              "  </thead>\n",
              "  <tbody>\n",
              "    <tr>\n",
              "      <th>1</th>\n",
              "      <td>temp</td>\n",
              "      <td>3.92</td>\n",
              "    </tr>\n",
              "    <tr>\n",
              "      <th>2</th>\n",
              "      <td>windspeed</td>\n",
              "      <td>3.60</td>\n",
              "    </tr>\n",
              "    <tr>\n",
              "      <th>0</th>\n",
              "      <td>yr</td>\n",
              "      <td>1.99</td>\n",
              "    </tr>\n",
              "    <tr>\n",
              "      <th>3</th>\n",
              "      <td>season_2</td>\n",
              "      <td>1.56</td>\n",
              "    </tr>\n",
              "    <tr>\n",
              "      <th>8</th>\n",
              "      <td>weathersit_2</td>\n",
              "      <td>1.49</td>\n",
              "    </tr>\n",
              "    <tr>\n",
              "      <th>4</th>\n",
              "      <td>season_4</td>\n",
              "      <td>1.38</td>\n",
              "    </tr>\n",
              "    <tr>\n",
              "      <th>6</th>\n",
              "      <td>mnth_9</td>\n",
              "      <td>1.20</td>\n",
              "    </tr>\n",
              "    <tr>\n",
              "      <th>7</th>\n",
              "      <td>weekday_2</td>\n",
              "      <td>1.18</td>\n",
              "    </tr>\n",
              "    <tr>\n",
              "      <th>5</th>\n",
              "      <td>mnth_3</td>\n",
              "      <td>1.14</td>\n",
              "    </tr>\n",
              "    <tr>\n",
              "      <th>9</th>\n",
              "      <td>weathersit_3</td>\n",
              "      <td>1.07</td>\n",
              "    </tr>\n",
              "  </tbody>\n",
              "</table>\n",
              "</div>\n",
              "      <button class=\"colab-df-convert\" onclick=\"convertToInteractive('df-115f2f87-3e5d-4f60-a3da-c261e8f48474')\"\n",
              "              title=\"Convert this dataframe to an interactive table.\"\n",
              "              style=\"display:none;\">\n",
              "        \n",
              "  <svg xmlns=\"http://www.w3.org/2000/svg\" height=\"24px\"viewBox=\"0 0 24 24\"\n",
              "       width=\"24px\">\n",
              "    <path d=\"M0 0h24v24H0V0z\" fill=\"none\"/>\n",
              "    <path d=\"M18.56 5.44l.94 2.06.94-2.06 2.06-.94-2.06-.94-.94-2.06-.94 2.06-2.06.94zm-11 1L8.5 8.5l.94-2.06 2.06-.94-2.06-.94L8.5 2.5l-.94 2.06-2.06.94zm10 10l.94 2.06.94-2.06 2.06-.94-2.06-.94-.94-2.06-.94 2.06-2.06.94z\"/><path d=\"M17.41 7.96l-1.37-1.37c-.4-.4-.92-.59-1.43-.59-.52 0-1.04.2-1.43.59L10.3 9.45l-7.72 7.72c-.78.78-.78 2.05 0 2.83L4 21.41c.39.39.9.59 1.41.59.51 0 1.02-.2 1.41-.59l7.78-7.78 2.81-2.81c.8-.78.8-2.07 0-2.86zM5.41 20L4 18.59l7.72-7.72 1.47 1.35L5.41 20z\"/>\n",
              "  </svg>\n",
              "      </button>\n",
              "      \n",
              "  <style>\n",
              "    .colab-df-container {\n",
              "      display:flex;\n",
              "      flex-wrap:wrap;\n",
              "      gap: 12px;\n",
              "    }\n",
              "\n",
              "    .colab-df-convert {\n",
              "      background-color: #E8F0FE;\n",
              "      border: none;\n",
              "      border-radius: 50%;\n",
              "      cursor: pointer;\n",
              "      display: none;\n",
              "      fill: #1967D2;\n",
              "      height: 32px;\n",
              "      padding: 0 0 0 0;\n",
              "      width: 32px;\n",
              "    }\n",
              "\n",
              "    .colab-df-convert:hover {\n",
              "      background-color: #E2EBFA;\n",
              "      box-shadow: 0px 1px 2px rgba(60, 64, 67, 0.3), 0px 1px 3px 1px rgba(60, 64, 67, 0.15);\n",
              "      fill: #174EA6;\n",
              "    }\n",
              "\n",
              "    [theme=dark] .colab-df-convert {\n",
              "      background-color: #3B4455;\n",
              "      fill: #D2E3FC;\n",
              "    }\n",
              "\n",
              "    [theme=dark] .colab-df-convert:hover {\n",
              "      background-color: #434B5C;\n",
              "      box-shadow: 0px 1px 3px 1px rgba(0, 0, 0, 0.15);\n",
              "      filter: drop-shadow(0px 1px 2px rgba(0, 0, 0, 0.3));\n",
              "      fill: #FFFFFF;\n",
              "    }\n",
              "  </style>\n",
              "\n",
              "      <script>\n",
              "        const buttonEl =\n",
              "          document.querySelector('#df-115f2f87-3e5d-4f60-a3da-c261e8f48474 button.colab-df-convert');\n",
              "        buttonEl.style.display =\n",
              "          google.colab.kernel.accessAllowed ? 'block' : 'none';\n",
              "\n",
              "        async function convertToInteractive(key) {\n",
              "          const element = document.querySelector('#df-115f2f87-3e5d-4f60-a3da-c261e8f48474');\n",
              "          const dataTable =\n",
              "            await google.colab.kernel.invokeFunction('convertToInteractive',\n",
              "                                                     [key], {});\n",
              "          if (!dataTable) return;\n",
              "\n",
              "          const docLinkHtml = 'Like what you see? Visit the ' +\n",
              "            '<a target=\"_blank\" href=https://colab.research.google.com/notebooks/data_table.ipynb>data table notebook</a>'\n",
              "            + ' to learn more about interactive tables.';\n",
              "          element.innerHTML = '';\n",
              "          dataTable['output_type'] = 'display_data';\n",
              "          await google.colab.output.renderOutput(dataTable, element);\n",
              "          const docLink = document.createElement('div');\n",
              "          docLink.innerHTML = docLinkHtml;\n",
              "          element.appendChild(docLink);\n",
              "        }\n",
              "      </script>\n",
              "    </div>\n",
              "  </div>\n",
              "  "
            ]
          },
          "metadata": {},
          "execution_count": 1756
        }
      ]
    },
    {
      "cell_type": "markdown",
      "source": [
        "**Creating Model 6 and summary**"
      ],
      "metadata": {
        "id": "jVQRI2hmP2to"
      }
    },
    {
      "cell_type": "code",
      "source": [
        "\n",
        "X_train_lm6 = sm.add_constant(X_train_new)\n",
        "\n",
        "# Create a Sixth model\n",
        "lr6 = sm.OLS(y_train, X_train_lm6).fit()\n",
        "print(lr6.summary())"
      ],
      "metadata": {
        "colab": {
          "base_uri": "https://localhost:8080/"
        },
        "id": "aQvlHM6s54lu",
        "outputId": "9b3f554b-2a34-47bb-d50c-bea882d0497a"
      },
      "execution_count": 1757,
      "outputs": [
        {
          "output_type": "stream",
          "name": "stdout",
          "text": [
            "                            OLS Regression Results                            \n",
            "==============================================================================\n",
            "Dep. Variable:                    cnt   R-squared:                       0.823\n",
            "Model:                            OLS   Adj. R-squared:                  0.820\n",
            "Method:                 Least Squares   F-statistic:                     232.8\n",
            "Date:                Sat, 30 Jul 2022   Prob (F-statistic):          9.43e-181\n",
            "Time:                        16:32:00   Log-Likelihood:                 481.45\n",
            "No. Observations:                 510   AIC:                            -940.9\n",
            "Df Residuals:                     499   BIC:                            -894.3\n",
            "Df Model:                          10                                         \n",
            "Covariance Type:            nonrobust                                         \n",
            "================================================================================\n",
            "                   coef    std err          t      P>|t|      [0.025      0.975]\n",
            "--------------------------------------------------------------------------------\n",
            "const            0.1163      0.018      6.395      0.000       0.081       0.152\n",
            "yr               0.2304      0.008     27.108      0.000       0.214       0.247\n",
            "temp             0.5749      0.021     28.011      0.000       0.535       0.615\n",
            "windspeed       -0.1545      0.028     -5.616      0.000      -0.209      -0.100\n",
            "season_2         0.0821      0.011      7.738      0.000       0.061       0.103\n",
            "season_4         0.1332      0.011     12.063      0.000       0.112       0.155\n",
            "mnth_3           0.0456      0.016      2.779      0.006       0.013       0.078\n",
            "mnth_9           0.0975      0.016      6.070      0.000       0.066       0.129\n",
            "weekday_2       -0.0333      0.012     -2.836      0.005      -0.056      -0.010\n",
            "weathersit_2    -0.0742      0.009     -8.190      0.000      -0.092      -0.056\n",
            "weathersit_3    -0.3094      0.027    -11.330      0.000      -0.363      -0.256\n",
            "==============================================================================\n",
            "Omnibus:                       60.323   Durbin-Watson:                   2.032\n",
            "Prob(Omnibus):                  0.000   Jarque-Bera (JB):              106.904\n",
            "Skew:                          -0.726   Prob(JB):                     6.11e-24\n",
            "Kurtosis:                       4.709   Cond. No.                         10.9\n",
            "==============================================================================\n",
            "\n",
            "Warnings:\n",
            "[1] Standard Errors assume that the covariance matrix of the errors is correctly specified.\n"
          ]
        }
      ]
    },
    {
      "cell_type": "markdown",
      "source": [
        "# **Model 7**\n",
        "**Insight:**Removing the variable 'mnth_3' based on its high 'p-value'."
      ],
      "metadata": {
        "id": "WoRqICfgQRI1"
      }
    },
    {
      "cell_type": "code",
      "source": [
        "X_train_new = X_train_new.drop([\"mnth_3\"], axis = 1)#droping mnth_3"
      ],
      "metadata": {
        "id": "AqUEq2WBQQiF"
      },
      "execution_count": 1758,
      "outputs": []
    },
    {
      "cell_type": "markdown",
      "source": [
        "**VIF: Model 7**"
      ],
      "metadata": {
        "id": "yznk_AHHScnB"
      }
    },
    {
      "cell_type": "code",
      "source": [
        "# Check  VIF\n",
        "from statsmodels.stats.outliers_influence import variance_inflation_factor\n",
        "vif = pd.DataFrame()\n",
        "vif['Features'] = X_train_new.columns\n",
        "vif['VIF'] = [variance_inflation_factor(X_train_new.values, i) for i in range(X_train_new.shape[1])]\n",
        "vif['VIF'] = round(vif['VIF'], 2)\n",
        "vif = vif.sort_values(by = \"VIF\", ascending = False)\n",
        "vif"
      ],
      "metadata": {
        "colab": {
          "base_uri": "https://localhost:8080/",
          "height": 332
        },
        "id": "RGToH0z0Qo4E",
        "outputId": "7baeadf2-114b-4de6-d380-13a282b7d2b9"
      },
      "execution_count": 1759,
      "outputs": [
        {
          "output_type": "execute_result",
          "data": {
            "text/plain": [
              "       Features   VIF\n",
              "1          temp  3.89\n",
              "2     windspeed  3.46\n",
              "0            yr  1.98\n",
              "3      season_2  1.56\n",
              "7  weathersit_2  1.48\n",
              "4      season_4  1.36\n",
              "5        mnth_9  1.19\n",
              "6     weekday_2  1.18\n",
              "8  weathersit_3  1.07"
            ],
            "text/html": [
              "\n",
              "  <div id=\"df-0d3903d6-ec9a-4205-b941-fc881697c4d4\">\n",
              "    <div class=\"colab-df-container\">\n",
              "      <div>\n",
              "<style scoped>\n",
              "    .dataframe tbody tr th:only-of-type {\n",
              "        vertical-align: middle;\n",
              "    }\n",
              "\n",
              "    .dataframe tbody tr th {\n",
              "        vertical-align: top;\n",
              "    }\n",
              "\n",
              "    .dataframe thead th {\n",
              "        text-align: right;\n",
              "    }\n",
              "</style>\n",
              "<table border=\"1\" class=\"dataframe\">\n",
              "  <thead>\n",
              "    <tr style=\"text-align: right;\">\n",
              "      <th></th>\n",
              "      <th>Features</th>\n",
              "      <th>VIF</th>\n",
              "    </tr>\n",
              "  </thead>\n",
              "  <tbody>\n",
              "    <tr>\n",
              "      <th>1</th>\n",
              "      <td>temp</td>\n",
              "      <td>3.89</td>\n",
              "    </tr>\n",
              "    <tr>\n",
              "      <th>2</th>\n",
              "      <td>windspeed</td>\n",
              "      <td>3.46</td>\n",
              "    </tr>\n",
              "    <tr>\n",
              "      <th>0</th>\n",
              "      <td>yr</td>\n",
              "      <td>1.98</td>\n",
              "    </tr>\n",
              "    <tr>\n",
              "      <th>3</th>\n",
              "      <td>season_2</td>\n",
              "      <td>1.56</td>\n",
              "    </tr>\n",
              "    <tr>\n",
              "      <th>7</th>\n",
              "      <td>weathersit_2</td>\n",
              "      <td>1.48</td>\n",
              "    </tr>\n",
              "    <tr>\n",
              "      <th>4</th>\n",
              "      <td>season_4</td>\n",
              "      <td>1.36</td>\n",
              "    </tr>\n",
              "    <tr>\n",
              "      <th>5</th>\n",
              "      <td>mnth_9</td>\n",
              "      <td>1.19</td>\n",
              "    </tr>\n",
              "    <tr>\n",
              "      <th>6</th>\n",
              "      <td>weekday_2</td>\n",
              "      <td>1.18</td>\n",
              "    </tr>\n",
              "    <tr>\n",
              "      <th>8</th>\n",
              "      <td>weathersit_3</td>\n",
              "      <td>1.07</td>\n",
              "    </tr>\n",
              "  </tbody>\n",
              "</table>\n",
              "</div>\n",
              "      <button class=\"colab-df-convert\" onclick=\"convertToInteractive('df-0d3903d6-ec9a-4205-b941-fc881697c4d4')\"\n",
              "              title=\"Convert this dataframe to an interactive table.\"\n",
              "              style=\"display:none;\">\n",
              "        \n",
              "  <svg xmlns=\"http://www.w3.org/2000/svg\" height=\"24px\"viewBox=\"0 0 24 24\"\n",
              "       width=\"24px\">\n",
              "    <path d=\"M0 0h24v24H0V0z\" fill=\"none\"/>\n",
              "    <path d=\"M18.56 5.44l.94 2.06.94-2.06 2.06-.94-2.06-.94-.94-2.06-.94 2.06-2.06.94zm-11 1L8.5 8.5l.94-2.06 2.06-.94-2.06-.94L8.5 2.5l-.94 2.06-2.06.94zm10 10l.94 2.06.94-2.06 2.06-.94-2.06-.94-.94-2.06-.94 2.06-2.06.94z\"/><path d=\"M17.41 7.96l-1.37-1.37c-.4-.4-.92-.59-1.43-.59-.52 0-1.04.2-1.43.59L10.3 9.45l-7.72 7.72c-.78.78-.78 2.05 0 2.83L4 21.41c.39.39.9.59 1.41.59.51 0 1.02-.2 1.41-.59l7.78-7.78 2.81-2.81c.8-.78.8-2.07 0-2.86zM5.41 20L4 18.59l7.72-7.72 1.47 1.35L5.41 20z\"/>\n",
              "  </svg>\n",
              "      </button>\n",
              "      \n",
              "  <style>\n",
              "    .colab-df-container {\n",
              "      display:flex;\n",
              "      flex-wrap:wrap;\n",
              "      gap: 12px;\n",
              "    }\n",
              "\n",
              "    .colab-df-convert {\n",
              "      background-color: #E8F0FE;\n",
              "      border: none;\n",
              "      border-radius: 50%;\n",
              "      cursor: pointer;\n",
              "      display: none;\n",
              "      fill: #1967D2;\n",
              "      height: 32px;\n",
              "      padding: 0 0 0 0;\n",
              "      width: 32px;\n",
              "    }\n",
              "\n",
              "    .colab-df-convert:hover {\n",
              "      background-color: #E2EBFA;\n",
              "      box-shadow: 0px 1px 2px rgba(60, 64, 67, 0.3), 0px 1px 3px 1px rgba(60, 64, 67, 0.15);\n",
              "      fill: #174EA6;\n",
              "    }\n",
              "\n",
              "    [theme=dark] .colab-df-convert {\n",
              "      background-color: #3B4455;\n",
              "      fill: #D2E3FC;\n",
              "    }\n",
              "\n",
              "    [theme=dark] .colab-df-convert:hover {\n",
              "      background-color: #434B5C;\n",
              "      box-shadow: 0px 1px 3px 1px rgba(0, 0, 0, 0.15);\n",
              "      filter: drop-shadow(0px 1px 2px rgba(0, 0, 0, 0.3));\n",
              "      fill: #FFFFFF;\n",
              "    }\n",
              "  </style>\n",
              "\n",
              "      <script>\n",
              "        const buttonEl =\n",
              "          document.querySelector('#df-0d3903d6-ec9a-4205-b941-fc881697c4d4 button.colab-df-convert');\n",
              "        buttonEl.style.display =\n",
              "          google.colab.kernel.accessAllowed ? 'block' : 'none';\n",
              "\n",
              "        async function convertToInteractive(key) {\n",
              "          const element = document.querySelector('#df-0d3903d6-ec9a-4205-b941-fc881697c4d4');\n",
              "          const dataTable =\n",
              "            await google.colab.kernel.invokeFunction('convertToInteractive',\n",
              "                                                     [key], {});\n",
              "          if (!dataTable) return;\n",
              "\n",
              "          const docLinkHtml = 'Like what you see? Visit the ' +\n",
              "            '<a target=\"_blank\" href=https://colab.research.google.com/notebooks/data_table.ipynb>data table notebook</a>'\n",
              "            + ' to learn more about interactive tables.';\n",
              "          element.innerHTML = '';\n",
              "          dataTable['output_type'] = 'display_data';\n",
              "          await google.colab.output.renderOutput(dataTable, element);\n",
              "          const docLink = document.createElement('div');\n",
              "          docLink.innerHTML = docLinkHtml;\n",
              "          element.appendChild(docLink);\n",
              "        }\n",
              "      </script>\n",
              "    </div>\n",
              "  </div>\n",
              "  "
            ]
          },
          "metadata": {},
          "execution_count": 1759
        }
      ]
    },
    {
      "cell_type": "markdown",
      "source": [
        "**Creating Model 7 and summary**"
      ],
      "metadata": {
        "id": "ZhxJ0AsFShx-"
      }
    },
    {
      "cell_type": "code",
      "source": [
        "\n",
        "X_train_lm7 = sm.add_constant(X_train_new)\n",
        "\n",
        "# Create a Seventh model\n",
        "lr7 = sm.OLS(y_train, X_train_lm7).fit()\n",
        "print(lr7.summary())"
      ],
      "metadata": {
        "colab": {
          "base_uri": "https://localhost:8080/"
        },
        "id": "JJ52g-YNQrVZ",
        "outputId": "abef016e-8e23-45c7-9ec4-e752a9614bbc"
      },
      "execution_count": 1760,
      "outputs": [
        {
          "output_type": "stream",
          "name": "stdout",
          "text": [
            "                            OLS Regression Results                            \n",
            "==============================================================================\n",
            "Dep. Variable:                    cnt   R-squared:                       0.821\n",
            "Model:                            OLS   Adj. R-squared:                  0.818\n",
            "Method:                 Least Squares   F-statistic:                     254.3\n",
            "Date:                Sat, 30 Jul 2022   Prob (F-statistic):          2.62e-180\n",
            "Time:                        16:32:01   Log-Likelihood:                 477.53\n",
            "No. Observations:                 510   AIC:                            -935.1\n",
            "Df Residuals:                     500   BIC:                            -892.7\n",
            "Df Model:                           9                                         \n",
            "Covariance Type:            nonrobust                                         \n",
            "================================================================================\n",
            "                   coef    std err          t      P>|t|      [0.025      0.975]\n",
            "--------------------------------------------------------------------------------\n",
            "const            0.1269      0.018      7.091      0.000       0.092       0.162\n",
            "yr               0.2310      0.009     27.017      0.000       0.214       0.248\n",
            "temp             0.5628      0.020     27.872      0.000       0.523       0.602\n",
            "windspeed       -0.1537      0.028     -5.550      0.000      -0.208      -0.099\n",
            "season_2         0.0823      0.011      7.701      0.000       0.061       0.103\n",
            "season_4         0.1270      0.011     11.665      0.000       0.106       0.148\n",
            "mnth_9           0.0958      0.016      5.926      0.000       0.064       0.128\n",
            "weekday_2       -0.0331      0.012     -2.801      0.005      -0.056      -0.010\n",
            "weathersit_2    -0.0732      0.009     -8.034      0.000      -0.091      -0.055\n",
            "weathersit_3    -0.3050      0.027    -11.112      0.000      -0.359      -0.251\n",
            "==============================================================================\n",
            "Omnibus:                       61.593   Durbin-Watson:                   2.029\n",
            "Prob(Omnibus):                  0.000   Jarque-Bera (JB):              115.599\n",
            "Skew:                          -0.718   Prob(JB):                     7.91e-26\n",
            "Kurtosis:                       4.838   Cond. No.                         10.8\n",
            "==============================================================================\n",
            "\n",
            "Warnings:\n",
            "[1] Standard Errors assume that the covariance matrix of the errors is correctly specified.\n"
          ]
        }
      ]
    },
    {
      "cell_type": "markdown",
      "source": [
        "# **Model 8**\n",
        "**Insight:**Removing the variable 'weekday_2' based on its high 'p-value'."
      ],
      "metadata": {
        "id": "GBee5GzSSrea"
      }
    },
    {
      "cell_type": "code",
      "source": [
        "X_train_new = X_train_new.drop([\"weekday_2\"], axis = 1)# removing weekday_2"
      ],
      "metadata": {
        "id": "R7Z1N5deSQ_m"
      },
      "execution_count": 1761,
      "outputs": []
    },
    {
      "cell_type": "markdown",
      "source": [
        "**VIF: Model 8**"
      ],
      "metadata": {
        "id": "CRaAn0C0S7F5"
      }
    },
    {
      "cell_type": "code",
      "source": [
        "# Check  VIF\n",
        "from statsmodels.stats.outliers_influence import variance_inflation_factor\n",
        "vif = pd.DataFrame()\n",
        "vif['Features'] = X_train_new.columns\n",
        "vif['VIF'] = [variance_inflation_factor(X_train_new.values, i) for i in range(X_train_new.shape[1])]\n",
        "vif['VIF'] = round(vif['VIF'], 2)\n",
        "vif = vif.sort_values(by = \"VIF\", ascending = False)\n",
        "vif"
      ],
      "metadata": {
        "colab": {
          "base_uri": "https://localhost:8080/",
          "height": 300
        },
        "id": "Xo32sR2qSUfE",
        "outputId": "879fee4a-2e9f-44a4-98bf-bc2217e06eef"
      },
      "execution_count": 1762,
      "outputs": [
        {
          "output_type": "execute_result",
          "data": {
            "text/plain": [
              "       Features   VIF\n",
              "1          temp  3.85\n",
              "2     windspeed  3.43\n",
              "0            yr  1.98\n",
              "3      season_2  1.56\n",
              "6  weathersit_2  1.48\n",
              "4      season_4  1.35\n",
              "5        mnth_9  1.19\n",
              "7  weathersit_3  1.07"
            ],
            "text/html": [
              "\n",
              "  <div id=\"df-8426880d-f8aa-4455-8f7d-24f2aea57bcb\">\n",
              "    <div class=\"colab-df-container\">\n",
              "      <div>\n",
              "<style scoped>\n",
              "    .dataframe tbody tr th:only-of-type {\n",
              "        vertical-align: middle;\n",
              "    }\n",
              "\n",
              "    .dataframe tbody tr th {\n",
              "        vertical-align: top;\n",
              "    }\n",
              "\n",
              "    .dataframe thead th {\n",
              "        text-align: right;\n",
              "    }\n",
              "</style>\n",
              "<table border=\"1\" class=\"dataframe\">\n",
              "  <thead>\n",
              "    <tr style=\"text-align: right;\">\n",
              "      <th></th>\n",
              "      <th>Features</th>\n",
              "      <th>VIF</th>\n",
              "    </tr>\n",
              "  </thead>\n",
              "  <tbody>\n",
              "    <tr>\n",
              "      <th>1</th>\n",
              "      <td>temp</td>\n",
              "      <td>3.85</td>\n",
              "    </tr>\n",
              "    <tr>\n",
              "      <th>2</th>\n",
              "      <td>windspeed</td>\n",
              "      <td>3.43</td>\n",
              "    </tr>\n",
              "    <tr>\n",
              "      <th>0</th>\n",
              "      <td>yr</td>\n",
              "      <td>1.98</td>\n",
              "    </tr>\n",
              "    <tr>\n",
              "      <th>3</th>\n",
              "      <td>season_2</td>\n",
              "      <td>1.56</td>\n",
              "    </tr>\n",
              "    <tr>\n",
              "      <th>6</th>\n",
              "      <td>weathersit_2</td>\n",
              "      <td>1.48</td>\n",
              "    </tr>\n",
              "    <tr>\n",
              "      <th>4</th>\n",
              "      <td>season_4</td>\n",
              "      <td>1.35</td>\n",
              "    </tr>\n",
              "    <tr>\n",
              "      <th>5</th>\n",
              "      <td>mnth_9</td>\n",
              "      <td>1.19</td>\n",
              "    </tr>\n",
              "    <tr>\n",
              "      <th>7</th>\n",
              "      <td>weathersit_3</td>\n",
              "      <td>1.07</td>\n",
              "    </tr>\n",
              "  </tbody>\n",
              "</table>\n",
              "</div>\n",
              "      <button class=\"colab-df-convert\" onclick=\"convertToInteractive('df-8426880d-f8aa-4455-8f7d-24f2aea57bcb')\"\n",
              "              title=\"Convert this dataframe to an interactive table.\"\n",
              "              style=\"display:none;\">\n",
              "        \n",
              "  <svg xmlns=\"http://www.w3.org/2000/svg\" height=\"24px\"viewBox=\"0 0 24 24\"\n",
              "       width=\"24px\">\n",
              "    <path d=\"M0 0h24v24H0V0z\" fill=\"none\"/>\n",
              "    <path d=\"M18.56 5.44l.94 2.06.94-2.06 2.06-.94-2.06-.94-.94-2.06-.94 2.06-2.06.94zm-11 1L8.5 8.5l.94-2.06 2.06-.94-2.06-.94L8.5 2.5l-.94 2.06-2.06.94zm10 10l.94 2.06.94-2.06 2.06-.94-2.06-.94-.94-2.06-.94 2.06-2.06.94z\"/><path d=\"M17.41 7.96l-1.37-1.37c-.4-.4-.92-.59-1.43-.59-.52 0-1.04.2-1.43.59L10.3 9.45l-7.72 7.72c-.78.78-.78 2.05 0 2.83L4 21.41c.39.39.9.59 1.41.59.51 0 1.02-.2 1.41-.59l7.78-7.78 2.81-2.81c.8-.78.8-2.07 0-2.86zM5.41 20L4 18.59l7.72-7.72 1.47 1.35L5.41 20z\"/>\n",
              "  </svg>\n",
              "      </button>\n",
              "      \n",
              "  <style>\n",
              "    .colab-df-container {\n",
              "      display:flex;\n",
              "      flex-wrap:wrap;\n",
              "      gap: 12px;\n",
              "    }\n",
              "\n",
              "    .colab-df-convert {\n",
              "      background-color: #E8F0FE;\n",
              "      border: none;\n",
              "      border-radius: 50%;\n",
              "      cursor: pointer;\n",
              "      display: none;\n",
              "      fill: #1967D2;\n",
              "      height: 32px;\n",
              "      padding: 0 0 0 0;\n",
              "      width: 32px;\n",
              "    }\n",
              "\n",
              "    .colab-df-convert:hover {\n",
              "      background-color: #E2EBFA;\n",
              "      box-shadow: 0px 1px 2px rgba(60, 64, 67, 0.3), 0px 1px 3px 1px rgba(60, 64, 67, 0.15);\n",
              "      fill: #174EA6;\n",
              "    }\n",
              "\n",
              "    [theme=dark] .colab-df-convert {\n",
              "      background-color: #3B4455;\n",
              "      fill: #D2E3FC;\n",
              "    }\n",
              "\n",
              "    [theme=dark] .colab-df-convert:hover {\n",
              "      background-color: #434B5C;\n",
              "      box-shadow: 0px 1px 3px 1px rgba(0, 0, 0, 0.15);\n",
              "      filter: drop-shadow(0px 1px 2px rgba(0, 0, 0, 0.3));\n",
              "      fill: #FFFFFF;\n",
              "    }\n",
              "  </style>\n",
              "\n",
              "      <script>\n",
              "        const buttonEl =\n",
              "          document.querySelector('#df-8426880d-f8aa-4455-8f7d-24f2aea57bcb button.colab-df-convert');\n",
              "        buttonEl.style.display =\n",
              "          google.colab.kernel.accessAllowed ? 'block' : 'none';\n",
              "\n",
              "        async function convertToInteractive(key) {\n",
              "          const element = document.querySelector('#df-8426880d-f8aa-4455-8f7d-24f2aea57bcb');\n",
              "          const dataTable =\n",
              "            await google.colab.kernel.invokeFunction('convertToInteractive',\n",
              "                                                     [key], {});\n",
              "          if (!dataTable) return;\n",
              "\n",
              "          const docLinkHtml = 'Like what you see? Visit the ' +\n",
              "            '<a target=\"_blank\" href=https://colab.research.google.com/notebooks/data_table.ipynb>data table notebook</a>'\n",
              "            + ' to learn more about interactive tables.';\n",
              "          element.innerHTML = '';\n",
              "          dataTable['output_type'] = 'display_data';\n",
              "          await google.colab.output.renderOutput(dataTable, element);\n",
              "          const docLink = document.createElement('div');\n",
              "          docLink.innerHTML = docLinkHtml;\n",
              "          element.appendChild(docLink);\n",
              "        }\n",
              "      </script>\n",
              "    </div>\n",
              "  </div>\n",
              "  "
            ]
          },
          "metadata": {},
          "execution_count": 1762
        }
      ]
    },
    {
      "cell_type": "markdown",
      "source": [
        "**Creating Model 8 and summary**"
      ],
      "metadata": {
        "id": "2iT9BLvJS_xY"
      }
    },
    {
      "cell_type": "code",
      "source": [
        "\n",
        "X_train_lm8 = sm.add_constant(X_train_new)\n",
        "\n",
        "# Create a eight model\n",
        "lr8 = sm.OLS(y_train, X_train_lm8).fit()\n",
        "print(lr8.summary())"
      ],
      "metadata": {
        "colab": {
          "base_uri": "https://localhost:8080/"
        },
        "id": "h17TPYD8SVeI",
        "outputId": "bd97778b-7f53-4836-f576-f43f6406b7c1"
      },
      "execution_count": 1763,
      "outputs": [
        {
          "output_type": "stream",
          "name": "stdout",
          "text": [
            "                            OLS Regression Results                            \n",
            "==============================================================================\n",
            "Dep. Variable:                    cnt   R-squared:                       0.818\n",
            "Model:                            OLS   Adj. R-squared:                  0.815\n",
            "Method:                 Least Squares   F-statistic:                     281.3\n",
            "Date:                Sat, 30 Jul 2022   Prob (F-statistic):          7.32e-180\n",
            "Time:                        16:32:01   Log-Likelihood:                 473.56\n",
            "No. Observations:                 510   AIC:                            -929.1\n",
            "Df Residuals:                     501   BIC:                            -891.0\n",
            "Df Model:                           8                                         \n",
            "Covariance Type:            nonrobust                                         \n",
            "================================================================================\n",
            "                   coef    std err          t      P>|t|      [0.025      0.975]\n",
            "--------------------------------------------------------------------------------\n",
            "const            0.1236      0.018      6.872      0.000       0.088       0.159\n",
            "yr               0.2309      0.009     26.824      0.000       0.214       0.248\n",
            "temp             0.5614      0.020     27.624      0.000       0.521       0.601\n",
            "windspeed       -0.1558      0.028     -5.587      0.000      -0.211      -0.101\n",
            "season_2         0.0820      0.011      7.621      0.000       0.061       0.103\n",
            "season_4         0.1262      0.011     11.513      0.000       0.105       0.148\n",
            "mnth_9           0.0961      0.016      5.908      0.000       0.064       0.128\n",
            "weathersit_2    -0.0733      0.009     -7.986      0.000      -0.091      -0.055\n",
            "weathersit_3    -0.3022      0.028    -10.943      0.000      -0.356      -0.248\n",
            "==============================================================================\n",
            "Omnibus:                       60.157   Durbin-Watson:                   2.026\n",
            "Prob(Omnibus):                  0.000   Jarque-Bera (JB):              115.864\n",
            "Skew:                          -0.694   Prob(JB):                     6.93e-26\n",
            "Kurtosis:                       4.877   Cond. No.                         10.7\n",
            "==============================================================================\n",
            "\n",
            "Warnings:\n",
            "[1] Standard Errors assume that the covariance matrix of the errors is correctly specified.\n"
          ]
        }
      ]
    },
    {
      "cell_type": "markdown",
      "source": [
        "**Insight:** The p-values for all the predictors appear to be significant, and  model 8 appears to have very low multicollinearity amongst the predictors. The Model 8 regard as our final model"
      ],
      "metadata": {
        "id": "mfAXcUkrTSOf"
      }
    },
    {
      "cell_type": "markdown",
      "source": [
        "# **Final Model**\n",
        "\n"
      ],
      "metadata": {
        "id": "TPA3PdT46NwQ"
      }
    },
    {
      "cell_type": "markdown",
      "source": [
        "Hypothesis Testing:\n",
        "\n",
        "\n",
        "H0:All coefficent=0 (Null hypothesis)\n",
        "\n",
        "H1: at least one coefficent !=0 "
      ],
      "metadata": {
        "id": "UgxduvJ3VQEi"
      }
    },
    {
      "cell_type": "markdown",
      "source": [
        "**lr8 model coefficient values**"
      ],
      "metadata": {
        "id": "Al6xiI5XYoPV"
      }
    },
    {
      "cell_type": "code",
      "source": [
        "lr8.params"
      ],
      "metadata": {
        "colab": {
          "base_uri": "https://localhost:8080/"
        },
        "id": "l57F9_DoYs-T",
        "outputId": "460aa2cd-bfa5-4f29-e5f3-e61e38fd5460"
      },
      "execution_count": 1764,
      "outputs": [
        {
          "output_type": "execute_result",
          "data": {
            "text/plain": [
              "const           0.123599\n",
              "yr              0.230940\n",
              "temp            0.561392\n",
              "windspeed      -0.155752\n",
              "season_2        0.081982\n",
              "season_4        0.126165\n",
              "mnth_9          0.096124\n",
              "weathersit_2   -0.073252\n",
              "weathersit_3   -0.302187\n",
              "dtype: float64"
            ]
          },
          "metadata": {},
          "execution_count": 1764
        }
      ]
    },
    {
      "cell_type": "markdown",
      "source": [
        "**Insights:**\n",
        "\n",
        "Model 8 summary,  all our coefficients are not equal to zero which means we reject null hypothesis(H0)\n",
        "\n",
        "F-statistic: 281.3\n",
        "\n",
        "Prob (F-statistic): 7.32e-180\n",
        "\n",
        "The F-Statistics value of  281.3 and the all states p-value approximately 0.0000 So overall model is significant"
      ],
      "metadata": {
        "id": "GysqW7E4ZTnm"
      }
    },
    {
      "cell_type": "markdown",
      "source": [
        "**Residual Analysis of the train data**"
      ],
      "metadata": {
        "id": "xFakM4iuX5GP"
      }
    },
    {
      "cell_type": "markdown",
      "source": [
        "**Assumption:**error terms are normally distributed with mean zero"
      ],
      "metadata": {
        "id": "JnggHRaja7yp"
      }
    },
    {
      "cell_type": "code",
      "source": [
        "y_train_pred = lr8.predict(X_train_lm8)"
      ],
      "metadata": {
        "id": "DsKO2bc_5-je"
      },
      "execution_count": 1765,
      "outputs": []
    },
    {
      "cell_type": "code",
      "source": [
        "res = y_train-y_train_pred\n",
        "fig = plt.figure()\n",
        "sns.distplot((res), bins = 20)\n",
        "fig.suptitle('error term', fontsize = 19)\n",
        "plt.xlabel('errors', fontsize = 17)  "
      ],
      "metadata": {
        "colab": {
          "base_uri": "https://localhost:8080/",
          "height": 333
        },
        "id": "drn5fTcb7K2-",
        "outputId": "3c59868b-6e46-4b47-d385-585c74edeb7c"
      },
      "execution_count": 1766,
      "outputs": [
        {
          "output_type": "execute_result",
          "data": {
            "text/plain": [
              "Text(0.5, 0, 'errors')"
            ]
          },
          "metadata": {},
          "execution_count": 1766
        },
        {
          "output_type": "display_data",
          "data": {
            "text/plain": [
              "<Figure size 432x288 with 1 Axes>"
            ],
            "image/png": "[encoded data removed]"
          },
          "metadata": {
            "needs_background": "light"
          }
        }
      ]
    },
    {
      "cell_type": "markdown",
      "source": [
        "**Insight:**\n",
        "Above histogram, the residuals are normally distributed. so the assumption for linear regression is valid."
      ],
      "metadata": {
        "id": "xlFDcBN7apeh"
      }
    },
    {
      "cell_type": "markdown",
      "source": [
        "# **Prediction using Model 8**"
      ],
      "metadata": {
        "id": "ND8JpTEt7y8g"
      }
    },
    {
      "cell_type": "markdown",
      "source": [
        "apply scaler to all numeric variables in test dataset."
      ],
      "metadata": {
        "id": "aDp2xKvYcO39"
      }
    },
    {
      "cell_type": "code",
      "source": [
        "num_vars = ['temp', 'atemp', 'hum', 'windspeed','cnt']\n",
        "\n",
        "df_test[num_vars] = scaler.transform(df_test[num_vars])"
      ],
      "metadata": {
        "id": "p5tyJRd27aVr"
      },
      "execution_count": 1767,
      "outputs": []
    },
    {
      "cell_type": "markdown",
      "source": [
        ""
      ],
      "metadata": {
        "id": "w8rpo6mzcc3W"
      }
    },
    {
      "cell_type": "code",
      "source": [
        "y_test = df_test.pop('cnt')\n",
        "X_test = df_test\n",
        "#Selecting the variables that were part of final model.\n",
        "col1=X_train_new.columns\n",
        "X_test=X_test[col1]\n",
        "# Adding constant variable to test dataframe\n",
        "X_test_lm8 = sm.add_constant(X_test)\n",
        "# Making predictions using the final model (lr6)\n",
        "y_pred = lr8.predict(X_test_lm8)"
      ],
      "metadata": {
        "id": "sJg3rHbC9o-y"
      },
      "execution_count": 1768,
      "outputs": []
    },
    {
      "cell_type": "markdown",
      "source": [
        "**Model Evaluation**"
      ],
      "metadata": {
        "id": "Z6yqZ0k1-RbF"
      }
    },
    {
      "cell_type": "code",
      "source": [
        "# Plotting y_test and y_pred to understand the spread\n",
        "\n",
        "fig = plt.figure()\n",
        "plt.scatter(y_test, y_pred, alpha=.5)\n",
        "fig.suptitle('y_test vs y_pred', fontsize = 20)              # Plot heading \n",
        "plt.xlabel('y_test', fontsize = 18)                          # X-label\n",
        "plt.ylabel('y_pred', fontsize = 16) \n",
        "plt.show()"
      ],
      "metadata": {
        "colab": {
          "base_uri": "https://localhost:8080/",
          "height": 316
        },
        "id": "_6bOEeCE-Qu0",
        "outputId": "98666b01-dece-4106-df5e-a09c96f530d9"
      },
      "execution_count": 1769,
      "outputs": [
        {
          "output_type": "display_data",
          "data": {
            "text/plain": [
              "<Figure size 432x288 with 1 Axes>"
            ],
            "image/png": "[encoded data removed]"
          },
          "metadata": {
            "needs_background": "light"
          }
        }
      ]
    },
    {
      "cell_type": "code",
      "source": [
        "from sklearn.metrics import r2_score\n",
        "r2_score(y_test, y_pred)"
      ],
      "metadata": {
        "colab": {
          "base_uri": "https://localhost:8080/"
        },
        "id": "gseyBSWK7ycm",
        "outputId": "47f82c3b-151b-4d0a-ed43-0d11f505ca3a"
      },
      "execution_count": 1770,
      "outputs": [
        {
          "output_type": "execute_result",
          "data": {
            "text/plain": [
              "0.8067023927509684"
            ]
          },
          "metadata": {},
          "execution_count": 1770
        }
      ]
    },
    {
      "cell_type": "markdown",
      "source": [
        "# **Final Report**"
      ],
      "metadata": {
        "id": "Q-Ied1jFhddc"
      }
    },
    {
      "cell_type": "markdown",
      "source": [
        "***Outcome: The variables that are significant in predicting the demand for shared bikes (at least 3).***"
      ],
      "metadata": {
        "id": "MaoIqUFllyaq"
      }
    },
    {
      "cell_type": "code",
      "source": [
        "lr8.params"
      ],
      "metadata": {
        "colab": {
          "base_uri": "https://localhost:8080/"
        },
        "id": "z1FpJbKAkCdz",
        "outputId": "1a004192-e869-442b-e9a3-ac55497c05d8"
      },
      "execution_count": 1771,
      "outputs": [
        {
          "output_type": "execute_result",
          "data": {
            "text/plain": [
              "const           0.123599\n",
              "yr              0.230940\n",
              "temp            0.561392\n",
              "windspeed      -0.155752\n",
              "season_2        0.081982\n",
              "season_4        0.126165\n",
              "mnth_9          0.096124\n",
              "weathersit_2   -0.073252\n",
              "weathersit_3   -0.302187\n",
              "dtype: float64"
            ]
          },
          "metadata": {},
          "execution_count": 1771
        }
      ]
    },
    {
      "cell_type": "markdown",
      "source": [
        "**the top three variables that influences the bike hiring are:**\n",
        "\n",
        "\n",
        "**temp (Temperature)**\n",
        "\n",
        "The coefficient value of temp is 0.561392 . So the unit increase in temp variable increase the bike hiring count by 0.5613 units.\n",
        "\n",
        "**weathersit_3**\n",
        "\n",
        "The coefficient value Weathersit_3 is -0.302187.The unit increase in Weathersit_3 variable decrease the bike hire count by 0.3021 units.\n",
        "\n",
        "**yr (Year)**\n",
        "\n",
        "The coefficient value of year is  0.230940. The unit increase in yr variable increases the bike hire count by  0.230940 units.\n",
        "\n",
        "**Others varibles influence in bike hiring:**\n",
        "\n",
        "**season_4 and windspeed**: the coefficent value 0.126165 and  -0.155752 repectively. So season_4 increses the bike hire count with 0.1261 units and windspeed decrease the bike hire 0.15575 units\n",
        "\n",
        "    "
      ],
      "metadata": {
        "id": "mnsfN5-uh8eT"
      }
    }
  ]
}